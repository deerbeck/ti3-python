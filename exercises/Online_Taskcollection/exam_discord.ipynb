{
 "cells": [
  {
   "cell_type": "markdown",
   "metadata": {},
   "source": [
    "### Aufgabe 1"
   ]
  },
  {
   "cell_type": "code",
   "execution_count": 3,
   "metadata": {},
   "outputs": [],
   "source": [
    "def fslice(filename, p1, p2 = 5):\n",
    "    with open(filename, \"r\") as file:\n",
    "        l = file.readlines()\n",
    "        \n",
    "        return l[p1:p1-p2:-1] if p1-p2 >0 else l[p1:0:-1]"
   ]
  },
  {
   "cell_type": "markdown",
   "metadata": {},
   "source": [
    "### Aufgabe 2"
   ]
  },
  {
   "cell_type": "code",
   "execution_count": 11,
   "metadata": {},
   "outputs": [
    {
     "name": "stdout",
     "output_type": "stream",
     "text": [
      "333366\n",
      "107846\n"
     ]
    }
   ],
   "source": [
    "class Ober():\n",
    "    def __init__(self, wert: int)->None:\n",
    "        self.data = wert\n",
    "        self.__FAKTOR = 42\n",
    "        self.__MODUL = 2**17-1\n",
    "    \n",
    "    @property\n",
    "    def data(self):\n",
    "        return self.__data\n",
    "    @data.setter \n",
    "    def data(self, wert):\n",
    "        if wert <200000:\n",
    "            raise ValueError(\"Wert zu klein.\")\n",
    "        elif wert > 400000:\n",
    "            raise ValueError(\"Wert zu groß.\")\n",
    "        else:\n",
    "            self.__data = wert\n",
    "    \n",
    "    def check(self):\n",
    "        return (self.__data*self.__FAKTOR)%(self.__MODUL)\n",
    "    \n",
    "if __name__ == \"__main__\":\n",
    "    o = Ober(333333)\n",
    "    o.data = o.data +33\n",
    "    print(o.data)\n",
    "    print(o.check())\n"
   ]
  },
  {
   "cell_type": "markdown",
   "metadata": {},
   "source": [
    "### Aufgabe 3"
   ]
  },
  {
   "cell_type": "code",
   "execution_count": 16,
   "metadata": {},
   "outputs": [
    {
     "name": "stdout",
     "output_type": "stream",
     "text": [
      "3\n"
     ]
    }
   ],
   "source": [
    "def countRek(l: list):\n",
    "    if len(l) == 0 or l == None:\n",
    "        return 0\n",
    "    if (-0.7<l[0]<1.3 or -5.9<l[0]<-3.8) and l[0]<0:\n",
    "        return 1 + countRek(l[1:])\n",
    "    else:\n",
    "        return 0 + countRek(l[1:])\n",
    "    \n",
    "\n",
    "l = [-1,-1,-2,-0.1,-0.2,-0.1]\n",
    "print(countRek(l))"
   ]
  },
  {
   "cell_type": "markdown",
   "metadata": {},
   "source": [
    "### Aufgabe 4"
   ]
  },
  {
   "cell_type": "code",
   "execution_count": null,
   "metadata": {},
   "outputs": [],
   "source": [
    "def flip(l: list):\n",
    "    return [c.lower() for c in l[::2]]"
   ]
  },
  {
   "cell_type": "markdown",
   "metadata": {},
   "source": [
    "### Aufgabe 5"
   ]
  },
  {
   "cell_type": "code",
   "execution_count": null,
   "metadata": {},
   "outputs": [],
   "source": [
    "##Antwort: \"0,1,4,5,6\""
   ]
  },
  {
   "cell_type": "markdown",
   "metadata": {},
   "source": [
    "### Aufgabe 6"
   ]
  },
  {
   "cell_type": "code",
   "execution_count": null,
   "metadata": {},
   "outputs": [],
   "source": [
    "class Unter(Ober):\n",
    "    def __init__(self, wert:int,wert2:str):\n",
    "        super().__init__(wert)\n",
    "        c = 0\n",
    "        for c in wert2:\n",
    "            if 65 <= ord(c) <=90:\n",
    "                c+=1\n",
    "        if c >1:\n",
    "            raise ValueError(\"Zu viele Großbuchstaben\")\n",
    "        else:\n",
    "            self.__data2 = wert2\n",
    "    def check(self):\n",
    "        return (ord(self.__data2)*self.__data)%super().check(self)"
   ]
  },
  {
   "cell_type": "markdown",
   "metadata": {},
   "source": [
    "### Aufgabe 7"
   ]
  },
  {
   "cell_type": "code",
   "execution_count": 5,
   "metadata": {},
   "outputs": [
    {
     "name": "stdout",
     "output_type": "stream",
     "text": [
      "19 58\n"
     ]
    }
   ],
   "source": [
    "def gen3np1(n):\n",
    "    yield n\n",
    "    while(n!=1):\n",
    "        if n %2 == 0:\n",
    "            n /=2\n",
    "        else:\n",
    "            n = 3*n+1\n",
    "        yield n\n",
    "    if n == 1:\n",
    "        n-=1\n",
    "        yield 1\n",
    "        \n",
    "\n",
    "\n",
    "\n",
    "test = gen3np1(19)\n",
    "print(next(test), next(test))"
   ]
  },
  {
   "cell_type": "markdown",
   "metadata": {},
   "source": [
    "### Aufgabe 8"
   ]
  },
  {
   "cell_type": "code",
   "execution_count": null,
   "metadata": {},
   "outputs": [],
   "source": [
    "###Antwort: a)True\n",
    "b) False\n",
    "c) True\n",
    "d) True\n",
    "e) True"
   ]
  },
  {
   "cell_type": "markdown",
   "metadata": {},
   "source": [
    "### Aufgabe 9"
   ]
  },
  {
   "cell_type": "code",
   "execution_count": null,
   "metadata": {},
   "outputs": [],
   "source": [
    "##hell"
   ]
  }
 ],
 "metadata": {
  "kernelspec": {
   "display_name": "base",
   "language": "python",
   "name": "python3"
  },
  "language_info": {
   "codemirror_mode": {
    "name": "ipython",
    "version": 3
   },
   "file_extension": ".py",
   "mimetype": "text/x-python",
   "name": "python",
   "nbconvert_exporter": "python",
   "pygments_lexer": "ipython3",
   "version": "3.9.16"
  },
  "orig_nbformat": 4
 },
 "nbformat": 4,
 "nbformat_minor": 2
}
