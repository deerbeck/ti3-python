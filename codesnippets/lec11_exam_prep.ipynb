{
 "cells": [
  {
   "attachments": {},
   "cell_type": "markdown",
   "metadata": {},
   "source": [
    "## Aufgabe List-Comprehension"
   ]
  },
  {
   "attachments": {},
   "cell_type": "markdown",
   "metadata": {},
   "source": [
    "Schreiben Sie ein Python-Programm, das eine Liste von ganzen Zahlen per User-Input einliest und dann verschiedene Operationen mit List Comprehensions durchführt. Implementieren Sie die folgenden Funktionen:\n",
    "\n",
    "1. Funktion `quadriere_liste(lst)`: Diese Funktion nimmt eine Liste von ganzen Zahlen entgegen und gibt eine neue Liste zurück, in der jedes Element das Quadrat des entsprechenden Elements aus der ursprünglichen Liste ist. \n",
    "\n",
    "2. Funktion `filtere_gerade(lst)`: Diese Funktion nimmt eine Liste von ganzen Zahlen entgegen und gibt eine neue Liste zurück, die nur die geraden Zahlen aus der ursprünglichen Liste enthält.\n",
    "\n",
    "3. Funktion `verdopple_kleiner_10(lst)`: Diese Funktion nimmt eine Liste von ganzen Zahlen entgegen und gibt eine neue Liste zurück, in der jedes Element kleiner als 10 ist und das doppelte des entsprechenden Elements aus der ursprünglichen Liste ist.\n",
    "\n",
    "Implementieren Sie die oben genannten Funktionen und schreiben Sie ein Hauptprogramm, das den Benutzer nach einer Liste von Zahlen fragt, die Anwendung der List Comprehensions durchführt und die Ergebnisse ausgibt.\n",
    "\n",
    "Hinweis: Eine Lösung ohne List-Comprehension gibt keine Punkte.\n"
   ]
  },
  {
   "cell_type": "code",
   "execution_count": 6,
   "metadata": {},
   "outputs": [],
   "source": [
    "def quadriere_liste(lst):\n",
    "    return [x**2 for x in lst]\n",
    "\n",
    "def filtere_gerade(lst):\n",
    "    return [x for x in lst  if x % 2 == 0]\n",
    "\n",
    "def verdopple_kleiner_10(lst):\n",
    "    return [x*2 for x in lst  if x < 10 ]"
   ]
  },
  {
   "cell_type": "code",
   "execution_count": 7,
   "metadata": {},
   "outputs": [
    {
     "name": "stdout",
     "output_type": "stream",
     "text": [
      "Ihre ursprüngliche Liste: [1, 2, 3, 4, 56, 9, 12]\n",
      "Ihre quadrierte Liste: [1, 4, 9, 16, 3136, 81, 144]\n",
      "Ihre gerade Liste: [2, 4, 56, 12]\n",
      "Ihre verdoppelte der kleiner 10 Liste: [2, 4, 6, 8, 18]\n"
     ]
    }
   ],
   "source": [
    "str_in = input(\"Bitte geben Sie ihre List von ganzen Zahlen durch Leerzeichen getrennt an (keine eckigen Klammern erforderlich):\")\n",
    "\n",
    "list_str = str_in.split(\" \")\n",
    "\n",
    "list_int = [int(x) for x in list_str]\n",
    "\n",
    "print(f\"Ihre ursprüngliche Liste: {list_int}\")\n",
    "print(f\"Ihre quadrierte Liste: {quadriere_liste(list_int)}\")\n",
    "print(f\"Ihre gerade Liste: {filtere_gerade(list_int)}\")\n",
    "print(f\"Ihre verdoppelte der kleiner 10 Liste: {verdopple_kleiner_10(list_int)}\")"
   ]
  },
  {
   "attachments": {},
   "cell_type": "markdown",
   "metadata": {},
   "source": [
    "## Aufgabe Objektorientierung"
   ]
  },
  {
   "attachments": {},
   "cell_type": "markdown",
   "metadata": {},
   "source": [
    "Gegeben ist ein Klassendiagramm für eine Queue zur Verwaltung von chemischen Elementen. Implementieren Sie die entsprechenden Klassen mit Vererbung, um die Queue-Funktionalität umzusetzen.\n",
    "Implementieren Sie die Klasse `Queue`, die die grundlegende Funktionalität einer Warteschlange bereitstellt. Implementieren Sie dann die Klasse `ChemicalQueue`, die von `Queue` erbt und eine Warteschlange für chemische Elemente verwaltet. Die Klasse `ChemicalQueue` sollte zusätzlich die Methode `add_chemical()` enthalten.\n",
    "\n",
    "Die Klassen sollten die folgenden Methoden enthalten:\n",
    "\n",
    "Klasse `Queue`:\n",
    "- `enqueue(element: str): None` - Fügen Sie ein Element zur Warteschlange hinzu.\n",
    "- `dequeue(): str` - Entfernen und geben Sie das Element zurück, das sich am Anfang der Warteschlange befindet.\n",
    "- `is_empty(): bool` - Überprüfen Sie, ob die Warteschlange leer ist. Geben Sie `True` zurück, wenn die Warteschlange leer ist, andernfalls `False`.\n",
    "- `size(): int` - Geben Sie die Anzahl der Elemente in der Warteschlange zurück.\n",
    "\n",
    "Klasse `ChemicalQueue` (erbt von `Queue`):\n",
    "- `add_chemical(element: str): None` - Fügen Sie ein chemisches Element zur Warteschlange hinzu. (Diese Methode erweitert die grundlegende Funktionalität der `Queue`-Klasse.)\n",
    "\n",
    "Hinweise:\n",
    "- Denken Sie daran, dass das Element, das als erstes in die Warteschlange eingefügt wurde, auch als erstes entfernt werden sollte (FIFO-Prinzip)."
   ]
  },
  {
   "cell_type": "code",
   "execution_count": 8,
   "metadata": {},
   "outputs": [],
   "source": [
    "class Queue:\n",
    "    def __init__(self) -> None:\n",
    "        self.__elements = []\n",
    "    \n",
    "    def enqueue(self, element: str) -> None:\n",
    "        self.__elements.append(element)\n",
    "    \n",
    "    def dequeue(self) -> str:\n",
    "        return self.__elements.pop(0)\n",
    "    \n",
    "    def is_empty(self) -> bool:\n",
    "        return len(self.__elements) == 0\n",
    "    \n",
    "    def size(self) -> int:\n",
    "        return len(self.__elements)\n",
    "    \n",
    "class ChemicalQueue(Queue):\n",
    "    def __init__(self) -> None:\n",
    "        super().__init__()\n",
    "    \n",
    "    def add_chemical(self, element: str) -> None:\n",
    "        self.enqueue(element)\n",
    "\n",
    "\n"
   ]
  },
  {
   "cell_type": "code",
   "execution_count": 10,
   "metadata": {},
   "outputs": [
    {
     "name": "stdout",
     "output_type": "stream",
     "text": [
      "Stickstoff\n",
      "Sauerstoff\n",
      "Deine Mom\n",
      "0\n",
      "True\n"
     ]
    }
   ],
   "source": [
    "chem_que = ChemicalQueue()\n",
    "\n",
    "chem_que.add_chemical(\"Stickstoff\")\n",
    "chem_que.add_chemical(\"Sauerstoff\")\n",
    "chem_que.enqueue(\"Deine Mom\")\n",
    "print(chem_que.dequeue())\n",
    "print(chem_que.dequeue())\n",
    "print(chem_que.dequeue())\n",
    "print(chem_que.size())\n",
    "print(chem_que.is_empty())"
   ]
  },
  {
   "attachments": {},
   "cell_type": "markdown",
   "metadata": {},
   "source": [
    "## Aufgabe Context-Manager"
   ]
  },
  {
   "attachments": {},
   "cell_type": "markdown",
   "metadata": {},
   "source": [
    "Implementiere einen Kontextmanager, der die Ressource \"Fahrzeug\" verwaltet und automatisch das Starten und Beenden eines autonomen Fahrzeugs steuert.\n",
    "\n",
    "Implementieren Sie hierfür zunächst den Kontextmanager `VehicleManager`, der die Ressource \"Fahrzeug\" verwaltet. Der Kontextmanager sollte die folgenden Methoden haben:\n",
    "\n",
    "- Eintritt in den Kontext: Startet das Fahrzeug und gibt eine Referenz auf das Fahrzeugobjekt zurück.\n",
    "- Verlassen des Kontext: Beendet das Fahrzeug und gibt eventuelle Ausnahmen weiter, falls sie auftreten.\n",
    "\n",
    "Verwenden Sie dann den `VehicleManager`-Kontextmanager, um ein autonomes Fahrzeug zu steuern. Das Fahrzeugobjekt kann eine fiktive Aktionssequenz durchführen, wie beispielsweise \"Beschleunigen\", \"Bremsen\" oder \"Lenken\". Implementiere eine Funktion `drive_vehicle()`, die das Fahrzeugobjekt verwendet und verschiedene Aktionen ausführt.\n",
    "\n",
    "Die Musterlösung enthält bereits die Implementierung der Klasse `Vehicle`. "
   ]
  },
  {
   "cell_type": "code",
   "execution_count": 29,
   "metadata": {},
   "outputs": [
    {
     "name": "stdout",
     "output_type": "stream",
     "text": [
      "Vehicle started.\n",
      "Vehicle accelerated.\n",
      "Vehicle steered.\n",
      "Vehicle braked.\n",
      "Vehicle stopped.\n",
      "Fahreug wurde beendet.\n"
     ]
    }
   ],
   "source": [
    "class Vehicle:\n",
    "    def start(self):\n",
    "        print(\"Vehicle started.\")\n",
    "\n",
    "    def stop(self):\n",
    "        print(\"Vehicle stopped.\")\n",
    "\n",
    "    def accelerate(self):\n",
    "        print(\"Vehicle accelerated.\")\n",
    "\n",
    "    def brake(self):\n",
    "        print(\"Vehicle braked.\")\n",
    "\n",
    "    def steer(self):\n",
    "        print(\"Vehicle steered.\")\n",
    "\n",
    "\n",
    "class VehicleManager:\n",
    "    def __enter__(self):\n",
    "        self.car = Vehicle()\n",
    "        self.car.start()\n",
    "        return self.car\n",
    "\n",
    "    def __exit__(self, exc_type, exc_val, exc_tb):\n",
    "        try: \n",
    "            del self.car\n",
    "            print(\"Fahreug wurde beendet.\")\n",
    "        except NotImplementedError:\n",
    "            raise NotImplementedError(\"Auto konnte nicht zerstört werden\")\n",
    "\n",
    "\n",
    "def drive_vehicle(car: Vehicle):\n",
    "    car.accelerate()\n",
    "    car.steer()\n",
    "    car.brake()\n",
    "    car.stop()\n",
    "    \n",
    "\n",
    "\n",
    "# Beispielanwendung:\n",
    "with VehicleManager() as car:\n",
    "    drive_vehicle(car)"
   ]
  },
  {
   "attachments": {},
   "cell_type": "markdown",
   "metadata": {},
   "source": [
    "## Aufgabe Rekursion"
   ]
  },
  {
   "attachments": {},
   "cell_type": "markdown",
   "metadata": {},
   "source": [
    "Implementieren Sie eine rekursive Funktion `binary_search(nums: List[int], target: int) -> bool`, die die binäre Suche verwendet, um zu überprüfen, ob ein bestimmtes Zielwert `target` in einer sortierten Liste von Zahlen `nums` vorhanden ist. Die Funktion soll True zurückgeben, wenn das Zielwert gefunden wurde, andernfalls False.\n",
    "\n",
    "a) Implementiere die rekursive Funktion `binary_search()`, die die binäre Suche verwendet, um das Zielwert `target` in der sortierten Liste `nums` zu finden. Die Funktion sollte folgendermaßen funktionieren:\n",
    "\n",
    "- Überprüfe zuerst, ob die Länge der Liste kleiner oder gleich 0 ist. Wenn ja, gib False zurück, da der Zielwert nicht gefunden werden kann.\n",
    "- Finde den mittleren Index der Liste.\n",
    "- Überprüfe, ob der Wert an der mittleren Position gleich dem Zielwert ist. Wenn ja, gib True zurück.\n",
    "- Andernfalls überprüfe, ob der Wert an der mittleren Position größer oder kleiner als der Zielwert ist. Wenn er kleiner ist, rufe die `binary_search()`-Funktion rekursiv mit der rechten Hälfte der Liste auf. Wenn er größer ist, rufe sie rekursiv mit der linken Hälfte der Liste auf.\n",
    "\n",
    "b) Rufen Sie die Funktion dann mit `binary_search(nums, target)` und einer sortierten Liste von Zahlen und einem Zielwert auf und überprüfe, ob der Zielwert in der Liste vorhanden ist."
   ]
  },
  {
   "cell_type": "code",
   "execution_count": 11,
   "metadata": {},
   "outputs": [
    {
     "data": {
      "text/plain": [
       "True"
      ]
     },
     "execution_count": 11,
     "metadata": {},
     "output_type": "execute_result"
    }
   ],
   "source": [
    "def binary_search(nums: list[int], target: int) -> bool:\n",
    "    if len(nums) <= 0:\n",
    "        return False\n",
    "    \n",
    "    list_mid = int(len(nums)/2)\n",
    "\n",
    "    if nums[list_mid] == target:\n",
    "        return True\n",
    "    elif len(nums) == 1:\n",
    "        return False\n",
    "    \n",
    "    test = nums[:list_mid]\n",
    "    test2 = nums[list_mid:]\n",
    "\n",
    "    return binary_search(nums[list_mid:], target) if nums[list_mid] < target else binary_search(nums[:list_mid], target)\n",
    "    \n",
    "nums = [0, 1, 2, 3,6,8,9,12,14,16,33,45,65]\n",
    "target = 14\n",
    "\n",
    "binary_search(nums, target)"
   ]
  },
  {
   "attachments": {},
   "cell_type": "markdown",
   "metadata": {},
   "source": [
    "## Aufgabe Rekursion (another one)"
   ]
  },
  {
   "attachments": {},
   "cell_type": "markdown",
   "metadata": {},
   "source": [
    "Implementieren Sie eine rekursive Funktion `recursive_sum(n: int) -> int`, die die Quersumme einer gegebenen Zahl `n` berechnet und zurückgibt. Die Quersumme einer Zahl ist die Summe aller Ziffern der Zahl.\n",
    "\n",
    "a) Implementieren Sie die rekursive Funktion `recursive_sum()`, die die Quersumme einer Zahl berechnet. Die Funktion sollte folgendermaßen funktionieren:\n",
    "\n",
    "- Überprüfe zuerst, ob die Zahl kleiner oder gleich 0 ist. Wenn ja, gib 0 zurück.\n",
    "- Wenn die Zahl größer als 0 ist, ermittle die letzte Ziffer der Zahl.\n",
    "- Berechne die Quersumme der restlichen Zahlen durch den rekursiven Aufruf der Funktion.\n",
    "- Addiere die letzte Ziffer zur berechneten Quersumme der restlichen Zahlen.\n",
    "- Gib das Ergebnis zurück.\n",
    "\n",
    "b) Rufe die Funktion `recursive_sum(n)` mit einer beliebigen Zahl `n` auf und gib das Ergebnis aus."
   ]
  },
  {
   "cell_type": "code",
   "execution_count": 4,
   "metadata": {},
   "outputs": [
    {
     "name": "stdout",
     "output_type": "stream",
     "text": [
      "15\n"
     ]
    }
   ],
   "source": [
    "def recursive_sum(n: int) -> int:\n",
    "    if n <= 0:\n",
    "        return 0\n",
    "    if len(str(n)) == 1:\n",
    "        return n\n",
    "    return int(str((n))[-1]) + recursive_sum(int(str((n))[:-1]))\n",
    "    \n",
    "\n",
    "print(recursive_sum(12345))"
   ]
  },
  {
   "attachments": {},
   "cell_type": "markdown",
   "metadata": {},
   "source": [
    "## Generator-Funktionen"
   ]
  },
  {
   "attachments": {},
   "cell_type": "markdown",
   "metadata": {},
   "source": [
    "Implementieren Sie eine Generator-Funktion `odd_numbers(start: int, end: int)` in Python, die alle ungeraden Zahlen zwischen einer gegebenen Start- und Endzahl generiert (einschließlich der Start- und Endzahl, wenn sie ungerade sind).\n",
    "\n",
    "Rufe die Generator-Funktion `odd_numbers(start, end)` auf und iteriere über die generierten Zahlen. Gib alle ungeraden Zahlen zwischen 1 und 20 aus."
   ]
  },
  {
   "cell_type": "code",
   "execution_count": 18,
   "metadata": {},
   "outputs": [
    {
     "name": "stdout",
     "output_type": "stream",
     "text": [
      "1\n",
      "3\n",
      "5\n",
      "7\n",
      "9\n",
      "11\n",
      "13\n",
      "15\n",
      "17\n",
      "19\n",
      "21\n"
     ]
    }
   ],
   "source": [
    "def odd_numbers(start: int, end: int):\n",
    "    for i in range(start, end+1):\n",
    "        if i % 2 != 0:\n",
    "            yield i\n",
    "\n",
    "for j in odd_numbers(0,21):\n",
    "    print(j)"
   ]
  },
  {
   "attachments": {},
   "cell_type": "markdown",
   "metadata": {},
   "source": [
    "## Aufgabe Persistenz"
   ]
  },
  {
   "attachments": {},
   "cell_type": "markdown",
   "metadata": {},
   "source": [
    "Gegeben ist eine Textdatei mit dem Namen \"noten.txt\". Jede Zeile in der Datei enthält den Namen eines Studenten gefolgt von seinen Noten, getrennt durch Leerzeichen. Implementiere ein Python-Programm, das die folgenden Schritte durchführt:\n",
    "\n",
    "1. Lese den Inhalt der Datei \"noten.txt\" ein und speichere ihn in einer Variablen.\n",
    "2. Berechne den Durchschnitt (arithmetisches Mittel) der Noten für jeden Studenten.\n",
    "3. Speichere den Namen des Studenten und seinen Durchschnitt in einer neuen Textdatei mit dem Namen \"noten_durchschnitt.txt\".\n",
    "\n",
    "#### Hinweis\n",
    "Nutzen Sie die `split()`-Funktion. Der `split()`-Funktion wird ein Trennzeichen übergeben, und sie teilt den gegebenen String an den Stellen auf, an denen das Trennzeichen vorkommt. Hier ist ein Beispiel, wie die `split()`-Funktion verwendet wird: \n",
    "\n",
    "```python\n",
    "string = \"TI3 Prüfung ist einfach\"\n",
    "data = string.split(\" \")\n",
    "print(data)\n",
    "```\n",
    "Dieses Beispiel teilt den String `line` an den Stellen auf, an denen Leerzeichen vorkommen, und gibt eine Liste von separaten Wörtern aus:\n",
    "\n",
    "```\n",
    "['TI3', 'Prüfung', 'ist', 'einfach]\n",
    "```"
   ]
  },
  {
   "cell_type": "code",
   "execution_count": 19,
   "metadata": {},
   "outputs": [],
   "source": [
    "with open(\"noten.txt\", \"r\") as f:\n",
    "    students = f.readlines()\n",
    "    students = [student.strip(\"\\n\") for student in students]\n",
    "    grade_average = []\n",
    "    for student in students:\n",
    "        data = student.split(\" \")\n",
    "        grades = [int(x) for x in data[1:]]\n",
    "        \n",
    "        average = sum(grades)/len(grades)\n",
    "        grade_average.append(f\"{data[0]} {average}\\n\")\n",
    "    \n",
    "    with open(\"noten_durchschnitt.txt\", \"w\") as af:\n",
    "        af.write(\"\".join(grade_average))\n"
   ]
  },
  {
   "attachments": {},
   "cell_type": "markdown",
   "metadata": {},
   "source": []
  },
  {
   "attachments": {},
   "cell_type": "markdown",
   "metadata": {},
   "source": [
    "## One more word to the copy by reference problem from last lecture"
   ]
  },
  {
   "cell_type": "code",
   "execution_count": 5,
   "metadata": {},
   "outputs": [
    {
     "data": {
      "text/plain": [
       "[' ', 'X', ' ', ' ', ' ']"
      ]
     },
     "execution_count": 5,
     "metadata": {},
     "output_type": "execute_result"
    }
   ],
   "source": [
    "## create a list with five empty elememst\n",
    "list = 5*[' '] \n",
    "# no problem to access single elements in the list since the list has been created before\n",
    "list[1] = \"X\"\n",
    "list"
   ]
  },
  {
   "attachments": {},
   "cell_type": "markdown",
   "metadata": {},
   "source": [
    "If you create a new list by existing lists you essentially using references and lists are not copied:"
   ]
  },
  {
   "cell_type": "code",
   "execution_count": 6,
   "metadata": {},
   "outputs": [
    {
     "name": "stdout",
     "output_type": "stream",
     "text": [
      "[[' ', 'X', ' ', ' ', ' '], [' ', 'X', ' ', ' ', ' '], [' ', 'X', ' ', ' ', ' '], [' ', 'X', ' ', ' ', ' '], [' ', 'X', ' ', ' ', ' ']]\n"
     ]
    }
   ],
   "source": [
    "## create a list with five empty elememst\n",
    "list = 5*[' '] \n",
    "# if you do that (i.e. create a new list from list references)\n",
    "newlist = 5*[list]\n",
    "# a modification is affecting all references of the list\n",
    "# above is essntially the same as: newlist = 5*[5*[' ']]\n",
    "newlist[1][1] = \"X\"\n",
    "print(newlist)"
   ]
  },
  {
   "attachments": {},
   "cell_type": "markdown",
   "metadata": {},
   "source": [
    "Any modifications made to one sublist will be reflected in all the other sublists because they are essentially the same object."
   ]
  }
 ],
 "metadata": {
  "kernelspec": {
   "display_name": "django",
   "language": "python",
   "name": "python3"
  },
  "language_info": {
   "codemirror_mode": {
    "name": "ipython",
    "version": 3
   },
   "file_extension": ".py",
   "mimetype": "text/x-python",
   "name": "python",
   "nbconvert_exporter": "python",
   "pygments_lexer": "ipython3",
   "version": "3.9.16"
  },
  "orig_nbformat": 4
 },
 "nbformat": 4,
 "nbformat_minor": 2
}
