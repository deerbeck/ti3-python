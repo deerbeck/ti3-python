{
 "cells": [
  {
   "cell_type": "markdown",
   "metadata": {},
   "source": [
    "# Imports"
   ]
  },
  {
   "cell_type": "code",
   "execution_count": null,
   "metadata": {},
   "outputs": [],
   "source": [
    "# Importing the math module\n",
    "import math\n",
    "\n",
    "# Using the sqrt function from the math module\n",
    "print(math.sqrt(16))  # Output: 4.0\n"
   ]
  },
  {
   "cell_type": "code",
   "execution_count": null,
   "metadata": {},
   "outputs": [],
   "source": [
    "# Importing only the randint function from the random module\n",
    "from random import randint\n",
    "\n",
    "# Using the randint function to generate a random number between 1 and 10\n",
    "random_num = randint(1, 10)\n",
    "print(random_num)  # Output: a random integer between 1 and 10"
   ]
  },
  {
   "cell_type": "code",
   "execution_count": null,
   "metadata": {},
   "outputs": [],
   "source": [
    "# Importing a module from a subdirectory\n",
    "import sys\n",
    "sys.path.append('./subdirectory')\n",
    "import sub_module\n",
    "\n",
    "# Using a function from the sub_module\n",
    "result = sub_module.multiply(2, 3)\n",
    "print(result)  # Output: 6\n"
   ]
  },
  {
   "cell_type": "code",
   "execution_count": null,
   "metadata": {},
   "outputs": [],
   "source": [
    "# Installing the requests package\n",
    "!pip install requests\n",
    "\n",
    "# Importing the requests package\n",
    "from requests import get as get_web\n",
    "\n",
    "# Making a GET request to a website\n",
    "response = get_web('https://www.google.com')\n",
    "\n",
    "# Checking the status code of the response\n",
    "print(response.status_code)  # Output: 200\n"
   ]
  },
  {
   "cell_type": "code",
   "execution_count": null,
   "metadata": {},
   "outputs": [],
   "source": [
    "import sys\n",
    "\n",
    "# check if there are enough command line arguments\n",
    "if len(sys.argv) != 2:\n",
    "    print(\"Usage: python my_script.py <parameter>\")\n",
    "    sys.exit(1)\n",
    "\n",
    "# retrieve the parameter from the command line arguments\n",
    "parameter = sys.argv[1]\n",
    "\n",
    "# do something with the parameter\n",
    "print(\"The parameter is:\", parameter)"
   ]
  },
  {
   "cell_type": "markdown",
   "metadata": {},
   "source": [
    "# Working with Files"
   ]
  },
  {
   "cell_type": "code",
   "execution_count": null,
   "metadata": {},
   "outputs": [],
   "source": [
    "# create text file: example1.txt with content:\n",
    "# This is an example text file.\n",
    "\n",
    "# Python code\n",
    "with open(\"example1.txt\", \"r\") as file:\n",
    "    data = file.read()\n",
    "\n",
    "data = data.upper()\n",
    "\n",
    "with open(\"example1_modified.txt\", \"w\") as file:\n",
    "    file.write(data)"
   ]
  },
  {
   "cell_type": "code",
   "execution_count": null,
   "metadata": {},
   "outputs": [],
   "source": [
    "# create text file: example2.txt with content:\n",
    "# This is line 1.\n",
    "# This is line 2.\n",
    "# This is line 3.\n",
    "\n",
    "with open(\"example2.txt\", \"r\") as file:\n",
    "    # move the file pointer to the beginning of the second line\n",
    "    file.seek(17)\n",
    "    # read the second line from the current position of the file pointer\n",
    "    line = file.readline()\n",
    "    print(line)"
   ]
  },
  {
   "cell_type": "code",
   "execution_count": null,
   "metadata": {},
   "outputs": [],
   "source": [
    "# create text file: example3.txt with content:\n",
    "# This is line 1.\n",
    "# This is line 2.\n",
    "# This is line 3.\n",
    "\n",
    "with open(\"example3.txt\", \"r\") as file:\n",
    "    # read the first two lines of the file\n",
    "    line1 = file.readline()\n",
    "    line2 = file.readline()\n",
    "    # get the current position of the file pointer\n",
    "    position = file.tell()\n",
    "    print(\"Current position:\", position)"
   ]
  },
  {
   "cell_type": "code",
   "execution_count": null,
   "metadata": {},
   "outputs": [],
   "source": [
    "import pickle\n",
    "\n",
    "# Define a list of Python objects to pickle\n",
    "data = [{'name': 'John', 'age': 30, 'email': 'john@example.com'},\n",
    "        {'name': 'Jane', 'age': 25, 'email': 'jane@example.com'},\n",
    "        {'name': 'Bob', 'age': 40, 'email': 'bob@example.com'}]\n",
    "\n",
    "# Pickle the data to a file\n",
    "with open('data.pickle', 'wb') as f:\n",
    "    pickle.dump(data, f)\n",
    "\n",
    "# Unpickle the data from the file\n",
    "with open('data.pickle', 'rb') as f:\n",
    "    unpickled_data = pickle.load(f)\n",
    "\n",
    "# Print the unpickled data\n",
    "print(unpickled_data)"
   ]
  },
  {
   "cell_type": "markdown",
   "metadata": {},
   "source": [
    "# Fault tolerancy"
   ]
  },
  {
   "cell_type": "markdown",
   "metadata": {},
   "source": [
    "### Using assert"
   ]
  },
  {
   "cell_type": "code",
   "execution_count": null,
   "metadata": {},
   "outputs": [],
   "source": [
    "# assert example 1\n",
    "x = 5\n",
    "y = 10\n",
    "assert x + y == 15\n",
    "\n",
    "# assert example 2\n",
    "def add(x, y):\n",
    "    return x + y\n",
    "assert add(2, 3) == 5\n",
    "\n",
    "# assert example 3\n",
    "my_list1 = [1, 2, 3]\n",
    "my_list2 = [1, 2, 3]\n",
    "assert my_list1 == my_list2\n",
    "\n",
    "# assert example 4\n",
    "def add_to_list(lst, x):\n",
    "    lst.append(x)\n",
    "my_list = []\n",
    "add_to_list(my_list, 5)\n",
    "assert my_list == [5]"
   ]
  },
  {
   "cell_type": "markdown",
   "metadata": {},
   "source": [
    "### Using try-catch with Exceptions"
   ]
  },
  {
   "cell_type": "code",
   "execution_count": null,
   "metadata": {},
   "outputs": [],
   "source": [
    "numerator = 10\n",
    "denominator = 0\n",
    "try:\n",
    "    result = numerator / denominator\n",
    "except ZeroDivisionError as e:\n",
    "    print(\"Error: Division by zero is not allowed.\")"
   ]
  },
  {
   "cell_type": "code",
   "execution_count": null,
   "metadata": {},
   "outputs": [],
   "source": [
    "user_input = \"abc\"\n",
    "try:\n",
    "    num = int(user_input)\n",
    "except ValueError as e:\n",
    "    print(\"Error: Please enter a valid integer value.\")\n"
   ]
  },
  {
   "cell_type": "code",
   "execution_count": null,
   "metadata": {},
   "outputs": [],
   "source": [
    "class CustomError(Exception):\n",
    "    pass\n",
    "\n",
    "def divide(a, b):\n",
    "    if b == 0:\n",
    "        raise CustomError(\"Error: Division by zero is not allowed.\")\n",
    "    return a / b\n",
    "\n",
    "try:\n",
    "    result = divide(10, 0)\n",
    "except CustomError as e:\n",
    "    print(e)\n"
   ]
  },
  {
   "cell_type": "code",
   "execution_count": null,
   "metadata": {},
   "outputs": [],
   "source": [
    "try:\n",
    "    # Try to open the file \"example.txt\"\n",
    "    file = open('example.txt')\n",
    "    \n",
    "    # Read the contents of the file\n",
    "    text = file.read()\n",
    "    \n",
    "    # Convert the file contents to an integer\n",
    "    num = int(text)\n",
    "    \n",
    "    # Divide 100 by the integer\n",
    "    result = 100 / num\n",
    "    \n",
    "# If the file is not found, catch the FileNotFoundError exception\n",
    "except FileNotFoundError:\n",
    "    print(\"Error: File not found.\")\n",
    "    \n",
    "# If the file contains invalid data, catch the ValueError exception\n",
    "except ValueError:\n",
    "    print(\"Error: File contains invalid data.\")\n",
    "    \n",
    "# If the integer in the file is 0, catch the ZeroDivisionError exception\n",
    "except ZeroDivisionError:\n",
    "    print(\"Error: Division by zero is not allowed.\")\n",
    "    \n",
    "# If no exception is raised, execute the code in the else block\n",
    "else:\n",
    "    print(\"Result:\", result)\n",
    "    \n",
    "# Whether an exception is raised or not, execute the code in the finally block\n",
    "finally:\n",
    "    # Close the file\n",
    "    file.close()\n"
   ]
  },
  {
   "cell_type": "code",
   "execution_count": null,
   "metadata": {},
   "outputs": [],
   "source": [
    "def divide(a, b):\n",
    "    try:\n",
    "        result = a / b\n",
    "        return result\n",
    "    except ZeroDivisionError:\n",
    "        # If b is zero, raise a custom exception\n",
    "        raise ValueError(\"Error: Division by zero is not allowed.\")\n",
    "\n",
    "try:\n",
    "    # Call the divide function with a=10 and b=0\n",
    "    result = divide(10, 0)\n",
    "    print(\"Result:\", result)\n",
    "except ValueError as e:\n",
    "    # If the divide function raises a ValueError, catch it and print the error message\n",
    "    print(e)"
   ]
  },
  {
   "cell_type": "markdown",
   "metadata": {},
   "source": []
  }
 ],
 "metadata": {
  "kernelspec": {
   "display_name": "Python 3 (ipykernel)",
   "language": "python",
   "name": "python3"
  },
  "language_info": {
   "codemirror_mode": {
    "name": "ipython",
    "version": 3
   },
   "file_extension": ".py",
   "mimetype": "text/x-python",
   "name": "python",
   "nbconvert_exporter": "python",
   "pygments_lexer": "ipython3",
   "version": "3.9.16"
  }
 },
 "nbformat": 4,
 "nbformat_minor": 2
}
