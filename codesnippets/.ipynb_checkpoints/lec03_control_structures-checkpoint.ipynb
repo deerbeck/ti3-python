{
 "cells": [
  {
   "cell_type": "markdown",
   "metadata": {},
   "source": [
    "## Sequence of statements"
   ]
  },
  {
   "cell_type": "code",
   "execution_count": null,
   "metadata": {},
   "outputs": [],
   "source": [
    "# Simple sequence\n",
    "# Imagine we have a program that manages an online store's inventory\n",
    "# and we want to check if we need to reorder a particular item.\n",
    "\n",
    "item_name = \"iPhone 13\"  # The item we want to check\n",
    "inventory_count = 10    # The current number of this item in stock\n",
    "reorder_threshold = 5   # The minimum number of this item we want in stock\n",
    "\n",
    "if inventory_count < reorder_threshold:\n",
    "    print(f\"We need to reorder {item_name}!\")\n",
    "else:\n",
    "    print(f\"We have enough {item_name} in stock.\")"
   ]
  },
  {
   "cell_type": "markdown",
   "metadata": {},
   "source": [
    "### Special statements"
   ]
  },
  {
   "cell_type": "code",
   "execution_count": null,
   "metadata": {},
   "outputs": [],
   "source": [
    "# special statements (EAFP principle, the pythonic way - \"Easier to Ask to for Forgiveness than Permission\")\n",
    "try:\n",
    "    x = int(input(\"Enter a number: \"))\n",
    "    print(\"The reciprocal of your number is\", 1/x)\n",
    "except ValueError:\n",
    "    print(\"Sorry, I need a number.\")\n",
    "except ZeroDivisionError:\n",
    "    print(\"Sorry, I can't divide by zero.\")"
   ]
  },
  {
   "cell_type": "markdown",
   "metadata": {},
   "source": [
    "## Functions"
   ]
  },
  {
   "cell_type": "code",
   "execution_count": null,
   "metadata": {},
   "outputs": [],
   "source": [
    "def is_anagram(s1, s2):\n",
    "    \"\"\"\n",
    "    This function checks if two strings are anagrams of each other.\n",
    "    \"\"\"\n",
    "    s1 = s1.lower()\n",
    "    s2 = s2.lower()\n",
    "    s1 = ''.join(sorted(s1))\n",
    "    s2 = ''.join(sorted(s2))\n",
    "    return s1 == s2\n"
   ]
  },
  {
   "cell_type": "code",
   "execution_count": null,
   "metadata": {},
   "outputs": [],
   "source": [
    "# Call-by-value is a method of passing arguments to a function \n",
    "# in which a copy of the argument is passed to the function. \n",
    "# Any changes made to the argument within the function have \n",
    "# no effect on the original variable that was passed.\n",
    "\n",
    "def square(x):\n",
    "    \"\"\"\n",
    "    Calculates the square of a number.\n",
    "\n",
    "    Args:\n",
    "    x (int): The number to square\n",
    "\n",
    "    Returns:\n",
    "    int: The square of the number\n",
    "    \"\"\"\n",
    "\n",
    "    x = x ** 2\n",
    "    return x\n",
    "\n",
    "\n",
    "# Example usage\n",
    "num = 5\n",
    "result = square(num)\n",
    "print(f\"The square of {num} is {result}.\")\n",
    "print(f\"The value of num after calling the function is still {num}.\")\n"
   ]
  },
  {
   "cell_type": "code",
   "execution_count": null,
   "metadata": {},
   "outputs": [],
   "source": [
    "# Explicit Function annotations are possible\n",
    "def add(x: float, y: float) -> float:\n",
    "    return x+y\n",
    "\n",
    "# BUT the interpreter does not check them\n",
    "add(int(2),int(3))"
   ]
  },
  {
   "cell_type": "code",
   "execution_count": null,
   "metadata": {},
   "outputs": [],
   "source": [
    "# if type checking is needed?\n",
    "def add(x: float, y: float) -> float:\n",
    "      if not isinstance(x, float) or not isinstance(y, float):\n",
    "           raise TypeError(\"x and y variables not of type float\")\n",
    "      return x+y\n",
    "\n",
    "# Exception\n",
    "add(int(2),int(3))"
   ]
  },
  {
   "cell_type": "markdown",
   "metadata": {},
   "source": [
    "### Functions with arbitrary parameters"
   ]
  },
  {
   "cell_type": "code",
   "execution_count": null,
   "metadata": {},
   "outputs": [],
   "source": [
    "# concatenate arbitrary many string parameters\n",
    "def concatenate_strings(*args):\n",
    "    return \" \".join(args)\n",
    "\n",
    "concatenate_strings(\"This\", \"string\", \"gets\", \"concatenated\")\n"
   ]
  },
  {
   "cell_type": "code",
   "execution_count": null,
   "metadata": {},
   "outputs": [],
   "source": [
    "def format_dict(data_dict, **kwargs):\n",
    "    formatted_data = []\n",
    "    for key, value in data_dict.items():\n",
    "        if isinstance(value, dict):\n",
    "            value = format_dict(value, **kwargs)\n",
    "        elif isinstance(value, str):\n",
    "            value = value.format(**kwargs)\n",
    "        formatted_data.append(f\"{key}: {value}\")\n",
    "    return \"\\n\".join(formatted_data)\n",
    "\n",
    "data_dict = {\n",
    "    \"name\": \"{name}\",\n",
    "    \"age\": 35,\n",
    "    \"address\": {\n",
    "        \"street\": \"123 Main St\",\n",
    "        \"city\": \"{city}\",\n",
    "        \"state\": \"CA\"\n",
    "    }\n",
    "}\n",
    "\n",
    "formatted_data = format_dict(data_dict, name=\"Jane\", city=\"New York\")\n",
    "print(formatted_data)"
   ]
  },
  {
   "cell_type": "markdown",
   "metadata": {},
   "source": [
    "## While-loop"
   ]
  },
  {
   "cell_type": "code",
   "execution_count": null,
   "metadata": {},
   "outputs": [],
   "source": [
    "# Imagine we have a program that simulates a game of blackjack\n",
    "# and we want to ask the player to keep hitting until they choose to stand.\n",
    "\n",
    "# simulate cards with random numbers\n",
    "import random\n",
    "def get_new_card():\n",
    "    # generates random numbers between 0 and 9\n",
    "    return int(random.random()*10)\n",
    "\n",
    "player_hand = []   # The player's current hand of cards\n",
    "hit_again = True   # Whether the player wants to hit again\n",
    "\n",
    "while hit_again:\n",
    "    new_card = get_new_card()    # Some function that adds a new card to the player's hand\n",
    "    player_hand.append(new_card)\n",
    "    print(f\"Your hand is now: {player_hand}\")\n",
    "    hit_again = input(\"Do you want to hit again? (y/n) \") == \"y\"\n"
   ]
  },
  {
   "cell_type": "markdown",
   "metadata": {},
   "source": [
    "## For-loop"
   ]
  },
  {
   "cell_type": "code",
   "execution_count": null,
   "metadata": {},
   "outputs": [],
   "source": [
    "# Imagine we have a program that processes customer orders\n",
    "# and we want to calculate the total cost of all items in each order.\n",
    "\n",
    "orders = [\n",
    "    {'customer': 'Alice', 'items': [{'name': 'shirt', 'price': 20}, {'name': 'pants', 'price': 30}]},\n",
    "    {'customer': 'Bob', 'items': [{'name': 'shoes', 'price': 50}, {'name': 'hat', 'price': 10}]},\n",
    "    {'customer': 'Charlie', 'items': [{'name': 'jacket', 'price': 100}, {'name': 'socks', 'price': 5}]},\n",
    "]\n",
    "\n",
    "for order in orders:\n",
    "    total_cost = 0\n",
    "    for item in order['items']:\n",
    "        total_cost += item['price']\n",
    "    print(f\"{order['customer']} ordered {len(order['items'])} items for a total cost of ${total_cost}\")\n"
   ]
  },
  {
   "cell_type": "markdown",
   "metadata": {},
   "source": [
    "## Sorting"
   ]
  },
  {
   "cell_type": "code",
   "execution_count": null,
   "metadata": {},
   "outputs": [],
   "source": [
    "# Divide-and-conquer is a common algorithmic technique used in computer science, \n",
    "# where a problem is broken down into smaller sub-problems, often solved recursively, \n",
    "# and then merged to form a solution to the original problem.\n",
    "\n",
    "def binary_search(arr, low, high, target):\n",
    "    \"\"\"\n",
    "    Searches for the target element in a sorted array using binary search.\n",
    "\n",
    "    Args:\n",
    "    arr (List[int]): A sorted array of integers\n",
    "    low (int): The lower bound of the search range\n",
    "    high (int): The upper bound of the search range\n",
    "    target (int): The element to search for in the array\n",
    "\n",
    "    Returns:\n",
    "    int: The index of the target element in the array if it exists, otherwise -1\n",
    "    \"\"\"\n",
    "\n",
    "    if high >= low:\n",
    "        mid = (low + high) // 2\n",
    "\n",
    "        if arr[mid] == target:\n",
    "            return mid\n",
    "\n",
    "        elif arr[mid] > target:\n",
    "            return binary_search(arr, low, mid - 1, target)\n",
    "\n",
    "        else:\n",
    "            return binary_search(arr, mid + 1, high, target)\n",
    "\n",
    "    else:\n",
    "        return -1\n",
    "\n",
    "\n",
    "# Example usage\n",
    "arr = [1, 3, 5, 7, 9, 11]\n",
    "target = 7\n",
    "result = binary_search(arr, 0, len(arr) - 1, target)\n",
    "print(f\"The target element {target} was found at index {result}.\")"
   ]
  },
  {
   "cell_type": "code",
   "execution_count": null,
   "metadata": {},
   "outputs": [],
   "source": [
    "# Call-by-reference is a method of passing arguments to a function \n",
    "# in which the memory address of the argument is passed to the function. \n",
    "# Any changes made to the argument within the function affect the original variable that was passed.\n",
    "def increment_list(lst):\n",
    "    \"\"\"\n",
    "    Increments each element of a list by 1.\n",
    "\n",
    "    Args:\n",
    "    lst (List[int]): The list to increment\n",
    "\n",
    "    Returns:\n",
    "    None\n",
    "    \"\"\"\n",
    "\n",
    "    for i in range(len(lst)):\n",
    "        lst[i] += 1\n",
    "\n",
    "\n",
    "# Example usage\n",
    "my_list = [1, 2, 3, 4, 5]\n",
    "increment_list(my_list)\n",
    "print(f\"The incremented list is {my_list}.\")\n"
   ]
  },
  {
   "cell_type": "code",
   "execution_count": null,
   "metadata": {},
   "outputs": [],
   "source": [
    "'''\n",
    "Bubblesort is a simple sorting algorithm that repeatedly steps through the list, \n",
    "compares adjacent elements and swaps them \n",
    "if they are in the wrong order. \n",
    "The pass through the list is repeated until the list is sorted.\n",
    "'''\n",
    "def bubblesort(arr):\n",
    "    \"\"\"\n",
    "    Sorts a list of integers using bubblesort algorithm.\n",
    "\n",
    "    Args:\n",
    "    arr (List[int]): The list of integers to be sorted.\n",
    "\n",
    "    Returns:\n",
    "    List[int]: The sorted list of integers.\n",
    "    \"\"\"\n",
    "    n = len(arr)\n",
    "    # Traverse through all array elements\n",
    "    for i in range(n):\n",
    "        # Last i elements are already sorted\n",
    "        for j in range(0, n-i-1):\n",
    "            # Swap if the element found is greater than the next element\n",
    "            if arr[j] > arr[j+1]:\n",
    "                arr[j], arr[j+1] = arr[j+1], arr[j]\n",
    "    return arr\n"
   ]
  },
  {
   "cell_type": "code",
   "execution_count": null,
   "metadata": {},
   "outputs": [],
   "source": [
    "# Helper function for Merge sort (recursive solution)  \n",
    "def merge(left, right):\n",
    "    # Initialize two pointers for left and right arrays\n",
    "    left_pointer = 0\n",
    "    right_pointer = 0\n",
    "    result = []\n",
    "    \n",
    "    # Compare the elements in the left and right arrays and add the smaller element to the result array\n",
    "    while left_pointer < len(left) and right_pointer < len(right):\n",
    "        if left[left_pointer] <= right[right_pointer]:\n",
    "            result.append(left[left_pointer])\n",
    "            left_pointer += 1\n",
    "        else:\n",
    "            result.append(right[right_pointer])\n",
    "            right_pointer += 1\n",
    "    \n",
    "    # Add the remaining elements to the result array\n",
    "    result += left[left_pointer:]\n",
    "    result += right[right_pointer:]\n",
    "    \n",
    "    return result\n",
    "\n",
    "# Merge sort (recursive solution)    \n",
    "def merge_sort_recursive(arr):\n",
    "    # Check if the array has only one element, if yes then it is already sorted\n",
    "    if len(arr) <= 1:\n",
    "        return arr\n",
    "    \n",
    "    # Divide the array into two halves\n",
    "    mid = len(arr) // 2\n",
    "    left = arr[:mid]\n",
    "    right = arr[mid:]\n",
    "    \n",
    "    # Recursively sort the two halves\n",
    "    left = merge_sort_recursive(left)\n",
    "    right = merge_sort_recursive(right)\n",
    "    \n",
    "    # Merge the sorted halves into a single sorted array\n",
    "    return merge(left, right)"
   ]
  },
  {
   "cell_type": "code",
   "execution_count": null,
   "metadata": {},
   "outputs": [],
   "source": [
    "# Helper function for Merge sort (iterative solution) \n",
    "def merge(arr, left, mid, right):\n",
    "    left_arr = arr[left:mid+1]\n",
    "    right_arr = arr[mid+1:right+1]\n",
    "    \n",
    "    left_pointer = right_pointer = 0\n",
    "    index = left\n",
    "    \n",
    "    # Compare the elements in the left and right subarrays and add the smaller element to the result array\n",
    "    while left_pointer < len(left_arr) and right_pointer < len(right_arr):\n",
    "        if left_arr[left_pointer] <= right_arr[right_pointer]:\n",
    "            arr[index] = left_arr[left_pointer]\n",
    "            left_pointer += 1\n",
    "        else:\n",
    "            arr[index] = right_arr[right_pointer]\n",
    "            right_pointer += 1\n",
    "        index += 1\n",
    "    \n",
    "    # Add the remaining elements to the result array\n",
    "    while left_pointer < len(left_arr):\n",
    "        arr[index] = left_arr[left_pointer]\n",
    "        left_pointer += 1\n",
    "        index += 1\n",
    "    \n",
    "    while right_pointer < len(right_arr):\n",
    "        arr[index] = right_arr[right_pointer]\n",
    "        right_pointer += 1\n",
    "        index += 1\n",
    "\n",
    "# Merge sort (iterative solution)       \n",
    "def merge_sort_iterative(arr):\n",
    "    n = len(arr)\n",
    "    current_size = 1\n",
    "    \n",
    "    # Loop until current size is smaller than the size of the array\n",
    "    while current_size < n:\n",
    "        left = 0\n",
    "        \n",
    "        # Loop through the array and merge subarrays of current size\n",
    "        while left < n:\n",
    "            mid = min(left + current_size - 1, n - 1)\n",
    "            right = min(left + 2 * current_size - 1, n - 1)\n",
    "            \n",
    "            # Merge subarrays [left, mid] and [mid+1, right]\n",
    "            merge(arr, left, mid, right)\n",
    "            left += 2 * current_size\n",
    "        \n",
    "        # Double the current size for next iteration\n",
    "        current_size *= 2\n",
    "    \n",
    "    return arr\n"
   ]
  },
  {
   "cell_type": "markdown",
   "metadata": {},
   "source": [
    "## CHALLENGES\n",
    "Write a Python program to find those numbers \n",
    "which are divisible by 7 and multiples of 5, between 1500 and 2700 (both included)."
   ]
  },
  {
   "cell_type": "code",
   "execution_count": null,
   "metadata": {},
   "outputs": [],
   "source": [
    "# code here"
   ]
  },
  {
   "attachments": {
    "image.png": {
     "image/png": "[encoded data removed]"
    }
   },
   "cell_type": "markdown",
   "metadata": {},
   "source": [
    "Write a Python program to print the alphabet pattern 'R' \n",
    "\n",
    "![image.png](attachment:image.png)"
   ]
  },
  {
   "cell_type": "code",
   "execution_count": null,
   "metadata": {},
   "outputs": [],
   "source": []
  }
 ],
 "metadata": {
  "kernelspec": {
   "display_name": "Python 3 (ipykernel)",
   "language": "python",
   "name": "python3"
  },
  "language_info": {
   "codemirror_mode": {
    "name": "ipython",
    "version": 3
   },
   "file_extension": ".py",
   "mimetype": "text/x-python",
   "name": "python",
   "nbconvert_exporter": "python",
   "pygments_lexer": "ipython3",
   "version": "3.9.16"
  }
 },
 "nbformat": 4,
 "nbformat_minor": 2
}
