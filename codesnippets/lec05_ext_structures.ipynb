{
 "cells": [
  {
   "cell_type": "markdown",
   "metadata": {},
   "source": [
    "## Variable Anzahl Parameter"
   ]
  },
  {
   "cell_type": "markdown",
   "metadata": {},
   "source": [
    "### Packing Operator * and **"
   ]
  },
  {
   "cell_type": "markdown",
   "metadata": {},
   "source": [
    "Basis for packing multiple variables as tuple. This is done automatically based on the provided variables."
   ]
  },
  {
   "cell_type": "code",
   "execution_count": 1,
   "metadata": {},
   "outputs": [
    {
     "name": "stdout",
     "output_type": "stream",
     "text": [
      "[1, 2, 3]\n",
      "4\n"
     ]
    }
   ],
   "source": [
    "*a, b = 1,2,3,4\n",
    "print(a)\n",
    "print(b)"
   ]
  },
  {
   "cell_type": "markdown",
   "metadata": {},
   "source": [
    "This is the basis for variadic functions:"
   ]
  },
  {
   "cell_type": "code",
   "execution_count": 2,
   "metadata": {},
   "outputs": [
    {
     "name": "stdout",
     "output_type": "stream",
     "text": [
      "15\n"
     ]
    }
   ],
   "source": [
    "def my_sum(*args):\n",
    "    result = 0\n",
    "    for arg in args:\n",
    "        result += arg\n",
    "    return result\n",
    "\n",
    "print(my_sum(1, 2, 3, 4, 5))"
   ]
  },
  {
   "cell_type": "code",
   "execution_count": 3,
   "metadata": {},
   "outputs": [
    {
     "name": "stdout",
     "output_type": "stream",
     "text": [
      "This-is-TI3-programming\n",
      "\n",
      "This-is-TI3-programming\n"
     ]
    }
   ],
   "source": [
    "def concatenate_strings(separator, *args):\n",
    "    \"\"\"Returns a concatenated string of all strings passed as arguments.\"\"\"\n",
    "    return separator.join(args)\n",
    "\n",
    "print(concatenate_strings(\"-\", \"This\", \"is\", \"TI3\", \"programming\"))\n",
    "print()\n",
    "print(concatenate_strings(\"-\", *(\"This\", \"is\", \"TI3\", \"programming\"))) # we can also pass a tuple with and use the Packing operator *"
   ]
  },
  {
   "cell_type": "markdown",
   "metadata": {},
   "source": [
    "Using dictionaries extends this idea to include an arbitrary number of key-values pairs in the function (use **):"
   ]
  },
  {
   "cell_type": "code",
   "execution_count": 4,
   "metadata": {},
   "outputs": [
    {
     "name": "stdout",
     "output_type": "stream",
     "text": [
      "Name: Alice\n",
      "Age: 25\n",
      "City: New York\n",
      "Occupation: Engineer\n",
      "\n",
      "Name: Alice\n",
      "Age: 25\n",
      "City: New York\n",
      "Occupation: Engineer\n"
     ]
    }
   ],
   "source": [
    "def print_person_info(name, age, **kwargs):\n",
    "    \"\"\"Prints a person's name, age, and any additional information.\"\"\"\n",
    "    print(f\"Name: {name}\")\n",
    "    print(f\"Age: {age}\")\n",
    "    for key, value in kwargs.items():\n",
    "        print(f\"{key.capitalize()}: {value}\")\n",
    "\n",
    "print_person_info(\"Alice\", 25, city=\"New York\", occupation=\"Engineer\")\n",
    "print()\n",
    "print_person_info(\"Alice\", 25, **dict(city=\"New York\", occupation=\"Engineer\"))  # we can also pass a tuple with and use the Packing operator **"
   ]
  },
  {
   "cell_type": "markdown",
   "metadata": {},
   "source": [
    "# Recursion"
   ]
  },
  {
   "cell_type": "markdown",
   "metadata": {},
   "source": [
    "### Greatest common divisor\n",
    "The greatest common divisor (GCD) of two positive integers is the largest number that divides both of them without leaving a remainder. "
   ]
  },
  {
   "cell_type": "code",
   "execution_count": 31,
   "metadata": {},
   "outputs": [
    {
     "name": "stdout",
     "output_type": "stream",
     "text": [
      "5\n"
     ]
    }
   ],
   "source": [
    "def gcd(a, b):\n",
    "    # base case: if b is zero, a is the GCD\n",
    "    if b == 0:\n",
    "        return a\n",
    "    # recursive case: compute the GCD of b and the remainder of a/b\n",
    "    else:\n",
    "        return gcd(b, a % b)\n",
    "\n",
    "print(gcd(15,20))"
   ]
  },
  {
   "cell_type": "markdown",
   "metadata": {},
   "source": [
    "### Power function"
   ]
  },
  {
   "cell_type": "code",
   "execution_count": 5,
   "metadata": {},
   "outputs": [
    {
     "name": "stdout",
     "output_type": "stream",
     "text": [
      "125\n"
     ]
    }
   ],
   "source": [
    "def power(base, exp):\n",
    "    # base case: anything raised to the power of 0 is 1\n",
    "    if exp == 0:\n",
    "        return 1\n",
    "    # recursive case: multiply the base by the result of base^(exp-1)\n",
    "    else:\n",
    "        return base * power(base, exp-1)\n",
    "\n",
    "print(power(5,3))"
   ]
  },
  {
   "cell_type": "markdown",
   "metadata": {},
   "source": [
    "### Palindrome"
   ]
  },
  {
   "cell_type": "code",
   "execution_count": 7,
   "metadata": {},
   "outputs": [
    {
     "name": "stdout",
     "output_type": "stream",
     "text": [
      "True\n",
      "False\n"
     ]
    }
   ],
   "source": [
    "def is_palindrome(s):\n",
    "    # base case: a string of length 0 or 1 is a palindrome\n",
    "    if len(s) <= 1:\n",
    "        return True\n",
    "    # recursive case: check if the first and last characters match,\n",
    "    # then check if the remaining substring is a palindrome\n",
    "    elif s[0] != s[-1]:\n",
    "        return False\n",
    "    else:\n",
    "        return is_palindrome(s[1:-1])\n",
    "\n",
    "print(is_palindrome(\"anna\"))\n",
    "print(is_palindrome(\"alex\"))"
   ]
  },
  {
   "cell_type": "markdown",
   "metadata": {},
   "source": [
    "### Binary representation"
   ]
  },
  {
   "cell_type": "code",
   "execution_count": 50,
   "metadata": {},
   "outputs": [
    {
     "name": "stdout",
     "output_type": "stream",
     "text": [
      "11111111\n"
     ]
    }
   ],
   "source": [
    "def binary_rep(n):\n",
    "    # base case: 0 in binary is represented as the empty string\n",
    "    if n == 0:\n",
    "        return ''\n",
    "    # recursive case: divide n by 2 and add the remainder to the binary\n",
    "    # representation of the quotient (in reverse order)\n",
    "    else:\n",
    "        return binary_rep(n // 2) + str(n % 2)\n",
    "\n",
    "print(binary_rep(255))"
   ]
  },
  {
   "cell_type": "markdown",
   "metadata": {},
   "source": [
    "### Reverse a string"
   ]
  },
  {
   "cell_type": "code",
   "execution_count": 9,
   "metadata": {},
   "outputs": [
    {
     "name": "stdout",
     "output_type": "stream",
     "text": [
      "gnimmargorP-3IT\n"
     ]
    }
   ],
   "source": [
    "def reverse_string(s):\n",
    "    # base case: an empty string is already reversed\n",
    "    if len(s) == 0:\n",
    "        return s\n",
    "    # recursive case: reverse the substring starting from the second character,\n",
    "    # then add the first character to the end of the result\n",
    "    else:\n",
    "        return reverse_string(s[1:]) + s[0]\n",
    "\n",
    "print(reverse_string(\"TI3-Programming\"))"
   ]
  },
  {
   "cell_type": "markdown",
   "metadata": {},
   "source": [
    "### Tree-traversing (recursive)\n",
    "In the following you see a recursive function that traverses a binary tree structure and prints out its nodes in a depth-first search (DFS) order. We first define a Node class to represent the nodes in the binary tree. Each node has a value (val) and two child nodes (left and right).\n",
    "\n",
    "Then we define a recursive dfs function that takes a Node object as input and traverses the tree in a DFS order.\n",
    "\n",
    "The DFS algorithm starts at the root node and visits its left subtree recursively until it reaches a leaf node. Then it backtracks and visits the right subtree recursively until all nodes in the tree have been visited."
   ]
  },
  {
   "cell_type": "code",
   "execution_count": 10,
   "metadata": {},
   "outputs": [
    {
     "name": "stdout",
     "output_type": "stream",
     "text": [
      "1\n",
      "2\n",
      "4\n",
      "5\n",
      "3\n",
      "6\n",
      "7\n"
     ]
    }
   ],
   "source": [
    "# define the Node class for binary tree\n",
    "class Node:\n",
    "    def __init__(self, val=None, left=None, right=None):\n",
    "        self.val = val\n",
    "        self.left = left\n",
    "        self.right = right\n",
    "\n",
    "# define a recursive DFS function to traverse the binary tree\n",
    "def dfs(node):\n",
    "    if node is not None:\n",
    "        # visit the current node\n",
    "        print(node.val)\n",
    "        # recursively traverse the left subtree\n",
    "        dfs(node.left)\n",
    "        # recursively traverse the right subtree\n",
    "        dfs(node.right)\n",
    "\n",
    "# construct a binary tree\n",
    "root = Node(1)\n",
    "root.left = Node(2)\n",
    "root.right = Node(3)\n",
    "root.left.left = Node(4)\n",
    "root.left.right = Node(5)\n",
    "root.right.left = Node(6)\n",
    "root.right.right = Node(7)\n",
    "\n",
    "# traverse the binary tree using DFS\n",
    "dfs(root)"
   ]
  },
  {
   "cell_type": "markdown",
   "metadata": {},
   "source": [
    "### Backtracking example: Find all subset of a set"
   ]
  },
  {
   "cell_type": "code",
   "execution_count": 11,
   "metadata": {},
   "outputs": [
    {
     "name": "stdout",
     "output_type": "stream",
     "text": [
      "[[], [1], [1, 2], [1, 2, 3], [1, 2, 3, 4], [1, 2, 4], [1, 3], [1, 3, 4], [1, 4], [2], [2, 3], [2, 3, 4], [2, 4], [3], [3, 4], [4]]\n"
     ]
    }
   ],
   "source": [
    "def backtrack(nums, start, path, res):\n",
    "    # add the current subset to the results\n",
    "    res.append(path[:])\n",
    "    # try adding each remaining element to the subset\n",
    "    for i in range(start, len(nums)):\n",
    "        path.append(nums[i])\n",
    "        # recursively backtrack with the updated subset and index\n",
    "        backtrack(nums, i+1, path, res)\n",
    "        # remove the last element from the subset to backtrack\n",
    "        path.pop()\n",
    "\n",
    "res = []\n",
    "backtrack([1,2,3,4], 0, [], res)\n",
    "print(res)"
   ]
  },
  {
   "cell_type": "markdown",
   "metadata": {},
   "source": [
    "### Eight Queen Problem\n",
    "The eight queen problem is a classic computer science problem that involves placing eight queens on a standard 8x8 chessboard in such a way that no two queens threaten each other. One elegant way to solve this problem is by using a recursive algorithm known as backtracking. Here's an implementation of the eight queen problem in Python using recursive backtracking"
   ]
  },
  {
   "cell_type": "code",
   "execution_count": 12,
   "metadata": {},
   "outputs": [
    {
     "data": {
      "text/plain": [
       "[[1, 3, 0, 2], [2, 0, 3, 1]]"
      ]
     },
     "execution_count": 12,
     "metadata": {},
     "output_type": "execute_result"
    }
   ],
   "source": [
    "def solve_queens(n):\n",
    "    \"\"\"\n",
    "    Given an integer n, returns a list of all possible solutions to the n-queens problem.\n",
    "\n",
    "    Each solution is represented as a list of n integers, where the ith integer\n",
    "    is the column number of the queen in the ith row.\n",
    "\n",
    "    For example, solve_queens(4) returns [[1, 3, 0, 2], [2, 0, 3, 1]], representing\n",
    "    the two distinct solutions to the 4-queens problem.\n",
    "\n",
    "    \"\"\"\n",
    "    def is_valid(board, row, col):\n",
    "        \"\"\"\n",
    "        Given a partial solution represented by a board (a list of integers),\n",
    "        determines whether it is valid to place a queen at the given (row, col)\n",
    "        position on the board.\n",
    "\n",
    "        Returns True if the position is valid (i.e., no other queen threatens\n",
    "        the given position), and False otherwise.\n",
    "\n",
    "        \"\"\"\n",
    "        # Check whether any queen in a previous row is in the same column or diagonal\n",
    "        for i in range(row):\n",
    "            if board[i] == col or abs(board[i] - col) == row - i:\n",
    "                return False\n",
    "        return True\n",
    "\n",
    "    def backtrack(board, row):\n",
    "        \"\"\"\n",
    "        Given a partial solution represented by a board (a list of integers),\n",
    "        attempts to extend the solution by placing a queen in the next row\n",
    "        (i.e., the row indicated by the row parameter).\n",
    "\n",
    "        If a valid solution is found, adds it to the solutions list.\n",
    "        Otherwise, continues searching for a solution by recursively calling itself\n",
    "        with the next row.\n",
    "\n",
    "        \"\"\"\n",
    "        # Base case: we've placed all queens, so add the solution to the solutions list\n",
    "        if row == n:\n",
    "            solutions.append(board[:])\n",
    "            return\n",
    "\n",
    "        # Recursive case: try placing a queen in each column of the current row\n",
    "        for col in range(n):\n",
    "            if is_valid(board, row, col):\n",
    "                board[row] = col\n",
    "                backtrack(board, row + 1)\n",
    "                board[row] = -1\n",
    "\n",
    "    # Initialize the board to all -1's (meaning no queens have been placed yet)\n",
    "    board = [-1] * n\n",
    "    solutions = []\n",
    "    backtrack(board, 0)\n",
    "    return solutions\n",
    "\n",
    "solve_queens(4) # a four queen problem"
   ]
  },
  {
   "cell_type": "markdown",
   "metadata": {},
   "source": [
    "Another (very elegant) solution from Nicolaus Wirth (https://de.wikipedia.org/wiki/Niklaus_Wirth) translated to Python."
   ]
  },
  {
   "cell_type": "code",
   "execution_count": 13,
   "metadata": {},
   "outputs": [
    {
     "name": "stdout",
     "output_type": "stream",
     "text": [
      "[1, 3, 0, 2]\n",
      "[2, 0, 3, 1]\n"
     ]
    }
   ],
   "source": [
    "def queens(n, i, a, b, c):\n",
    "    if i < n:\n",
    "        for j in range(n):\n",
    "            if j not in a and i + j not in b and i - j not in c:\n",
    "                yield from queens(n, i + 1, a + [j], b + [i + j], c + [i - j])\n",
    "    else:\n",
    "        yield a\n",
    "\n",
    "for solution in queens(4, 0, [], [], []): # a four queen problem\n",
    "    print(solution)\n"
   ]
  },
  {
   "cell_type": "markdown",
   "metadata": {},
   "source": [
    "# Lambda functions"
   ]
  },
  {
   "cell_type": "markdown",
   "metadata": {},
   "source": [
    "### Power using lambda"
   ]
  },
  {
   "cell_type": "code",
   "execution_count": 14,
   "metadata": {},
   "outputs": [
    {
     "data": {
      "text/plain": [
       "8"
      ]
     },
     "execution_count": 14,
     "metadata": {},
     "output_type": "execute_result"
    }
   ],
   "source": [
    "power = lambda x, y: x ** y  # create lambda function for power\n",
    "power(2,3)"
   ]
  },
  {
   "cell_type": "markdown",
   "metadata": {},
   "source": [
    "### Sorting using lambda"
   ]
  },
  {
   "cell_type": "markdown",
   "metadata": {},
   "source": [
    "In the next example, we have a list of dictionaries that represent users with their names and ages. We want to sort this list of dictionaries by age, so we're using a lambda expression to create a key function that takes a dictionary and returns the value of the \"age\" key. The sorted() function then sorts the list of dictionaries by the \"age\" key using the lambda function."
   ]
  },
  {
   "cell_type": "code",
   "execution_count": 15,
   "metadata": {},
   "outputs": [
    {
     "name": "stdout",
     "output_type": "stream",
     "text": [
      "[{'name': 'Charlie', 'age': 20}, {'name': 'Alice', 'age': 25}, {'name': 'Bob', 'age': 30}]\n"
     ]
    }
   ],
   "source": [
    "users = [\n",
    "    {\"name\": \"Alice\", \"age\": 25},\n",
    "    {\"name\": \"Bob\", \"age\": 30},\n",
    "    {\"name\": \"Charlie\", \"age\": 20},\n",
    "]\n",
    "sorted_users = sorted(users, key=lambda x: x[\"age\"])  # sort the list of dictionaries by age using lambda\n",
    "print(sorted_users)\n"
   ]
  },
  {
   "cell_type": "markdown",
   "metadata": {},
   "source": [
    "### Map, reduce, filter examples"
   ]
  },
  {
   "cell_type": "code",
   "execution_count": 16,
   "metadata": {},
   "outputs": [
    {
     "name": "stdout",
     "output_type": "stream",
     "text": [
      "['HELLO', 'WORLD', 'PYTHON']\n"
     ]
    }
   ],
   "source": [
    "# example map: convert list of strings to uppercase\n",
    "words = ['hello', 'world', 'python']\n",
    "result = list(map(lambda x: x.upper(), words))\n",
    "print(result)  "
   ]
  },
  {
   "cell_type": "code",
   "execution_count": 17,
   "metadata": {},
   "outputs": [
    {
     "name": "stdout",
     "output_type": "stream",
     "text": [
      "[2, 4, 6, 8, 10]\n"
     ]
    }
   ],
   "source": [
    "# example map: multiply each element of list by 2\n",
    "numbers = [1, 2, 3, 4, 5]\n",
    "result = list(map(lambda x: x * 2, numbers))\n",
    "print(result)  "
   ]
  },
  {
   "cell_type": "code",
   "execution_count": 18,
   "metadata": {},
   "outputs": [
    {
     "name": "stdout",
     "output_type": "stream",
     "text": [
      "[2, 4]\n"
     ]
    }
   ],
   "source": [
    "# example filter: filter even numbers\n",
    "numbers = [1, 2, 3, 4, 5]\n",
    "result = list(filter(lambda x: x % 2 == 0, numbers))\n",
    "print(result)  # Output: [2, 4]"
   ]
  },
  {
   "cell_type": "code",
   "execution_count": 19,
   "metadata": {},
   "outputs": [
    {
     "name": "stdout",
     "output_type": "stream",
     "text": [
      "['hello', 'world', 'python']\n"
     ]
    }
   ],
   "source": [
    "# example filter: filter strings longer than 4 characters\n",
    "from functools import reduce\n",
    "words = ['hello', 'world', 'python', 'hi']\n",
    "result = list(filter(lambda x: len(x) > 4, words))\n",
    "print(result)  # Output: ['hello', 'world', 'python']"
   ]
  },
  {
   "cell_type": "code",
   "execution_count": 20,
   "metadata": {},
   "outputs": [
    {
     "name": "stdout",
     "output_type": "stream",
     "text": [
      "15\n"
     ]
    }
   ],
   "source": [
    "# example reduce: sum of a list of numbers\n",
    "from functools import reduce\n",
    "numbers = [1, 2, 3, 4, 5]\n",
    "result = reduce(lambda x, y: x + y, numbers)\n",
    "print(result)  # Output: 15"
   ]
  },
  {
   "cell_type": "code",
   "execution_count": 21,
   "metadata": {},
   "outputs": [
    {
     "name": "stdout",
     "output_type": "stream",
     "text": [
      "hello---world---python\n"
     ]
    }
   ],
   "source": [
    "# example reduce: concatenate a list of strings\n",
    "words = ['hello', 'world', 'python']\n",
    "result = reduce(lambda x, y: x + '---' + y, words)\n",
    "print(result)  # Output: 'hello world python'"
   ]
  },
  {
   "cell_type": "markdown",
   "metadata": {},
   "source": [
    "# Generators / yield"
   ]
  },
  {
   "cell_type": "markdown",
   "metadata": {},
   "source": [
    "### Example: A generator function that returns even numbers"
   ]
  },
  {
   "cell_type": "code",
   "execution_count": 22,
   "metadata": {},
   "outputs": [
    {
     "name": "stdout",
     "output_type": "stream",
     "text": [
      "0\n",
      "2\n"
     ]
    }
   ],
   "source": [
    "def even_numbers(n):\n",
    "    # Define a generator function that returns even numbers up to n\n",
    "    for i in range(n):\n",
    "        if i % 2 == 0:  # Check if the number is even\n",
    "            yield i  # Use yield instead of return to make this a generator function\n",
    "even_num_iter = even_numbers(5)\n",
    "print(next(even_num_iter))\n",
    "print(next(even_num_iter))"
   ]
  },
  {
   "cell_type": "markdown",
   "metadata": {},
   "source": [
    "### Example 2: A generator function that generates Fibonacci numbers"
   ]
  },
  {
   "cell_type": "code",
   "execution_count": 23,
   "metadata": {},
   "outputs": [
    {
     "name": "stdout",
     "output_type": "stream",
     "text": [
      "0\n",
      "1\n",
      "1\n",
      "2\n"
     ]
    }
   ],
   "source": [
    "def fibonacci():\n",
    "    # Define a generator function that generates the Fibonacci sequence\n",
    "    a, b = 0, 1  # Initialize two variables to start the sequence\n",
    "    while True:\n",
    "        yield a  # Use yield instead of return to create a generator function\n",
    "        a, b = b, a + b  # Calculate the next two numbers in the sequence\n",
    "\n",
    "fib_iter = fibonacci()\n",
    "print(next(fib_iter))\n",
    "print(next(fib_iter))\n",
    "print(next(fib_iter))\n",
    "print(next(fib_iter))"
   ]
  },
  {
   "cell_type": "markdown",
   "metadata": {},
   "source": [
    "### Example 3: A generator function that filters a list of strings by length"
   ]
  },
  {
   "cell_type": "code",
   "execution_count": 24,
   "metadata": {},
   "outputs": [
    {
     "name": "stdout",
     "output_type": "stream",
     "text": [
      "cc\n",
      "dd\n"
     ]
    }
   ],
   "source": [
    "def filter_by_length(lst, length):\n",
    "    # Define a generator function that filters a list of strings by length\n",
    "    for word in lst:\n",
    "        if len(word) == length:  # Check if the length of the current word is equal to the given length\n",
    "            yield word  # Use yield instead of return to make this a generator function\n",
    "\n",
    "filter_by_length_iter = filter_by_length([\"aaaa\", \"bbb\", \"cc\", \"dd\"], 2)\n",
    "for elem in filter_by_length_iter: # iteration using our custom generator\n",
    "    print(elem)"
   ]
  },
  {
   "cell_type": "markdown",
   "metadata": {},
   "source": [
    "### Example 4: A generator function that reads a file line by line"
   ]
  },
  {
   "cell_type": "code",
   "execution_count": 25,
   "metadata": {},
   "outputs": [],
   "source": [
    "def read_file(filename):\n",
    "    # Define a generator function that reads a file line by line\n",
    "    with open(filename) as f:  # Open the file in a with block to automatically close it when finished\n",
    "        for line in f:\n",
    "            yield line  # Use yield instead of return to make this\n"
   ]
  },
  {
   "cell_type": "markdown",
   "metadata": {},
   "source": [
    "## CHALLENGES"
   ]
  },
  {
   "cell_type": "markdown",
   "metadata": {},
   "source": [
    "For the following problems find first an iterative solution and then provide also a recursive variant."
   ]
  },
  {
   "cell_type": "markdown",
   "metadata": {},
   "source": [
    "### Even numbers\n",
    "Provide a functions that prints all even integer numbers from n to 0."
   ]
  },
  {
   "cell_type": "code",
   "execution_count": 13,
   "metadata": {},
   "outputs": [
    {
     "name": "stdout",
     "output_type": "stream",
     "text": [
      "10\n",
      "8\n",
      "6\n",
      "4\n",
      "2\n",
      "0\n"
     ]
    }
   ],
   "source": [
    "def even_it(n:int):\n",
    "    for i in range(n,-1,-1):\n",
    "        if i%2 == 0: print(i)\n",
    "        else: continue\n",
    "        \n",
    "even_it(10)"
   ]
  },
  {
   "cell_type": "code",
   "execution_count": 23,
   "metadata": {},
   "outputs": [
    {
     "name": "stdout",
     "output_type": "stream",
     "text": [
      "4\n",
      "2\n",
      "0\n"
     ]
    }
   ],
   "source": [
    "def even_rec(n):\n",
    "    if n <= 0:\n",
    "        print(0)\n",
    "        return 0\n",
    "    else:\n",
    "        if n % 2 ==0:\n",
    "            print(n)\n",
    "            return even_rec(n-2)\n",
    "        else:\n",
    "            print(n-1)\n",
    "            return even_rec(n-3)\n",
    "        \n",
    "even_rec(4);"
   ]
  },
  {
   "cell_type": "markdown",
   "metadata": {},
   "source": [
    "### Factorial\n",
    "\n",
    "The factorial of a positive integer n is the product of all positive integers less than or equal to n."
   ]
  },
  {
   "cell_type": "code",
   "execution_count": 1,
   "metadata": {},
   "outputs": [
    {
     "name": "stdout",
     "output_type": "stream",
     "text": [
      "24\n"
     ]
    }
   ],
   "source": [
    "def fac_it(n:int):\n",
    "    prod = 1\n",
    "    for i in range(1,n+1):\n",
    "        prod *= i\n",
    "    return prod\n",
    "    \n",
    "print(fac_it(4))\n",
    "    "
   ]
  },
  {
   "cell_type": "code",
   "execution_count": 4,
   "metadata": {},
   "outputs": [
    {
     "name": "stdout",
     "output_type": "stream",
     "text": [
      "1\n"
     ]
    }
   ],
   "source": [
    "def fac_rec(n: int):\n",
    "    if n == 1 or n == 0:\n",
    "        return 1\n",
    "    else:\n",
    "        return n* fac_rec(n-1)\n",
    "    \n",
    "print(fac_rec(0))"
   ]
  },
  {
   "cell_type": "markdown",
   "metadata": {},
   "source": [
    "### Fibonacci sequence\n",
    "\n",
    "The Fibonacci sequence is a series of numbers where each number is the sum of the two preceding ones, starting from 0 and 1."
   ]
  },
  {
   "cell_type": "code",
   "execution_count": 11,
   "metadata": {},
   "outputs": [
    {
     "name": "stdout",
     "output_type": "stream",
     "text": [
      "0\n",
      "1\n",
      "2\n",
      "3\n",
      "5\n",
      "8\n",
      "8\n"
     ]
    }
   ],
   "source": [
    "def fib_it(n):\n",
    "    fib = [0, 1]\n",
    "    print(0)\n",
    "    for i in range(n-1):\n",
    "        print(fib[i] + fib[i+1])\n",
    "        fib.append(fib[i] + fib[i+1])\n",
    "    return fib[-1]\n",
    "\n",
    "print(fib_it(6))"
   ]
  },
  {
   "cell_type": "code",
   "execution_count": 13,
   "metadata": {},
   "outputs": [
    {
     "data": {
      "text/plain": [
       "13"
      ]
     },
     "execution_count": 13,
     "metadata": {},
     "output_type": "execute_result"
    }
   ],
   "source": [
    "def fib_rec(n):\n",
    "    if n <= 0:\n",
    "        return 0\n",
    "    elif n == 1:\n",
    "        return 1\n",
    "    else:\n",
    "        return fib_rec(n - 1) + fib_rec(n - 2)\n",
    "    \n",
    "fib_rec(7)"
   ]
  },
  {
   "cell_type": "markdown",
   "metadata": {},
   "source": [
    "### Sum of digits (Quersumme)\n",
    "\n",
    "Implement a recursive function which calculates the sum of the digits of a positive integer using recursion."
   ]
  },
  {
   "cell_type": "code",
   "execution_count": 21,
   "metadata": {},
   "outputs": [
    {
     "name": "stdout",
     "output_type": "stream",
     "text": [
      "10\n"
     ]
    }
   ],
   "source": [
    "def q_sum_it(n: int):\n",
    "    int_list_str = [c for c in str(n)]\n",
    "    int_list_int = list(map(lambda x: int(x), int_list_str))\n",
    "    return sum(int_list_int)\n",
    "\n",
    "print(q_sum_it(1234))"
   ]
  },
  {
   "cell_type": "code",
   "execution_count": 30,
   "metadata": {},
   "outputs": [
    {
     "name": "stdout",
     "output_type": "stream",
     "text": [
      "18\n"
     ]
    }
   ],
   "source": [
    "def q_sum_rec(n: int):\n",
    "    if n //10 == 0:\n",
    "        return n\n",
    "    else:\n",
    "        return n % 10 + q_sum_rec(n//10)\n",
    "    \n",
    "print(q_sum_rec(111111111111111111))"
   ]
  },
  {
   "cell_type": "markdown",
   "metadata": {},
   "source": [
    "### Binary search\n",
    "\n",
    "Binary search is an algorithm that searches for a specific value in a sorted list by repeatedly dividing the list in half."
   ]
  },
  {
   "cell_type": "code",
   "execution_count": 27,
   "metadata": {},
   "outputs": [
    {
     "name": "stdout",
     "output_type": "stream",
     "text": [
      "Target 132 found at index 1\n"
     ]
    }
   ],
   "source": [
    "l = [432,132,414,3621,56,1345,1234,124365]\n",
    "\n",
    "def binary_search(arr, target):\n",
    "    return binary_search_recursive(arr, target, 0, len(arr) - 1)\n",
    "\n",
    "def binary_search_recursive(arr, target, low, high):\n",
    "    if low > high:\n",
    "        return -1\n",
    "\n",
    "    mid = (low + high) // 2\n",
    "\n",
    "    if arr[mid] == target:\n",
    "        return mid\n",
    "    elif arr[mid] < target:\n",
    "        return binary_search_recursive(arr, target, mid + 1, high)\n",
    "    else:\n",
    "        return binary_search_recursive(arr, target, low, mid - 1)\n",
    "\n",
    "# Example usage:\n",
    "arr = [1, 3, 5, 7, 9, 11, 13]\n",
    "target = 132\n",
    "result = binary_search(l, target)\n",
    "if result != -1:\n",
    "    print(f\"Target {target} found at index {result}\")\n",
    "else:\n",
    "    print(f\"Target {target} not found in the list\")\n"
   ]
  },
  {
   "cell_type": "markdown",
   "metadata": {},
   "source": [
    "### Iterative functions\n",
    "Provide iterative versions of the functions in the first part of this notebook."
   ]
  },
  {
   "cell_type": "markdown",
   "metadata": {},
   "source": []
  },
  {
   "cell_type": "code",
   "execution_count": 33,
   "metadata": {},
   "outputs": [
    {
     "data": {
      "text/plain": [
       "5"
      ]
     },
     "execution_count": 33,
     "metadata": {},
     "output_type": "execute_result"
    }
   ],
   "source": [
    "def gcd_it(a, b):\n",
    "    max = a if a > b else b\n",
    "    for i in range(max,0,-1):\n",
    "        if a%i == 0 and b%i == 0:\n",
    "            return i\n",
    "    return None\n",
    "\n",
    "gcd_it(15, 20)    \n",
    "    "
   ]
  },
  {
   "cell_type": "code",
   "execution_count": 35,
   "metadata": {},
   "outputs": [
    {
     "data": {
      "text/plain": [
       "25"
      ]
     },
     "execution_count": 35,
     "metadata": {},
     "output_type": "execute_result"
    }
   ],
   "source": [
    "def power_it(base, exp):\n",
    "    prod = 1\n",
    "    for i in range(exp):\n",
    "        prod *= base\n",
    "    return prod\n",
    "\n",
    "power_it(5,2)"
   ]
  },
  {
   "cell_type": "code",
   "execution_count": 45,
   "metadata": {},
   "outputs": [
    {
     "name": "stdout",
     "output_type": "stream",
     "text": [
      "True\n",
      "False\n"
     ]
    }
   ],
   "source": [
    "def is_palindrome_it(s):\n",
    "    for c1,c2 in zip(s,s[::-1]):\n",
    "        if c1 == c2:\n",
    "            continue\n",
    "        else:\n",
    "            return False\n",
    "    return True\n",
    "\n",
    "print(is_palindrome_it(\"anna\"))\n",
    "print(is_palindrome_it(\"alex\"))"
   ]
  },
  {
   "cell_type": "code",
   "execution_count": 53,
   "metadata": {},
   "outputs": [
    {
     "name": "stdout",
     "output_type": "stream",
     "text": [
      "1100\n"
     ]
    }
   ],
   "source": [
    "def binary_rep_it(n):\n",
    "    n_b = \"\"\n",
    "    while(n > 0):\n",
    "        n_b += str(n%2)\n",
    "        n = n//2 \n",
    "    return n_b[::-1]\n",
    "\n",
    "print(binary_rep_it(12))\n",
    "            "
   ]
  },
  {
   "cell_type": "code",
   "execution_count": 58,
   "metadata": {},
   "outputs": [
    {
     "name": "stdout",
     "output_type": "stream",
     "text": [
      "ollaH\n"
     ]
    }
   ],
   "source": [
    "def reverse_string_it(s):\n",
    "    re_s = \"\"\n",
    "    for i in range(1, len(s)+1):\n",
    "        re_s += s[-i]\n",
    "    return re_s\n",
    "\n",
    "print(reverse_string_it(\"Hallo\"))"
   ]
  },
  {
   "cell_type": "code",
   "execution_count": null,
   "metadata": {},
   "outputs": [],
   "source": []
  }
 ],
 "metadata": {
  "kernelspec": {
   "display_name": "Python 3 (ipykernel)",
   "language": "python",
   "name": "python3"
  },
  "language_info": {
   "codemirror_mode": {
    "name": "ipython",
    "version": 3
   },
   "file_extension": ".py",
   "mimetype": "text/x-python",
   "name": "python",
   "nbconvert_exporter": "python",
   "pygments_lexer": "ipython3",
   "version": "3.9.16"
  }
 },
 "nbformat": 4,
 "nbformat_minor": 2
}
