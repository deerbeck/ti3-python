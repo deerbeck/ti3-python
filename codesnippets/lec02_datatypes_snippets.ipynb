{
 "cells": [
  {
   "cell_type": "code",
   "execution_count": null,
   "metadata": {},
   "outputs": [],
   "source": [
    "a = [1, 2, 3]\n",
    "b = a\n",
    "c = [1, 2, 3]\n",
    "\n",
    "print(a == b)  # Output: True\n",
    "print(a == c)  # Output: True\n",
    "print(a is b)  # Output: True\n",
    "print(a is c)  # Output: False"
   ]
  },
  {
   "cell_type": "code",
   "execution_count": null,
   "metadata": {},
   "outputs": [],
   "source": [
    "# Example of main data types in Python and their operations\n",
    "\n",
    "# Integer data type\n",
    "a = 5\n",
    "b = 2\n",
    "print(\"a + b =\", a + b)  # Addition\n",
    "print(\"a - b =\", a - b)  # Subtraction\n",
    "print(\"a * b =\", a * b)  # Multiplication\n",
    "print(\"a / b =\", a / b)  # Division (returns float)\n",
    "print(\"a // b =\", a // b)  # Floor division (returns the integer quotient)\n",
    "print(\"a % b =\", a % b)  # Modulus (returns the remainder)\n",
    "print(\"a ** b =\", a ** b)  # Exponentiation (raises a to the power of b)"
   ]
  },
  {
   "cell_type": "code",
   "execution_count": null,
   "metadata": {},
   "outputs": [],
   "source": [
    "# Float data type\n",
    "c = 3.14\n",
    "d = 1.5\n",
    "print(\"c + d =\", c + d)\n",
    "print(\"c - d =\", c - d)\n",
    "print(\"c * d =\", c * d)\n",
    "print(\"c / d =\", c / d)"
   ]
  },
  {
   "cell_type": "code",
   "execution_count": null,
   "metadata": {},
   "outputs": [],
   "source": [
    "# Create a complex number\n",
    "z = 3 + 4j\n",
    "print(z)\n",
    "\n",
    "# Access the real and imaginary parts\n",
    "print(\"Real part:\", z.real)\n",
    "print(\"Imaginary part:\", z.imag)\n",
    "\n",
    "# Perform arithmetic operations with complex numbers\n",
    "z1 = 2 + 3j\n",
    "z2 = 4 - 5j\n",
    "\n",
    "# Addition\n",
    "print(\"Addition:\", z1 + z2)\n",
    "\n",
    "# Subtraction\n",
    "print(\"Subtraction:\", z1 - z2)\n",
    "\n",
    "# Multiplication\n",
    "print(\"Multiplication:\", z1 * z2)\n",
    "\n",
    "# Division\n",
    "print(\"Division:\", z1 / z2)\n",
    "\n",
    "# Absolute value (also called modulus or magnitude)\n",
    "print(\"Absolute value:\", abs(z))\n",
    "\n",
    "# Conjugate\n",
    "print(\"Conjugate:\", z.conjugate())"
   ]
  },
  {
   "cell_type": "code",
   "execution_count": null,
   "metadata": {},
   "outputs": [],
   "source": [
    "#NoneType is a special primitive type\n",
    "def check_if_none(value):\n",
    "    if value is None:\n",
    "        print(\"Value is None\")\n",
    "    else:\n",
    "        print(\"Value is not None\")\n",
    "\n",
    "# Call the function with None as the argument\n",
    "check_if_none(None)\n",
    "\n",
    "# Call the function with a non-None value as the argument\n",
    "check_if_none(10)"
   ]
  },
  {
   "cell_type": "code",
   "execution_count": null,
   "metadata": {},
   "outputs": [],
   "source": [
    "# String data type\n",
    "message = \"Hello, world!\"\n",
    "print(\"message =\", message)\n",
    "print(\"message[0] =\", message[0])  # Accessing individual characters (indexing starts at 0)\n",
    "print(\"message[7:12] =\", message[7:12])  # Slicing (returns the substring from index 7 to 11)\n",
    "print(\"len(message) =\", len(message))  # Length (returns the number of characters in the string)\n",
    "print(\"message.upper() =\", message.upper())  # Convert to upper case\n",
    "print(\"message.lower() =\", message.lower())  # Convert to lower case\n",
    "print(\"message.replace('world', 'Python') =\", message.replace('world', 'Python'))  # Replace a substring"
   ]
  },
  {
   "cell_type": "code",
   "execution_count": null,
   "metadata": {},
   "outputs": [],
   "source": [
    "# Using chr() function\n",
    "print(\"chr(65) returns:\", chr(65))\n",
    "print(\"chr(8364) returns:\", chr(8364))\n",
    "print(\"chr(128169) returns:\", chr(128169))\n",
    "\n",
    "# Using ord() function\n",
    "print(\"ord('A') returns:\", ord('A'))\n",
    "print(\"ord('€') returns:\", ord('€'))\n",
    "print(\"ord('🌎') returns:\", ord('🌎'))\n"
   ]
  },
  {
   "cell_type": "code",
   "execution_count": null,
   "metadata": {},
   "outputs": [],
   "source": [
    "# string formatting with print\n",
    "name = \"Charlie\"\n",
    "age = 35\n",
    "print(\"My name is %s and I'm %d years old.\" % (name, age))"
   ]
  },
  {
   "cell_type": "code",
   "execution_count": null,
   "metadata": {},
   "outputs": [],
   "source": [
    "# string formatting with print\n",
    "name = \"Alice\"\n",
    "age = 25\n",
    "print(\"My name is {} and I'm {} years old.\".format(name, age))"
   ]
  },
  {
   "cell_type": "code",
   "execution_count": null,
   "metadata": {},
   "outputs": [],
   "source": [
    "# string formatting with print\n",
    "# Use of f-String formatting\n",
    "def ww():\n",
    "    return \"would walk\"\n",
    "text = [\"miles\", \"And I\"]\n",
    "\n",
    "print(f\"Guess what song: {text[1]} {ww()} {5*100} {text[0]} ...\")\n",
    "\n"
   ]
  },
  {
   "cell_type": "code",
   "execution_count": null,
   "metadata": {},
   "outputs": [],
   "source": [
    "# List data type\n",
    "my_list = [1, 2, 3, 4, 5]\n",
    "print(\"my_list =\", my_list)\n",
    "print(\"my_list[0] =\", my_list[0])\n",
    "print(\"my_list[2:4] =\", my_list[2:4])\n",
    "print(\"len(my_list) =\", len(my_list))\n",
    "my_list.append(6)  # Add an item to the end of the list\n",
    "print(\"my_list after append(6) =\", my_list)\n",
    "my_list.remove(3)  # Remove an item from the list\n",
    "print(\"my_list after remove(3) =\", my_list)"
   ]
  },
  {
   "cell_type": "code",
   "execution_count": null,
   "metadata": {},
   "outputs": [],
   "source": [
    "# Dictionary data type\n",
    "my_dict = {\"name\": \"Alice\", \"age\": 30, \"city\": \"New York\"}\n",
    "print(\"my_dict =\", my_dict)\n",
    "print(\"my_dict['name'] =\", my_dict['name'])  # Accessing values by key\n",
    "print(\"my_dict.keys() =\", my_dict.keys())  # Get a list of keys\n",
    "print(\"my_dict.values() =\", my_dict.values())  # Get a list of values\n",
    "my_dict[\"age\"] = 31  # Updating a value\n",
    "print(\"my_dict after age=31 update =\", my_dict)\n",
    "my_dict.pop(\"city\")  # Removing a key-value pair\n",
    "print(\"my_dict after city key removal =\", my_dict)\n"
   ]
  },
  {
   "cell_type": "code",
   "execution_count": null,
   "metadata": {},
   "outputs": [],
   "source": [
    "# create a set\n",
    "my_set = set([1, 2, 3, 4, 5])\n",
    "print(\"Set:\", my_set)\n",
    "\n",
    "# add elements to the set\n",
    "my_set.add(6)\n",
    "print(\"Updated Set:\", my_set)\n",
    "\n",
    "# remove elements from the set\n",
    "my_set.discard(4)\n",
    "print(\"Updated Set:\", my_set)\n",
    "\n",
    "# create a frozen set\n",
    "my_frozenset = frozenset([7, 8, 9, 10])\n",
    "print(\"Frozen Set:\", my_frozenset)\n",
    "\n",
    "# trying to add elements to the frozen set will result in an error\n",
    "try:\n",
    "    my_frozenset.add(11)\n",
    "except AttributeError:\n",
    "    print(\"Cannot add elements to a frozenset.\")\n",
    "\n",
    "# trying to remove elements from the frozen set will also result in an error\n",
    "try:\n",
    "    my_frozenset.discard(9)\n",
    "except AttributeError:\n",
    "    print(\"Cannot remove elements from a frozenset.\")"
   ]
  },
  {
   "cell_type": "code",
   "execution_count": null,
   "metadata": {},
   "outputs": [],
   "source": [
    "# Using range() with one argument\n",
    "for idx in range(5):\n",
    "    print(idx)\n",
    "\n",
    "# Using range() with two arguments\n",
    "for idx in range(2, 8):\n",
    "    print(idx)\n",
    "\n",
    "# Using range() with three arguments\n",
    "for idx in range(1, 20, 3):\n",
    "    print(idx)"
   ]
  },
  {
   "cell_type": "code",
   "execution_count": null,
   "metadata": {},
   "outputs": [],
   "source": [
    "# Using the \"in\" operator with a list\n",
    "fruits = ['apple', 'banana', 'orange', 'grape']\n",
    "if 'banana' in fruits:\n",
    "    print('Yes, banana is in the list.')\n",
    "\n",
    "# Using the \"in\" operator with a string\n",
    "name = 'John'\n",
    "if 'o' in name:\n",
    "    print('Yes, the letter \"o\" is in the name.')\n",
    "\n",
    "# Using the \"in\" operator with a dictionary\n",
    "person = {'name': 'John', 'age': 30, 'gender': 'male'}\n",
    "if 'age' in person:\n",
    "    print('Yes, \"age\" is a key in the dictionary.')"
   ]
  },
  {
   "cell_type": "code",
   "execution_count": null,
   "metadata": {},
   "outputs": [],
   "source": [
    "# Example code that divides two numbers\n",
    "num1 = 10\n",
    "num2 = 0\n",
    "\n",
    "# LBYL approach\n",
    "if num2 != 0:\n",
    "    result = num1 / num2\n",
    "    print(f\"The result is {result}\")\n",
    "else:\n",
    "    print(\"Error: num2 cannot be zero.\")\n",
    "\n",
    "# EAFP approach\n",
    "try:\n",
    "    result = num1 / num2\n",
    "    print(f\"The result is {result}\")\n",
    "except ZeroDivisionError:\n",
    "    print(\"Error: num2 cannot be zero.\")"
   ]
  }
 ],
 "metadata": {
  "kernelspec": {
   "display_name": "django",
   "language": "python",
   "name": "python3"
  },
  "language_info": {
   "codemirror_mode": {
    "name": "ipython",
    "version": 3
   },
   "file_extension": ".py",
   "mimetype": "text/x-python",
   "name": "python",
   "nbconvert_exporter": "python",
   "pygments_lexer": "ipython3",
   "version": "3.9.15"
  },
  "orig_nbformat": 4
 },
 "nbformat": 4,
 "nbformat_minor": 2
}
