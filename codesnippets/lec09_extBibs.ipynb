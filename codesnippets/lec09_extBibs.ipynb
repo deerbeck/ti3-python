{
 "cells": [
  {
   "attachments": {},
   "cell_type": "markdown",
   "metadata": {},
   "source": [
    "# Plotting"
   ]
  },
  {
   "attachments": {},
   "cell_type": "markdown",
   "metadata": {},
   "source": [
    "## Line Plot"
   ]
  },
  {
   "cell_type": "code",
   "execution_count": 1,
   "metadata": {},
   "outputs": [
    {
     "data": {
      "image/png": "[encoded data removed]",
      "text/plain": [
       "<Figure size 640x480 with 1 Axes>"
      ]
     },
     "metadata": {},
     "output_type": "display_data"
    }
   ],
   "source": [
    "\n",
    "import matplotlib.pyplot as plt\n",
    "\n",
    "x = [1, 2, 3, 4, 5]\n",
    "y = [2, 4, 6, 8, 10]\n",
    "\n",
    "plt.plot(x, y)\n",
    "plt.xlabel('X-axis')\n",
    "plt.ylabel('Y-axis')\n",
    "plt.title('Line Plot')\n",
    "plt.show()"
   ]
  },
  {
   "cell_type": "code",
   "execution_count": null,
   "metadata": {},
   "outputs": [],
   "source": [
    "import numpy as np\n",
    "import matplotlib.pyplot as plt\n",
    "\n",
    "# Generate x values from 0 to 2*pi with a step of 0.1\n",
    "x = np.arange(0, 2*np.pi, 0.1)\n",
    "\n",
    "# Calculate corresponding y values using sine function\n",
    "y = np.sin(x)\n",
    "\n",
    "# Plot the sine curve\n",
    "plt.plot(x, y)\n",
    "\n",
    "# Set plot title and labels\n",
    "plt.title('Sine Plot')\n",
    "plt.xlabel('x')\n",
    "plt.ylabel('sin(x)')\n",
    "\n",
    "# Display the plot\n",
    "plt.show()\n"
   ]
  },
  {
   "attachments": {},
   "cell_type": "markdown",
   "metadata": {},
   "source": [
    "## Scatter plot"
   ]
  },
  {
   "cell_type": "code",
   "execution_count": null,
   "metadata": {},
   "outputs": [],
   "source": [
    "import matplotlib.pyplot as plt\n",
    "\n",
    "x = [1, 2, 3, 4, 5]\n",
    "y = [2, 4, 6, 8, 10]\n",
    "\n",
    "plt.scatter(x, y)\n",
    "plt.xlabel('X-axis')\n",
    "plt.ylabel('Y-axis')\n",
    "plt.title('Scatter Plot')\n",
    "plt.show()"
   ]
  },
  {
   "attachments": {},
   "cell_type": "markdown",
   "metadata": {},
   "source": [
    "## 3D Scatter plot"
   ]
  },
  {
   "cell_type": "code",
   "execution_count": null,
   "metadata": {},
   "outputs": [],
   "source": [
    "import matplotlib.pyplot as plt\n",
    "import numpy as np\n",
    "\n",
    "fig = plt.figure()\n",
    "ax = fig.add_subplot(111, projection='3d')\n",
    "\n",
    "x = np.random.randn(100)\n",
    "y = np.random.randn(100)\n",
    "z = np.random.randn(100)\n",
    "\n",
    "ax.scatter(x, y, z)\n",
    "ax.set_xlabel('X-axis')\n",
    "ax.set_ylabel('Y-axis')\n",
    "ax.set_zlabel('Z-axis')\n",
    "ax.set_title('3D Scatter Plot')\n",
    "\n",
    "plt.show()\n"
   ]
  },
  {
   "attachments": {},
   "cell_type": "markdown",
   "metadata": {},
   "source": [
    "## Bar plot"
   ]
  },
  {
   "cell_type": "code",
   "execution_count": null,
   "metadata": {},
   "outputs": [],
   "source": [
    "import matplotlib.pyplot as plt\n",
    "\n",
    "x = ['A', 'B', 'C', 'D', 'E']\n",
    "y = [10, 7, 5, 8, 12]\n",
    "\n",
    "plt.bar(x, y)\n",
    "plt.xlabel('Categories')\n",
    "plt.ylabel('Values')\n",
    "plt.title('Bar Plot')\n",
    "plt.show()"
   ]
  },
  {
   "attachments": {},
   "cell_type": "markdown",
   "metadata": {},
   "source": [
    "## Histogram"
   ]
  },
  {
   "cell_type": "code",
   "execution_count": null,
   "metadata": {},
   "outputs": [],
   "source": [
    "import matplotlib.pyplot as plt\n",
    "import numpy as np\n",
    "\n",
    "data = np.random.randn(1000)\n",
    "\n",
    "plt.hist(data, bins=30)\n",
    "plt.xlabel('Values')\n",
    "plt.ylabel('Frequency')\n",
    "plt.title('Histogram')\n",
    "plt.show()\n"
   ]
  },
  {
   "attachments": {},
   "cell_type": "markdown",
   "metadata": {},
   "source": [
    "## Pie Chart"
   ]
  },
  {
   "cell_type": "code",
   "execution_count": null,
   "metadata": {},
   "outputs": [],
   "source": [
    "import matplotlib.pyplot as plt\n",
    "\n",
    "sizes = [15, 30, 45, 10]\n",
    "labels = ['A', 'B', 'C', 'D']\n",
    "\n",
    "plt.pie(sizes, labels=labels, autopct='%1.1f%%')\n",
    "plt.title('Pie Chart')\n",
    "plt.show()\n"
   ]
  },
  {
   "attachments": {},
   "cell_type": "markdown",
   "metadata": {},
   "source": [
    "## Box Plot\n",
    "A box plot, also known as a box-and-whisker plot, is a graphical representation of a dataset that provides a summary of its distribution. It displays the minimum, first quartile (25th percentile), median (second quartile or 50th percentile), third quartile (75th percentile), and maximum values of the dataset, as well as any outliers or extreme values. The box plot provides a visual representation of the spread and skewness of the dataset. It enables quick comparisons between multiple datasets, highlighting differences in their central tendency, spread, and presence of outliers. It is particularly useful for identifying potential data anomalies and understanding the distribution of continuous numerical variables."
   ]
  },
  {
   "cell_type": "code",
   "execution_count": null,
   "metadata": {},
   "outputs": [],
   "source": [
    "import matplotlib.pyplot as plt\n",
    "import numpy as np\n",
    "\n",
    "data = np.random.randn(100)\n",
    "\n",
    "plt.boxplot(data)\n",
    "plt.title('Box Plot')\n",
    "plt.show()\n"
   ]
  },
  {
   "attachments": {},
   "cell_type": "markdown",
   "metadata": {},
   "source": [
    "## Heat map"
   ]
  },
  {
   "cell_type": "code",
   "execution_count": null,
   "metadata": {},
   "outputs": [],
   "source": [
    "import matplotlib.pyplot as plt\n",
    "import numpy as np\n",
    "\n",
    "# Generate random data for the heatmap\n",
    "data = np.random.randint(0, 100, size=(5, 10))\n",
    "\n",
    "# Create a colormap\n",
    "cmap = plt.cm.get_cmap('Reds')\n",
    "\n",
    "# Plot the heatmap\n",
    "plt.imshow(data, cmap=cmap)\n",
    "\n",
    "# Add colorbar\n",
    "cbar = plt.colorbar()\n",
    "cbar.set_label('Values')\n",
    "\n",
    "# Set ticks and labels for x and y axes\n",
    "plt.xticks(np.arange(10), np.arange(10))\n",
    "plt.yticks(np.arange(5), ['Row 1', 'Row 2', 'Row 3', 'Row 4', 'Row 5'])\n",
    "\n",
    "# Add labels to each cell\n",
    "for i in range(5):\n",
    "    for j in range(10):\n",
    "        plt.text(j, i, data[i, j], ha='center', va='center', color='white')\n",
    "\n",
    "# Set title and labels\n",
    "plt.title('Heatmap')\n",
    "plt.xlabel('Column')\n",
    "plt.ylabel('Row')\n",
    "\n",
    "# Display the plot\n",
    "plt.show()"
   ]
  },
  {
   "attachments": {},
   "cell_type": "markdown",
   "metadata": {},
   "source": [
    "# Persistence: JSON"
   ]
  },
  {
   "attachments": {},
   "cell_type": "markdown",
   "metadata": {},
   "source": [
    "JSON (JavaScript Object Notation) is a lightweight data interchange format commonly used for representing structured data. It is easy for humans to read and write and easy for machines to parse and generate. JSON is often used in web applications to transmit data between a server and a client, or to store data in files.\n",
    "\n",
    "JSON data is organized in a hierarchical manner and consists of two main structures:\n",
    "\n",
    "1. Objects: An object is an unordered collection of key-value pairs enclosed in curly braces `{}`. Each key is a string, followed by a colon `:`, and the corresponding value can be a string, number, boolean, null, another object, or an array.\n",
    "\n",
    "Example:\n",
    "```json\n",
    "{\n",
    "  \"name\": \"John\",\n",
    "  \"age\": 30,\n",
    "  \"city\": \"New York\"\n",
    "}\n",
    "```\n",
    "\n",
    "2. Arrays: An array is an ordered list of values enclosed in square brackets `[]`. Values within an array can be strings, numbers, booleans, null, objects, or nested arrays.\n",
    "\n",
    "Example:\n",
    "```json\n",
    "[\n",
    "  \"apple\",\n",
    "  \"banana\",\n",
    "  \"orange\"\n",
    "]\n",
    "```\n",
    "\n",
    "JSON supports the following data types:\n",
    "- Strings: Enclosed in double quotes.\n",
    "- Numbers: Integer or floating-point values.\n",
    "- Booleans: `true` or `false`.\n",
    "- Null: Represents an empty value.\n",
    "\n",
    "JSON allows nesting objects and arrays within each other to represent more complex data structures. This makes it a flexible format for representing data in various contexts, such as configuration files, API responses, and database records.\n",
    "\n",
    "Parsing JSON data is straightforward in many programming languages, as they provide built-in methods or libraries to convert JSON strings into native data structures (e.g., objects or arrays) and vice versa, enabling easy manipulation and extraction of data."
   ]
  },
  {
   "attachments": {},
   "cell_type": "markdown",
   "metadata": {},
   "source": [
    "### JSON Examples"
   ]
  },
  {
   "attachments": {},
   "cell_type": "markdown",
   "metadata": {},
   "source": [
    "#### Save to JSON"
   ]
  },
  {
   "cell_type": "code",
   "execution_count": null,
   "metadata": {},
   "outputs": [],
   "source": [
    "import json\n",
    "\n",
    "# JSON data\n",
    "data = {'name': 'John', 'age': 30, 'city': 'New York'}\n",
    "\n",
    "# Write JSON data to a file\n",
    "with open('data.json', 'w') as f:\n",
    "    json.dump(data, f)"
   ]
  },
  {
   "attachments": {},
   "cell_type": "markdown",
   "metadata": {},
   "source": [
    "#### Load from JSON"
   ]
  },
  {
   "cell_type": "code",
   "execution_count": null,
   "metadata": {},
   "outputs": [],
   "source": [
    "import json\n",
    "\n",
    "# Read JSON data from a file\n",
    "with open('data.json') as f:\n",
    "    data = json.load(f)\n",
    "\n",
    "# Access the JSON data\n",
    "print(data)"
   ]
  },
  {
   "attachments": {},
   "cell_type": "markdown",
   "metadata": {},
   "source": [
    "#### JSON to object\n",
    "\n",
    "`json.loads()`: The `loads()` function (short for \"load string\") is used to deserialize a JSON string into a Python object. It takes a JSON string as input and returns a Python object that corresponds to the JSON data."
   ]
  },
  {
   "cell_type": "code",
   "execution_count": null,
   "metadata": {},
   "outputs": [],
   "source": [
    "import json\n",
    "\n",
    "# JSON data\n",
    "json_data = '{\"name\": \"John\", \"age\": 30, \"city\": \"New York\"}'\n",
    "\n",
    "# Convert JSON to Python object\n",
    "python_obj = json.loads(json_data)\n",
    "\n",
    "# Access the Python object\n",
    "print(python_obj)\n"
   ]
  },
  {
   "cell_type": "code",
   "execution_count": null,
   "metadata": {},
   "outputs": [],
   "source": [
    "import json\n",
    "\n",
    "# JSON data\n",
    "data = '{\"name\": \"John\", \"age\": 30, \"city\": \"New York\"}'\n",
    "\n",
    "# Parse JSON data\n",
    "json_obj = json.loads(data)\n",
    "\n",
    "# Access specific values\n",
    "print(json_obj['name'])  # Output: John\n",
    "print(json_obj['age'])   # Output: 30\n",
    "print(json_obj['city'])  # Output: New York"
   ]
  },
  {
   "cell_type": "code",
   "execution_count": null,
   "metadata": {},
   "outputs": [],
   "source": [
    "import json\n",
    "\n",
    "# JSON data with nested structure\n",
    "data = '{\"person\": {\"name\": \"John\", \"age\": 30, \"city\": \"New York\"}}'\n",
    "\n",
    "# Parse JSON data\n",
    "json_obj = json.loads(data)\n",
    "\n",
    "# Access nested values\n",
    "print(json_obj['person']['name'])  # Output: John\n",
    "print(json_obj['person']['age'])   # Output: 30\n",
    "print(json_obj['person']['city'])  # Output: New York\n"
   ]
  },
  {
   "attachments": {},
   "cell_type": "markdown",
   "metadata": {},
   "source": [
    "#### Object to JSON\n",
    "\n",
    "`json.dumps()`: The `dumps()` function (short for \"dump string\") is used to serialize a Python object into a JSON formatted string. It takes a Python object as input and returns a JSON string representation of that object."
   ]
  },
  {
   "cell_type": "code",
   "execution_count": 2,
   "metadata": {},
   "outputs": [
    {
     "name": "stdout",
     "output_type": "stream",
     "text": [
      "{\"name\": \"John\", \"age\": 30, \"city\": \"New York\"}\n"
     ]
    }
   ],
   "source": [
    "import json\n",
    "\n",
    "# Python object\n",
    "python_obj = {'name': 'John', 'age': 30, 'city': 'New York'}\n",
    "\n",
    "# Convert Python object to JSON\n",
    "json_data = json.dumps(python_obj)\n",
    "\n",
    "# Print JSON data\n",
    "print(json_data)"
   ]
  },
  {
   "cell_type": "code",
   "execution_count": 3,
   "metadata": {},
   "outputs": [
    {
     "name": "stdout",
     "output_type": "stream",
     "text": [
      "{\"name\": \"John\", \"age\": 31, \"city\": \"San Francisco\"}\n"
     ]
    }
   ],
   "source": [
    "import json\n",
    "\n",
    "# JSON data\n",
    "data = '{\"name\": \"John\", \"age\": 30, \"city\": \"New York\"}'\n",
    "\n",
    "# Parse JSON data\n",
    "json_obj = json.loads(data)\n",
    "\n",
    "# Modify values\n",
    "json_obj['age'] = 31\n",
    "json_obj['city'] = 'San Francisco'\n",
    "\n",
    "# Convert back to JSON\n",
    "modified_data = json.dumps(json_obj)\n",
    "\n",
    "# Print modified JSON data\n",
    "print(modified_data)\n"
   ]
  },
  {
   "cell_type": "code",
   "execution_count": null,
   "metadata": {},
   "outputs": [],
   "source": [
    "import json\n",
    "\n",
    "# JSON data\n",
    "data = {'name': 'John', 'age': 30, 'city': 'New York'}\n",
    "\n",
    "# Convert Python object to pretty-printed JSON\n",
    "json_data = json.dumps(data, indent=4)\n",
    "\n",
    "# Print pretty-printed JSON\n",
    "print(json_data)\n"
   ]
  },
  {
   "cell_type": "code",
   "execution_count": 4,
   "metadata": {},
   "outputs": [
    {
     "name": "stdout",
     "output_type": "stream",
     "text": [
      "{\"name\": \"John\", \"age\": 30, \"city\": \"New York\"}\n",
      "John\n",
      "30\n",
      "New York\n"
     ]
    }
   ],
   "source": [
    "import json\n",
    "\n",
    "# Custom class\n",
    "class Person:\n",
    "    def __init__(self, name, age, city):\n",
    "        self.name = name\n",
    "        self.age = age\n",
    "        self.city = city\n",
    "\n",
    "# Custom object\n",
    "person = Person('John', 30, 'New York')\n",
    "\n",
    "# Serialize object to JSON\n",
    "json_data = json.dumps(person.__dict__)\n",
    "\n",
    "# Print JSON data\n",
    "print(json_data)\n",
    "\n",
    "# Deserialize JSON to object\n",
    "json_obj = json.loads(json_data)\n",
    "\n",
    "# Create object from JSON\n",
    "person_obj = Person(json_obj['name'], json_obj['age'], json_obj['city'])\n",
    "\n",
    "# Access object attributes\n",
    "print(person_obj.name)  # Output: John\n",
    "print(person_obj.age)   # Output: 30\n",
    "print(person_obj.city)  # Output: New York"
   ]
  },
  {
   "attachments": {},
   "cell_type": "markdown",
   "metadata": {},
   "source": [
    "# Persistence: Databases"
   ]
  },
  {
   "attachments": {},
   "cell_type": "markdown",
   "metadata": {},
   "source": [
    "### SQLLite\n",
    "SQLite is a self-contained, serverless, and file-based relational database management system (RDBMS) widely used in various applications and programming languages, including Python. The `sqlite3` module in Python provides a simple and efficient way to interact with SQLite databases.\n",
    "\n",
    "Here are some key aspects of SQLite and the `sqlite3` module in Python:\n",
    "\n",
    "1. Lightweight and Serverless: SQLite is a lightweight database engine that doesn't require a separate server process. The entire database is stored as a single file on disk, making it easy to distribute, transport, and backup.\n",
    "\n",
    "2. Embedded Database: SQLite is designed to be embedded within applications, allowing them to have their own private database. It eliminates the need for a separate database server and enables applications to interact with the database directly.\n",
    "\n",
    "3. ACID Compliance: SQLite follows the principles of ACID (Atomicity, Consistency, Isolation, Durability) and provides transactional support. It ensures data integrity, supports concurrent access, and provides rollback and commit mechanisms.\n",
    "\n",
    "4. SQL Support: SQLite supports a subset of the SQL language and allows executing SQL statements for creating tables, inserting, updating, deleting, and querying data. It includes common SQL features like indexes, views, triggers, and joins.\n",
    "\n",
    "5. Python `sqlite3` Module: The `sqlite3` module in Python is part of the standard library and provides an API for working with SQLite databases. It allows you to create connections to SQLite databases, execute SQL statements, fetch query results, manage transactions, and handle errors.\n",
    "\n",
    "6. Easy Integration: SQLite seamlessly integrates with Python, and the `sqlite3` module provides a convenient way to interact with SQLite databases using Python code. It offers functions and methods for executing parameterized queries, working with result sets, handling database connections, and managing transactions.\n",
    "\n",
    "7. Cross-Platform Compatibility: SQLite is cross-platform and works on various operating systems, including Windows, macOS, Linux, and mobile platforms. This makes it suitable for developing applications that need to run on different environments.\n",
    "\n",
    "8. Data Types: SQLite supports a variety of data types, including INTEGER, TEXT, REAL, NUMERIC, and BLOB, allowing you to store different kinds of data.\n",
    "\n",
    "SQLite and the `sqlite3` module provide a lightweight and efficient solution for applications that require a local and file-based database system. It is often used for small to medium-sized projects, prototyping, mobile applications, and situations where a full-fledged client-server database system is not necessary.\n",
    "\n",
    "#### Comparison to MySQL\n",
    "SQLite:\n",
    "\n",
    "    Serverless and file-based.\n",
    "    Embedded within applications.\n",
    "    Suitable for small-scale projects.\n",
    "    Limited concurrency support.\n",
    "    Does not support advanced features like stored procedures and user management.\n",
    "\n",
    "MySQL:\n",
    "\n",
    "    Client-server architecture.\n",
    "    Supports multiple concurrent connections.\n",
    "    Suitable for larger-scale applications.\n",
    "    Robust concurrency control.\n",
    "    Supports advanced features like stored procedures and user management.\n",
    "\n",
    "In summary, SQLite is a lightweight, embedded database suitable for smaller projects, while MySQL is a feature-rich, scalable database designed for larger applications with multiple concurrent users."
   ]
  },
  {
   "cell_type": "code",
   "execution_count": null,
   "metadata": {},
   "outputs": [],
   "source": [
    "import sqlite3\n",
    "\n",
    "# Connect to the database\n",
    "conn = sqlite3.connect('example.db')\n",
    "\n",
    "# Create a cursor object to execute SQL queries\n",
    "cursor = conn.cursor()\n",
    "\n",
    "# Create a table\n",
    "cursor.execute('''CREATE TABLE IF NOT EXISTS employees\n",
    "                  (id INTEGER PRIMARY KEY, name TEXT, age INTEGER)''')\n",
    "\n",
    "# Insert data into the table\n",
    "cursor.execute(\"INSERT INTO employees (name, age) VALUES (?, ?)\", ('John Doe', 30))\n",
    "cursor.execute(\"INSERT INTO employees (name, age) VALUES (?, ?)\", ('Jane Smith', 25))\n",
    "cursor.execute(\"INSERT INTO employees (name, age) VALUES (?, ?)\", ('Bob Johnson', 35))\n",
    "\n",
    "# Commit the changes to the database\n",
    "conn.commit()\n",
    "\n",
    "# Retrieve data from the table\n",
    "cursor.execute(\"SELECT * FROM employees\")\n",
    "rows = cursor.fetchall()\n",
    "\n",
    "# Print the retrieved data\n",
    "for row in rows:\n",
    "    print(row)\n",
    "\n",
    "# Update data in the table\n",
    "cursor.execute(\"UPDATE employees SET age = ? WHERE name = ?\", (40, 'John Doe'))\n",
    "conn.commit()\n",
    "\n",
    "# Delete data from the table\n",
    "cursor.execute(\"DELETE FROM employees WHERE name = ?\", ('Bob Johnson',))\n",
    "conn.commit()\n",
    "\n",
    "# Close the database connection\n",
    "conn.close()"
   ]
  },
  {
   "cell_type": "code",
   "execution_count": null,
   "metadata": {},
   "outputs": [],
   "source": [
    "import sqlite3\n",
    "import json\n",
    "\n",
    "# Connect to the database\n",
    "conn = sqlite3.connect('example.db')\n",
    "\n",
    "# Create a cursor object to execute SQL queries\n",
    "cursor = conn.cursor()\n",
    "\n",
    "# Create a table to store the JSON data\n",
    "cursor.execute('''CREATE TABLE IF NOT EXISTS employees\n",
    "                  (id INTEGER PRIMARY KEY, name TEXT, age INTEGER)''')\n",
    "\n",
    "# Read JSON data from file\n",
    "with open('data_dicts.json') as f:\n",
    "    json_data = json.load(f)\n",
    "\n",
    "# Insert data from JSON into the table\n",
    "for entry in json_data:\n",
    "    name = entry['name']\n",
    "    age = entry['age']\n",
    "    cursor.execute(\"INSERT INTO employees (name, age) VALUES (?, ?)\", (name, age))\n",
    "\n",
    "# Commit the changes to the database\n",
    "conn.commit()\n",
    "\n",
    "# Close the database connection\n",
    "conn.close()"
   ]
  },
  {
   "attachments": {},
   "cell_type": "markdown",
   "metadata": {},
   "source": [
    "### ORM and SQLAlchemy"
   ]
  },
  {
   "attachments": {},
   "cell_type": "markdown",
   "metadata": {},
   "source": [
    "ORM stands for Object-Relational Mapping. It is a programming technique that allows developers to interact with relational databases using object-oriented programming languages, such as Python, without directly writing SQL queries.\n",
    "\n",
    "SQLAlchemy is a Python library for working with relational databases. It provides an ORM for interacting with databases using Python objects and SQL statements. It supports multiple database backends, offers a SQL expression language, simplifies querying and CRUD operations, manages transactions, includes connection pooling, supports data migration, and integrates with other frameworks.\n"
   ]
  },
  {
   "cell_type": "code",
   "execution_count": 1,
   "metadata": {},
   "outputs": [
    {
     "name": "stdout",
     "output_type": "stream",
     "text": [
      "Alice 25\n"
     ]
    }
   ],
   "source": [
    "from sqlalchemy import create_engine, Column, Integer, String\n",
    "from sqlalchemy.orm import sessionmaker\n",
    "from sqlalchemy.ext.declarative import declarative_base\n",
    "\n",
    "# Create the SQLAlchemy engine to connect to the database\n",
    "engine = create_engine('sqlite:///example.db')\n",
    "\n",
    "# Create a session factory for creating sessions\n",
    "Session = sessionmaker(bind=engine)\n",
    "\n",
    "# Create a base class for declarative models\n",
    "Base = declarative_base()\n",
    "\n",
    "\n",
    "# Define an ORM model as a class inheriting from the base class\n",
    "class User(Base):\n",
    "    __tablename__ = 'users'  # Table name\n",
    "\n",
    "    id = Column(Integer, primary_key=True)\n",
    "    name = Column(String)\n",
    "    age = Column(Integer)\n",
    "\n",
    "\n",
    "# Create the database schema based on the model definitions\n",
    "Base.metadata.create_all(engine)\n",
    "\n",
    "\n",
    "# Create a new user and save it to the database\n",
    "user = User(name='Alice', age=25)\n",
    "session = Session()\n",
    "session.add(user)\n",
    "session.commit()\n",
    "\n",
    "\n",
    "# Query all users from the database\n",
    "users = session.query(User).all()\n",
    "for user in users:\n",
    "    print(user.name, user.age)\n",
    "\n",
    "\n",
    "# Update an existing user's age\n",
    "user = session.query(User).filter_by(name='Alice').first()\n",
    "user.age = 26\n",
    "session.commit()\n",
    "\n",
    "\n",
    "# Delete a user from the database\n",
    "user = session.query(User).filter_by(name='Alice').first()\n",
    "session.delete(user)\n",
    "session.commit()\n",
    "\n",
    "\n",
    "# Close the session when done\n",
    "session.close()\n"
   ]
  },
  {
   "attachments": {},
   "cell_type": "markdown",
   "metadata": {},
   "source": [
    "In above example:\n",
    "\n",
    "- We import necessary SQLAlchemy modules for database operations.\n",
    "- We create an engine to connect to the SQLite database.\n",
    "- We create a session factory for creating database sessions.\n",
    "- We create a base class using `declarative_base()` for declarative models.\n",
    "- We define an ORM model (`User`) as a subclass of the base class with table and column definitions.\n",
    "- We create the database schema based on the defined models.\n",
    "- We perform various operations like adding a new user, querying users, updating user's age, and deleting a user.\n",
    "- We commit the changes to the database.\n",
    "- We close the session when we are done with the database operations."
   ]
  },
  {
   "attachments": {},
   "cell_type": "markdown",
   "metadata": {},
   "source": [
    "# NumPy"
   ]
  },
  {
   "attachments": {},
   "cell_type": "markdown",
   "metadata": {},
   "source": [
    "NumPy, short for Numerical Python, is a fundamental library in Python for scientific computing and data manipulation. It provides efficient multidimensional array objects, along with a wide range of mathematical functions, to perform complex computations with ease. NumPy's ndarray (n-dimensional array) enables efficient storage and manipulation of large datasets, facilitating operations such as element-wise computations, slicing, reshaping, and aggregations. It offers a vast collection of mathematical functions for linear algebra, Fourier transforms, random number generation, and more. NumPy's high-performance nature, combined with its extensive functionality, makes it a cornerstone of scientific computing in Python and a foundation for other data-oriented libraries.\n",
    "\n",
    "The following list includes a wide range of important NumPy functions for array creation, manipulation, operations, mathematical computations, linear algebra, random number generation, file I/O, and statistical analysis.\n",
    "\n",
    "1. Array Creation:\n",
    "   - `numpy.array`: Create an array from a Python list or tuple.\n",
    "   - `numpy.zeros`: Create an array filled with zeros.\n",
    "   - `numpy.ones`: Create an array filled with ones.\n",
    "   - `numpy.empty`: Create an uninitialized array.\n",
    "   - `numpy.arange`: Create an array with a range of values.\n",
    "   - `numpy.linspace`: Create an array with evenly spaced values.\n",
    "   - `numpy.eye`: Create an identity matrix.\n",
    "\n",
    "2. Array Manipulation:\n",
    "   - `numpy.reshape`: Reshape an array.\n",
    "   - `numpy.concatenate`: Concatenate arrays along a given axis.\n",
    "   - `numpy.split`: Split an array into multiple sub-arrays.\n",
    "   - `numpy.transpose`: Transpose an array.\n",
    "   - `numpy.flatten`: Flatten a multi-dimensional array.\n",
    "   - `numpy.swapaxes`: Swap the axes of an array.\n",
    "\n",
    "3. Array Operations:\n",
    "   - `numpy.mean`: Compute the arithmetic mean along a specified axis.\n",
    "   - `numpy.sum`: Compute the sum of array elements along a specified axis.\n",
    "   - `numpy.min`: Find the minimum value in an array.\n",
    "   - `numpy.max`: Find the maximum value in an array.\n",
    "   - `numpy.argmax`: Find the indices of the maximum value.\n",
    "   - `numpy.argmin`: Find the indices of the minimum value.\n",
    "   - `numpy.sort`: Sort an array.\n",
    "   - `numpy.argsort`: Return the indices that would sort an array.\n",
    "\n",
    "4. Mathematical Functions:\n",
    "   - `numpy.sin`: Compute the element-wise sine of an array.\n",
    "   - `numpy.cos`: Compute the element-wise cosine of an array.\n",
    "   - `numpy.exp`: Compute the element-wise exponential of an array.\n",
    "   - `numpy.log`: Compute the natural logarithm of an array.\n",
    "   - `numpy.sqrt`: Compute the element-wise square root of an array.\n",
    "\n",
    "5. Linear Algebra:\n",
    "   - `numpy.dot`: Compute the dot product of two arrays.\n",
    "   - `numpy.matmul`: Matrix multiplication of two arrays.\n",
    "   - `numpy.linalg.inv`: Compute the inverse of a square matrix.\n",
    "   - `numpy.linalg.det`: Compute the determinant of a square matrix.\n",
    "   - `numpy.linalg.eig`: Compute the eigenvalues and eigenvectors of a square matrix.\n",
    "\n",
    "6. Random Number Generation:\n",
    "   - `numpy.random.rand`: Generate random numbers from a uniform distribution.\n",
    "   - `numpy.random.randn`: Generate random numbers from a standard normal distribution.\n",
    "   - `numpy.random.randint`: Generate random integers within a specified range.\n",
    "\n",
    "7. File I/O:\n",
    "   - `numpy.load`: Load arrays from a binary file.\n",
    "   - `numpy.save`: Save arrays to a binary file.\n",
    "\n",
    "8. Statistics:\n",
    "   - `numpy.histogram`: Compute the histogram of an array.\n",
    "   - `numpy.mean`: Compute the mean of an array.\n",
    "   - `numpy.median`: Compute the median of an array.\n",
    "   - `numpy.std`: Compute the standard deviation of an array.\n",
    "   - `numpy.corrcoef`: Compute the correlation coefficient between two arrays.\n",
    "\n"
   ]
  },
  {
   "cell_type": "code",
   "execution_count": 2,
   "metadata": {},
   "outputs": [],
   "source": [
    "import numpy as np\n",
    "\n",
    "# Create a 2D matrix from a list\n",
    "matrix1 = np.array([[1, 2, 3], [4, 5, 6]])\n",
    "\n",
    "# Create a 3x3 identity matrix\n",
    "identity_matrix = np.eye(3)\n",
    "\n",
    "# Create a matrix filled with zeros\n",
    "zeros_matrix = np.zeros((2, 3))\n",
    "\n",
    "# Create a matrix filled with ones\n",
    "ones_matrix = np.ones((3, 2))\n",
    "\n",
    "# Create a matrix filled with random values\n",
    "random_matrix = np.random.rand(2, 2)"
   ]
  },
  {
   "cell_type": "code",
   "execution_count": 12,
   "metadata": {},
   "outputs": [
    {
     "name": "stdout",
     "output_type": "stream",
     "text": [
      "[[ 6  8]\n",
      " [10 12]]\n"
     ]
    }
   ],
   "source": [
    "matrix1 = np.array([[1, 2], [3, 4]])\n",
    "matrix2 = np.array([[5, 6], [7, 8]])\n",
    "\n",
    "# Element-wise addition\n",
    "result = matrix1 + matrix2\n",
    "print(result)"
   ]
  },
  {
   "attachments": {},
   "cell_type": "markdown",
   "metadata": {},
   "source": [
    "Element-wise matrix multiplication"
   ]
  },
  {
   "cell_type": "code",
   "execution_count": 13,
   "metadata": {},
   "outputs": [
    {
     "name": "stdout",
     "output_type": "stream",
     "text": [
      "[[ 5 12]\n",
      " [21 32]]\n"
     ]
    }
   ],
   "source": [
    "matrix1 = np.array([[1, 2], [3, 4]])\n",
    "matrix2 = np.array([[5, 6], [7, 8]])\n",
    "\n",
    "# Element-wise multiplication\n",
    "result = matrix1 * matrix2\n",
    "\n",
    "print(result)"
   ]
  },
  {
   "attachments": {},
   "cell_type": "markdown",
   "metadata": {},
   "source": [
    "Matrix Multiplication (Dot Product):"
   ]
  },
  {
   "cell_type": "code",
   "execution_count": 14,
   "metadata": {},
   "outputs": [
    {
     "name": "stdout",
     "output_type": "stream",
     "text": [
      "[[19 22]\n",
      " [43 50]]\n"
     ]
    }
   ],
   "source": [
    "matrix1 = np.array([[1, 2], [3, 4]])\n",
    "matrix2 = np.array([[5, 6], [7, 8]])\n",
    "\n",
    "# Matrix multiplication using dot product\n",
    "result = np.dot(matrix1, matrix2)\n",
    "\n",
    "print(result)\n"
   ]
  },
  {
   "cell_type": "code",
   "execution_count": 15,
   "metadata": {},
   "outputs": [
    {
     "name": "stdout",
     "output_type": "stream",
     "text": [
      "[[19 22]\n",
      " [43 50]]\n"
     ]
    }
   ],
   "source": [
    "matrix = np.array([[1, 2], [3, 4]])\n",
    "\n",
    "# Compute the inverse of the matrix\n",
    "inverse_matrix = np.linalg.inv(matrix)\n",
    "\n",
    "print(result)"
   ]
  },
  {
   "cell_type": "code",
   "execution_count": 16,
   "metadata": {},
   "outputs": [
    {
     "name": "stdout",
     "output_type": "stream",
     "text": [
      "[1.+1.j 1.-1.j]\n",
      "[[0.70710678+0.j         0.70710678-0.j        ]\n",
      " [0.        -0.70710678j 0.        +0.70710678j]]\n"
     ]
    }
   ],
   "source": [
    "matrix = np.array([[1, -1], [1, 1]])\n",
    "\n",
    "# Compute the eigenvalues and eigenvectors of the matrix\n",
    "eigenvalues, eigenvectors = np.linalg.eig(matrix)\n",
    "\n",
    "print(eigenvalues)\n",
    "print(eigenvectors)\n"
   ]
  },
  {
   "cell_type": "code",
   "execution_count": 11,
   "metadata": {},
   "outputs": [
    {
     "name": "stdout",
     "output_type": "stream",
     "text": [
      "[[1 2 5 6]\n",
      " [3 4 7 8]]\n"
     ]
    }
   ],
   "source": [
    "matrix1 = np.array([[1, 2], [3, 4]])\n",
    "matrix2 = np.array([[5, 6], [7, 8]])\n",
    "\n",
    "# Concatenate matrices vertically\n",
    "result = np.vstack((matrix1, matrix2))\n",
    "\n",
    "# Concatenate matrices horizontally\n",
    "result = np.hstack((matrix1, matrix2))\n",
    "print(result)"
   ]
  },
  {
   "attachments": {},
   "cell_type": "markdown",
   "metadata": {},
   "source": [
    "### Comparison to standard python code\n",
    "NumPy is significantly faster than working with standard for-loops in Python due to several reasons:\n",
    "\n",
    "1. **Vectorization**: NumPy operations are vectorized, meaning they operate on entire arrays rather than individual elements. This allows for efficient parallelization and optimized execution using highly optimized C or Fortran code under the hood. In contrast, standard for-loops in Python process elements one by one, leading to slower execution.\n",
    "\n",
    "2. **Efficient Data Storage**: NumPy arrays are stored in contiguous memory locations, allowing for efficient data access and improved cache utilization. In contrast, standard Python lists are dynamically allocated, fragmented, and require additional memory overhead.\n",
    "\n",
    "3. **Optimized Low-Level Implementations**: NumPy leverages highly optimized, low-level implementations written in C or Fortran. These implementations are optimized for performance and have been refined over years of development. \n",
    "\n",
    "4. **Hardware adaption and Algorithms**: NumPy provides a wide range of built-in functions and algorithms for efficient numerical computations. These functions are often implemented using optimized algorithms that take advantage of the underlying hardware (e.g. SIMD (Single Instruction, Multiple Data)  instructions, such as SSE (Streaming SIMD Extensions) or AVX (Advanced Vector Extensions)). \n",
    "\n",
    "Example:"
   ]
  },
  {
   "cell_type": "code",
   "execution_count": 6,
   "metadata": {},
   "outputs": [
    {
     "name": "stdout",
     "output_type": "stream",
     "text": [
      "NumPy Time: 0.0010004043579101562\n",
      "Python Time: 6.035109996795654\n",
      "Speedup: 6032.670638703527\n"
     ]
    }
   ],
   "source": [
    "import numpy as np\n",
    "import time\n",
    "\n",
    "# Define matrix sizes\n",
    "size = 200\n",
    "\n",
    "# Create two random matrices\n",
    "matrix1 = np.random.rand(size, size)\n",
    "matrix2 = np.random.rand(size, size)\n",
    "\n",
    "# Perform matrix multiplication using NumPy\n",
    "start_time = time.time()\n",
    "result_np = np.dot(matrix1, matrix2)\n",
    "end_time = time.time()\n",
    "numpy_time = end_time - start_time\n",
    "\n",
    "# Compare the results\n",
    "print(\"NumPy Time:\", numpy_time)\n",
    "\n",
    "# Perform matrix multiplication using standard Python with for-loops\n",
    "result_py = [[0] * size for _ in range(size)]\n",
    "start_time = time.time()\n",
    "for i in range(size):\n",
    "    for j in range(size):\n",
    "        for k in range(size):\n",
    "            result_py[i][j] += matrix1[i][k] * matrix2[k][j]\n",
    "end_time = time.time()\n",
    "python_time = end_time - start_time\n",
    "\n",
    "# Compare the results\n",
    "print(\"Python Time:\", python_time)\n",
    "print(\"Speedup:\", python_time / numpy_time)\n",
    "\n",
    "# MAC M1\n",
    "#NumPy Time: 0.03549599647521973\n",
    "#Python Time: 334.54926013946533\n",
    "#Speedup: 9424.985726855677\n"
   ]
  },
  {
   "attachments": {},
   "cell_type": "markdown",
   "metadata": {},
   "source": [
    "Note: The matrix multiplication algorithm requires, in the worst case, $n^{3}$ multiplications and ${\\displaystyle (n-1)n^{2}}$ additions of scalars to compute the product of two square n×n matrices. Its computational complexity is therefore $O(n^{3})$, in a model of computation for which the scalar operations take constant time. \n"
   ]
  },
  {
   "attachments": {},
   "cell_type": "markdown",
   "metadata": {},
   "source": [
    "## GUI (Examples with Tkinter)\n",
    "Tkinter is a standard Python library for creating graphical user interfaces (GUIs). It provides a set of tools and widgets to build windows, dialogs, buttons, menus, and other GUI elements.\n",
    "Tkinter provides many more widgets and options to build complex GUI applications. The bekow examples showcase some basic functionalities like window creation, button handling, entry fields, message boxes, and menu bars. By combining and customizing these elements, you can create a wide range of GUI applications tailored to your specific needs.\n",
    "\n",
    "Here's a summary of some key objects and widgets that might be helpful to implement the object management system:\n",
    "\n",
    "1. `Tk()`: The root window object represents the main window of the application.\n",
    "\n",
    "2. `Frame`: A container widget that helps organize and group other widgets.\n",
    "\n",
    "3. `Label`: Displays static text or an image.\n",
    "\n",
    "4. `Entry`: Allows users to enter text or input.\n",
    "\n",
    "5. `Button`: Triggers an action when clicked by the user.\n",
    "\n",
    "6. `Listbox`: Displays a list of items that users can select from.\n",
    "\n",
    "7. `Scrollbar`: Provides scrolling functionality for widgets such as Listbox.\n",
    "\n",
    "8. `Checkbutton`: Represents a checkbox that users can select or deselect.\n",
    "\n",
    "9. `Radiobutton`: Represents a set of mutually exclusive options that users can select.\n",
    "\n",
    "10. `Menu` and `MenuItem`: Enables the creation of menus and menu items for navigation and actions.\n",
    "\n",
    "11. `Canvas`: A versatile drawing area for creating custom graphics and visualizations.\n",
    "\n",
    "12. `MessageBox`: Displays informative, warning, or error messages to the user.\n",
    "\n",
    "13. `Grid` and `Pack`: Layout managers that help in organizing and positioning widgets within a window.\n",
    "\n",
    "14. Event Handling: Tkinter provides methods to bind functions to various events such as button clicks, mouse actions, and keyboard input.\n",
    "\n",
    "Remember, the power of Tkinter lies in its ability to combine these objects and widgets effectively to create a rich and interactive user interface tailored to your specific requirements."
   ]
  },
  {
   "attachments": {},
   "cell_type": "markdown",
   "metadata": {},
   "source": [
    "### Examples"
   ]
  },
  {
   "attachments": {},
   "cell_type": "markdown",
   "metadata": {},
   "source": [
    "#### Simple Window"
   ]
  },
  {
   "cell_type": "code",
   "execution_count": 17,
   "metadata": {},
   "outputs": [],
   "source": [
    "import tkinter as tk\n",
    "\n",
    "# Create a new window\n",
    "window = tk.Tk()\n",
    "\n",
    "# Set the window title\n",
    "window.title(\"My Window\")\n",
    "\n",
    "# Set the window size\n",
    "window.geometry(\"400x300\")\n",
    "\n",
    "# Start the Tkinter event loop\n",
    "window.mainloop()\n"
   ]
  },
  {
   "attachments": {},
   "cell_type": "markdown",
   "metadata": {},
   "source": [
    "#### Button and Event Handling:"
   ]
  },
  {
   "cell_type": "code",
   "execution_count": 18,
   "metadata": {},
   "outputs": [],
   "source": [
    "import tkinter as tk\n",
    "\n",
    "# Function to handle button click event\n",
    "def button_clicked():\n",
    "    label.config(text=\"Button Clicked!\")\n",
    "\n",
    "# Create a new window\n",
    "window = tk.Tk()\n",
    "\n",
    "# Create a button\n",
    "button = tk.Button(window, text=\"Click Me\", command=button_clicked)\n",
    "button.pack()\n",
    "\n",
    "# Create a label\n",
    "label = tk.Label(window, text=\"\")\n",
    "label.pack()\n",
    "\n",
    "# Start the Tkinter event loop\n",
    "window.mainloop()\n"
   ]
  },
  {
   "attachments": {},
   "cell_type": "markdown",
   "metadata": {},
   "source": [
    "#### Entry Field and Message Box"
   ]
  },
  {
   "cell_type": "code",
   "execution_count": 19,
   "metadata": {},
   "outputs": [],
   "source": [
    "import tkinter as tk\n",
    "from tkinter import messagebox\n",
    "\n",
    "# Function to handle button click event\n",
    "def show_message():\n",
    "    name = entry.get()\n",
    "    messagebox.showinfo(\"Message\", f\"Hello, {name}!\")\n",
    "\n",
    "# Create a new window\n",
    "window = tk.Tk()\n",
    "\n",
    "# Create an entry field\n",
    "entry = tk.Entry(window)\n",
    "entry.pack()\n",
    "\n",
    "# Create a button\n",
    "button = tk.Button(window, text=\"Show Message\", command=show_message)\n",
    "button.pack()\n",
    "\n",
    "# Start the Tkinter event loop\n",
    "window.mainloop()"
   ]
  },
  {
   "attachments": {},
   "cell_type": "markdown",
   "metadata": {},
   "source": [
    "#### Menu Bar and Menu Items"
   ]
  },
  {
   "cell_type": "code",
   "execution_count": 20,
   "metadata": {},
   "outputs": [
    {
     "name": "stdout",
     "output_type": "stream",
     "text": [
      "Open File\n",
      "Save File\n"
     ]
    }
   ],
   "source": [
    "import tkinter as tk\n",
    "\n",
    "# Function to handle menu item selection\n",
    "def open_file():\n",
    "    print(\"Open File\")\n",
    "\n",
    "def save_file():\n",
    "    print(\"Save File\")\n",
    "\n",
    "# Create a new window\n",
    "window = tk.Tk()\n",
    "\n",
    "# Create a menu bar\n",
    "menu_bar = tk.Menu(window)\n",
    "window.config(menu=menu_bar)\n",
    "\n",
    "# Create a File menu\n",
    "file_menu = tk.Menu(menu_bar, tearoff=0)\n",
    "menu_bar.add_cascade(label=\"File\", menu=file_menu)\n",
    "\n",
    "# Add menu items to the File menu\n",
    "file_menu.add_command(label=\"Open\", command=open_file)\n",
    "file_menu.add_command(label=\"Save\", command=save_file)\n",
    "\n",
    "# Start the Tkinter event loop\n",
    "window.mainloop()\n"
   ]
  },
  {
   "attachments": {},
   "cell_type": "markdown",
   "metadata": {},
   "source": [
    "#### Listbox"
   ]
  },
  {
   "cell_type": "code",
   "execution_count": 21,
   "metadata": {},
   "outputs": [],
   "source": [
    "import tkinter as tk\n",
    "from tkinter import messagebox\n",
    "\n",
    "# Function to handle \"Add Room\" button click event\n",
    "def add_room():\n",
    "    room_name = entry.get()\n",
    "    if room_name:\n",
    "        room_list.insert(tk.END, room_name)\n",
    "        entry.delete(0, tk.END)\n",
    "    else:\n",
    "        messagebox.showwarning(\"Warning\", \"Please enter a room name.\")\n",
    "\n",
    "# Function to handle \"Remove Room\" button click event\n",
    "def remove_room():\n",
    "    selected_index = room_list.curselection()\n",
    "    if selected_index:\n",
    "        room_list.delete(selected_index)\n",
    "    else:\n",
    "        messagebox.showwarning(\"Warning\", \"Please select a room to remove.\")\n",
    "\n",
    "# Create a new window\n",
    "window = tk.Tk()\n",
    "window.title(\"Room Manager\")\n",
    "\n",
    "# Create an entry field\n",
    "entry = tk.Entry(window)\n",
    "entry.pack()\n",
    "\n",
    "# Create an \"Add Room\" button\n",
    "add_button = tk.Button(window, text=\"Add Room\", command=add_room)\n",
    "add_button.pack()\n",
    "\n",
    "# Create a listbox to display the rooms\n",
    "room_list = tk.Listbox(window)\n",
    "room_list.pack()\n",
    "\n",
    "# Create a \"Remove Room\" button\n",
    "remove_button = tk.Button(window, text=\"Remove Room\", command=remove_room)\n",
    "remove_button.pack()\n",
    "\n",
    "# Start the Tkinter event loop\n",
    "window.mainloop()\n"
   ]
  },
  {
   "cell_type": "code",
   "execution_count": null,
   "metadata": {},
   "outputs": [],
   "source": []
  }
 ],
 "metadata": {
  "kernelspec": {
   "display_name": "django",
   "language": "python",
   "name": "python3"
  },
  "language_info": {
   "codemirror_mode": {
    "name": "ipython",
    "version": 3
   },
   "file_extension": ".py",
   "mimetype": "text/x-python",
   "name": "python",
   "nbconvert_exporter": "python",
   "pygments_lexer": "ipython3",
   "version": "3.9.16"
  },
  "orig_nbformat": 4
 },
 "nbformat": 4,
 "nbformat_minor": 2
}
