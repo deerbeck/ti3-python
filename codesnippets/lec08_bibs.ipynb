{
 "cells": [
  {
   "attachments": {},
   "cell_type": "markdown",
   "metadata": {},
   "source": [
    "## Walrus operator"
   ]
  },
  {
   "attachments": {},
   "cell_type": "markdown",
   "metadata": {},
   "source": [
    "Advantages of using the Walrus operator:\n",
    "- Conciseness: The walrus operator can help reduce the number of lines of code needed to perform certain operations, such as loop conditions and conditional assignments.\n",
    "- Readability: In some cases, the walrus operator can make code more readable by eliminating the need for temporary variables or complex nested conditions.\n",
    "- Efficiency: By combining multiple operations into a single statement, the walrus operator can sometimes improve code efficiency by reducing the number of function calls or conditional checks.\n",
    "- Flexibility: The walrus operator can be used in a variety of contexts, including loops, conditional statements, and list comprehensions, making it a versatile tool for Python programmers."
   ]
  },
  {
   "cell_type": "code",
   "execution_count": null,
   "metadata": {},
   "outputs": [],
   "source": [
    "# Assign a variable to the length of the user's input\n",
    "while (user_input := input(\"Enter a word: \")) and (input_length := len(user_input)) > 0:\n",
    "    print(f\"The word you entered is {user_input} and it has {input_length} characters.\")\n"
   ]
  },
  {
   "cell_type": "code",
   "execution_count": null,
   "metadata": {},
   "outputs": [],
   "source": [
    "import os\n",
    "# Check if a file exists and has a certain size\n",
    "if (file := open(\"example.txt\", \"r\")) and (file_size := os.path.getsize(file.name)) > 0:\n",
    "    print(f\"The file exists and has a size of {file_size} bytes.\")\n",
    "else:\n",
    "    print(\"The file does not exist or has a size of 0 bytes.\")\n",
    "    file.close()\n"
   ]
  },
  {
   "cell_type": "code",
   "execution_count": null,
   "metadata": {},
   "outputs": [],
   "source": [
    "# Filter a list of integers and sum the remaining values\n",
    "numbers = [10, 20, 30, 40, 50]\n",
    "sum_of_even_numbers = sum(filtered_numbers := [num for num in numbers if num % 2 == 0])\n",
    "print(f\"The even numbers in the list are {filtered_numbers} and their sum is {sum_of_even_numbers}.\")\n"
   ]
  },
  {
   "cell_type": "code",
   "execution_count": null,
   "metadata": {},
   "outputs": [],
   "source": [
    "# Get the lengths of strings in a list and store the lengths in a new list\n",
    "strings = [\"apple\", \"banana\", \"cherry\", \"date\"]\n",
    "lengths = []\n",
    "for s in strings:\n",
    "    if (l := len(s)) > 5:\n",
    "        lengths.append(l)\n",
    "print(lengths)"
   ]
  },
  {
   "attachments": {},
   "cell_type": "markdown",
   "metadata": {},
   "source": [
    "## Type Hints"
   ]
  },
  {
   "cell_type": "code",
   "execution_count": null,
   "metadata": {},
   "outputs": [],
   "source": [
    "class Person:\n",
    "    def __init__(self, name: str, age: int) -> None:\n",
    "        # The constructor takes a string and an integer as arguments\n",
    "        self.name = name  # instance variable of type str\n",
    "        self.age = age  # instance variable of type int\n",
    "\n",
    "    def introduce(self) -> str:\n",
    "        # The method returns a string\n",
    "        return f\"My name is {self.name} and I'm {self.age} years old.\""
   ]
  },
  {
   "cell_type": "code",
   "execution_count": null,
   "metadata": {},
   "outputs": [],
   "source": [
    "def print_args(*args: str, **kwargs: int) -> None:\n",
    "    # The function takes a variable-length argument list of strings and a dictionary of integers\n",
    "    print(\"args:\", args)\n",
    "    print(\"kwargs:\", kwargs)\n"
   ]
  },
  {
   "cell_type": "code",
   "execution_count": null,
   "metadata": {},
   "outputs": [],
   "source": [
    "from typing import Any\n",
    "\n",
    "def get_value_or_default(data: dict, key: str, default: Any) -> Any:\n",
    "    \"\"\"\n",
    "    Returns the value associated with the given key in the data dictionary,\n",
    "    or the default value if the key is not found.\n",
    "    \"\"\"\n",
    "    return data.get(key, default)"
   ]
  },
  {
   "attachments": {},
   "cell_type": "markdown",
   "metadata": {},
   "source": [
    "### mypy"
   ]
  },
  {
   "cell_type": "code",
   "execution_count": null,
   "metadata": {},
   "outputs": [],
   "source": [
    "# example.py\n",
    "def add_numbers(x: int, y: int) -> str:\n",
    "    # The function takes two integers and returns a string\n",
    "    return x + y\n",
    "\n",
    "result = add_numbers(5, 10)\n",
    "print(result)\n",
    "\n",
    "\n",
    "# mypy example.py\n",
    "# example.py:3: error: Incompatible return value type (got \"int\", expected \"str\")"
   ]
  },
  {
   "attachments": {},
   "cell_type": "markdown",
   "metadata": {},
   "source": [
    "## Positional vs. keyword arguments"
   ]
  },
  {
   "cell_type": "code",
   "execution_count": null,
   "metadata": {},
   "outputs": [],
   "source": [
    "def calculate1(start, end, step=1):\n",
    "    total = 0\n",
    "    for num in range(start, end, step):\n",
    "        total += num\n",
    "    return total\n",
    "\n",
    "# Example usage:\n",
    "print(calculate1(end=10, start=1, step=2))  # Output: 25\n",
    "\n",
    "\n",
    "def calculate2(start, end, /, step=1):\n",
    "    total = 0\n",
    "    for num in range(start, end, step):\n",
    "        total += num\n",
    "    return total\n",
    "\n",
    "# Example usage:\n",
    "print(calculate2(1, 10, step=2))  # Output: 25\n",
    "\n",
    "\n",
    "def calculate3(start, end, /, step=1):\n",
    "    total = 0\n",
    "    for num in range(start, end, step):\n",
    "        total += num\n",
    "    return total\n",
    "\n",
    "# Example usage:\n",
    "print(calculate3(end=10, start=1, step=2))  # Error"
   ]
  },
  {
   "cell_type": "code",
   "execution_count": null,
   "metadata": {},
   "outputs": [],
   "source": [
    "def calculate1(start, end, step=1):\n",
    "    total = 0\n",
    "    for num in range(start, end, step):\n",
    "        total += num\n",
    "    return total\n",
    "\n",
    "# Example usage:\n",
    "print(calculate1(1, 10, 2))\n",
    "\n",
    "def calculate2(start, end, *, step=1):\n",
    "    total = 0\n",
    "    for num in range(start, end, step):\n",
    "        total += num\n",
    "    return total\n",
    "\n",
    "# Example usage:\n",
    "print(calculate2(1, 10, 2)) # Error\n"
   ]
  },
  {
   "attachments": {},
   "cell_type": "markdown",
   "metadata": {},
   "source": [
    "## Memory Profiling"
   ]
  },
  {
   "cell_type": "code",
   "execution_count": null,
   "metadata": {},
   "outputs": [],
   "source": [
    "import memory_profiler as mprof\n",
    "\n",
    "def generate_numbers(n):\n",
    "    for i in range(n):\n",
    "        yield i**2\n",
    "\n",
    "def list_numbers(n):\n",
    "    return [i**2 for i in range(n)]\n",
    "\n",
    "# Generate 1000000 numbers using a generator\n",
    "gen_nums = generate_numbers(1000000)\n",
    "mprof_usage_gen = mprof.memory_usage()\n",
    "\n",
    "# Generate 1000000 numbers using a list comprehension\n",
    "list_nums = list_numbers(1000000)\n",
    "mprof_usage_list = mprof.memory_usage()\n",
    "\n",
    "print(f\"Memory usage for generator: {mprof_usage_gen[-1]} MB\")\n",
    "print(f\"Memory usage for list comprehension: {mprof_usage_list[-1]} MB\")\n"
   ]
  },
  {
   "attachments": {},
   "cell_type": "markdown",
   "metadata": {},
   "source": [
    "## Match-case"
   ]
  },
  {
   "cell_type": "code",
   "execution_count": null,
   "metadata": {},
   "outputs": [],
   "source": [
    "# Python 3.10 or greater needed\n",
    "def describe_value(value):\n",
    "    match value:\n",
    "        case 0:\n",
    "            print(\"The value is zero\")\n",
    "        case 1:\n",
    "            print(\"The value is one\")\n",
    "        case int() if value > 1:\n",
    "            print(\"The value is a positive integer greater than one\")\n",
    "        case str(s) if len(s) > 0:\n",
    "            print(\"The value is a non-empty string\")\n",
    "        case _:\n",
    "            print(\"The value is something else\")\n",
    "\n",
    "describe_value(0)\n",
    "describe_value(1)\n",
    "describe_value(5)\n",
    "describe_value(\"hello\")\n",
    "describe_value(None)\n"
   ]
  },
  {
   "attachments": {},
   "cell_type": "markdown",
   "metadata": {},
   "source": [
    "## Logging"
   ]
  },
  {
   "cell_type": "code",
   "execution_count": null,
   "metadata": {},
   "outputs": [],
   "source": [
    "import logging\n",
    "\n",
    "# Configure the logging module\n",
    "logging.basicConfig(level=logging.DEBUG,\n",
    "                    format='%(asctime)s [%(levelname)s] %(message)s',\n",
    "                    handlers=[\n",
    "                        logging.FileHandler(\"example.log\"),\n",
    "                        logging.StreamHandler()\n",
    "                    ])\n",
    "\n",
    "# Define a function that logs messages\n",
    "def divide_numbers(x, y):\n",
    "    try:\n",
    "        result = x / y\n",
    "        logging.info(\"Dividing {} by {} yields {}\".format(x, y, result))\n",
    "    except ZeroDivisionError:\n",
    "        logging.error(\"Cannot divide by zero!\")\n",
    "\n",
    "# Call the function with various arguments\n",
    "divide_numbers(10, 5)\n",
    "divide_numbers(10, 0)\n",
    "divide_numbers(\"hello\", \"world\")\n",
    "\n",
    "# Define a custom logger for a specific module\n",
    "logger = logging.getLogger(\"example\")\n",
    "logger.setLevel(logging.DEBUG)\n",
    "\n",
    "# Log a message using the custom logger\n",
    "logger.debug(\"This is a debug message\")\n",
    "\n",
    "# Use the exception method to log an exception traceback\n",
    "try:\n",
    "    raise ValueError(\"Something went wrong\")\n",
    "except ValueError:\n",
    "    logging.exception(\"An error occurred\")\n",
    "\n",
    "# Disable logging from third-party modules\n",
    "logging.getLogger(\"urllib3\").setLevel(logging.WARNING)\n"
   ]
  },
  {
   "attachments": {},
   "cell_type": "markdown",
   "metadata": {},
   "source": [
    "## Command Line Arguments"
   ]
  },
  {
   "cell_type": "code",
   "execution_count": null,
   "metadata": {},
   "outputs": [],
   "source": [
    "import sys\n",
    "\n",
    "def main():\n",
    "    for i,v in enumerate(sys.argv):\n",
    "        print(f\"{i} was {v}\")\n",
    "\n",
    "if __name__==\"__main__\":\n",
    "    main()"
   ]
  },
  {
   "cell_type": "code",
   "execution_count": null,
   "metadata": {},
   "outputs": [],
   "source": [
    "import argparse\n",
    "\n",
    "# Create a parser object\n",
    "parser = argparse.ArgumentParser(description='Example script to demonstrate argparse usage.')\n",
    "\n",
    "# Define arguments\n",
    "parser.add_argument('-v', '--verbose', action='store_true', help='Verbose output')\n",
    "parser.add_argument('input_file', type=str, help='Path to input file')\n",
    "parser.add_argument('output_file', type=str, help='Path to output file')\n",
    "\n",
    "# Parse arguments from the command line\n",
    "args = parser.parse_args()\n",
    "\n",
    "# Access the arguments\n",
    "if args.verbose:\n",
    "    print(f\"Processing {args.input_file} and writing to {args.output_file}...\")\n",
    "    \n",
    "# Your code here...\n"
   ]
  },
  {
   "attachments": {},
   "cell_type": "markdown",
   "metadata": {},
   "source": []
  }
 ],
 "metadata": {
  "kernelspec": {
   "display_name": "django",
   "language": "python",
   "name": "python3"
  },
  "language_info": {
   "codemirror_mode": {
    "name": "ipython",
    "version": 3
   },
   "file_extension": ".py",
   "mimetype": "text/x-python",
   "name": "python",
   "nbconvert_exporter": "python",
   "pygments_lexer": "ipython3",
   "version": "3.10.8"
  },
  "orig_nbformat": 4
 },
 "nbformat": 4,
 "nbformat_minor": 2
}
