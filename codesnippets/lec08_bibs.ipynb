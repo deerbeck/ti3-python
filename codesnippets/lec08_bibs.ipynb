{
 "cells": [
  {
   "cell_type": "markdown",
   "metadata": {},
   "source": [
    "## Walrus operator"
   ]
  },
  {
   "cell_type": "markdown",
   "metadata": {},
   "source": [
    "Advantages of using the Walrus operator:\n",
    "- Conciseness: The walrus operator can help reduce the number of lines of code needed to perform certain operations, such as loop conditions and conditional assignments.\n",
    "- Readability: In some cases, the walrus operator can make code more readable by eliminating the need for temporary variables or complex nested conditions.\n",
    "- Efficiency: By combining multiple operations into a single statement, the walrus operator can sometimes improve code efficiency by reducing the number of function calls or conditional checks.\n",
    "- Flexibility: The walrus operator can be used in a variety of contexts, including loops, conditional statements, and list comprehensions, making it a versatile tool for Python programmers."
   ]
  },
  {
   "cell_type": "code",
   "execution_count": 1,
   "metadata": {},
   "outputs": [
    {
     "name": "stdout",
     "output_type": "stream",
     "text": [
      "Enter a word: \n"
     ]
    }
   ],
   "source": [
    "# Assign a variable to the length of the user's input\n",
    "while (user_input := input(\"Enter a word: \")) and (input_length := len(user_input)) > 0:\n",
    "    print(f\"The word you entered is {user_input} and it has {input_length} characters.\")\n"
   ]
  },
  {
   "cell_type": "code",
   "execution_count": 2,
   "metadata": {},
   "outputs": [
    {
     "ename": "FileNotFoundError",
     "evalue": "[Errno 2] No such file or directory: 'example.txt'",
     "output_type": "error",
     "traceback": [
      "\u001b[1;31m---------------------------------------------------------------------------\u001b[0m",
      "\u001b[1;31mFileNotFoundError\u001b[0m                         Traceback (most recent call last)",
      "Cell \u001b[1;32mIn[2], line 3\u001b[0m\n\u001b[0;32m      1\u001b[0m \u001b[38;5;28;01mimport\u001b[39;00m \u001b[38;5;21;01mos\u001b[39;00m\n\u001b[0;32m      2\u001b[0m \u001b[38;5;66;03m# Check if a file exists and has a certain size\u001b[39;00m\n\u001b[1;32m----> 3\u001b[0m \u001b[38;5;28;01mif\u001b[39;00m (file \u001b[38;5;241m:=\u001b[39m \u001b[38;5;28;43mopen\u001b[39;49m\u001b[43m(\u001b[49m\u001b[38;5;124;43m\"\u001b[39;49m\u001b[38;5;124;43mexample.txt\u001b[39;49m\u001b[38;5;124;43m\"\u001b[39;49m\u001b[43m,\u001b[49m\u001b[43m \u001b[49m\u001b[38;5;124;43m\"\u001b[39;49m\u001b[38;5;124;43mr\u001b[39;49m\u001b[38;5;124;43m\"\u001b[39;49m\u001b[43m)\u001b[49m) \u001b[38;5;129;01mand\u001b[39;00m (file_size \u001b[38;5;241m:=\u001b[39m os\u001b[38;5;241m.\u001b[39mpath\u001b[38;5;241m.\u001b[39mgetsize(file\u001b[38;5;241m.\u001b[39mname)) \u001b[38;5;241m>\u001b[39m \u001b[38;5;241m0\u001b[39m:\n\u001b[0;32m      4\u001b[0m     \u001b[38;5;28mprint\u001b[39m(\u001b[38;5;124mf\u001b[39m\u001b[38;5;124m\"\u001b[39m\u001b[38;5;124mThe file exists and has a size of \u001b[39m\u001b[38;5;132;01m{\u001b[39;00mfile_size\u001b[38;5;132;01m}\u001b[39;00m\u001b[38;5;124m bytes.\u001b[39m\u001b[38;5;124m\"\u001b[39m)\n\u001b[0;32m      5\u001b[0m \u001b[38;5;28;01melse\u001b[39;00m:\n",
      "File \u001b[1;32m~\\anaconda3\\lib\\site-packages\\IPython\\core\\interactiveshell.py:284\u001b[0m, in \u001b[0;36m_modified_open\u001b[1;34m(file, *args, **kwargs)\u001b[0m\n\u001b[0;32m    277\u001b[0m \u001b[38;5;28;01mif\u001b[39;00m file \u001b[38;5;129;01min\u001b[39;00m {\u001b[38;5;241m0\u001b[39m, \u001b[38;5;241m1\u001b[39m, \u001b[38;5;241m2\u001b[39m}:\n\u001b[0;32m    278\u001b[0m     \u001b[38;5;28;01mraise\u001b[39;00m \u001b[38;5;167;01mValueError\u001b[39;00m(\n\u001b[0;32m    279\u001b[0m         \u001b[38;5;124mf\u001b[39m\u001b[38;5;124m\"\u001b[39m\u001b[38;5;124mIPython won\u001b[39m\u001b[38;5;124m'\u001b[39m\u001b[38;5;124mt let you open fd=\u001b[39m\u001b[38;5;132;01m{\u001b[39;00mfile\u001b[38;5;132;01m}\u001b[39;00m\u001b[38;5;124m by default \u001b[39m\u001b[38;5;124m\"\u001b[39m\n\u001b[0;32m    280\u001b[0m         \u001b[38;5;124m\"\u001b[39m\u001b[38;5;124mas it is likely to crash IPython. If you know what you are doing, \u001b[39m\u001b[38;5;124m\"\u001b[39m\n\u001b[0;32m    281\u001b[0m         \u001b[38;5;124m\"\u001b[39m\u001b[38;5;124myou can use builtins\u001b[39m\u001b[38;5;124m'\u001b[39m\u001b[38;5;124m open.\u001b[39m\u001b[38;5;124m\"\u001b[39m\n\u001b[0;32m    282\u001b[0m     )\n\u001b[1;32m--> 284\u001b[0m \u001b[38;5;28;01mreturn\u001b[39;00m io_open(file, \u001b[38;5;241m*\u001b[39margs, \u001b[38;5;241m*\u001b[39m\u001b[38;5;241m*\u001b[39mkwargs)\n",
      "\u001b[1;31mFileNotFoundError\u001b[0m: [Errno 2] No such file or directory: 'example.txt'"
     ]
    }
   ],
   "source": [
    "import os\n",
    "# Check if a file exists and has a certain size\n",
    "if (file := open(\"example.txt\", \"r\")) and (file_size := os.path.getsize(file.name)) > 0:\n",
    "    print(f\"The file exists and has a size of {file_size} bytes.\")\n",
    "else:\n",
    "    print(\"The file does not exist or has a size of 0 bytes.\")\n",
    "    file.close()\n"
   ]
  },
  {
   "cell_type": "code",
   "execution_count": null,
   "metadata": {},
   "outputs": [],
   "source": [
    "# Filter a list of integers and sum the remaining values\n",
    "numbers = [10, 20, 30, 40, 50]\n",
    "sum_of_even_numbers = sum(filtered_numbers := [num for num in numbers if num % 2 == 0])\n",
    "print(f\"The even numbers in the list are {filtered_numbers} and their sum is {sum_of_even_numbers}.\")\n"
   ]
  },
  {
   "cell_type": "code",
   "execution_count": 3,
   "metadata": {},
   "outputs": [
    {
     "name": "stdout",
     "output_type": "stream",
     "text": [
      "[6, 6]\n"
     ]
    }
   ],
   "source": [
    "# Get the lengths of strings in a list and store the lengths in a new list\n",
    "strings = [\"apple\", \"banana\", \"cherry\", \"date\"]\n",
    "lengths = []\n",
    "for s in strings:\n",
    "    if (l := len(s)) > 5:\n",
    "        lengths.append(l)\n",
    "print(lengths)"
   ]
  },
  {
   "cell_type": "markdown",
   "metadata": {},
   "source": [
    "## Type Hints"
   ]
  },
  {
   "cell_type": "code",
   "execution_count": 4,
   "metadata": {},
   "outputs": [],
   "source": [
    "class Person:\n",
    "    def __init__(self, name: str, age: int) -> None:\n",
    "        # The constructor takes a string and an integer as arguments\n",
    "        self.name = name  # instance variable of type str\n",
    "        self.age = age  # instance variable of type int\n",
    "\n",
    "    def introduce(self) -> str:\n",
    "        # The method returns a string\n",
    "        return f\"My name is {self.name} and I'm {self.age} years old.\""
   ]
  },
  {
   "cell_type": "code",
   "execution_count": 5,
   "metadata": {},
   "outputs": [],
   "source": [
    "def print_args(*args: str, **kwargs: int) -> None:\n",
    "    # The function takes a variable-length argument list of strings and a dictionary of integers\n",
    "    print(\"args:\", args)\n",
    "    print(\"kwargs:\", kwargs)\n"
   ]
  },
  {
   "cell_type": "code",
   "execution_count": 6,
   "metadata": {},
   "outputs": [],
   "source": [
    "from typing import Any\n",
    "\n",
    "def get_value_or_default(data: dict, key: str, default: Any) -> Any:\n",
    "    \"\"\"\n",
    "    Returns the value associated with the given key in the data dictionary,\n",
    "    or the default value if the key is not found.\n",
    "    \"\"\"\n",
    "    return data.get(key, default)"
   ]
  },
  {
   "cell_type": "markdown",
   "metadata": {},
   "source": [
    "### mypy"
   ]
  },
  {
   "cell_type": "code",
   "execution_count": 7,
   "metadata": {},
   "outputs": [
    {
     "name": "stdout",
     "output_type": "stream",
     "text": [
      "15\n"
     ]
    }
   ],
   "source": [
    "# example.py\n",
    "def add_numbers(x: int, y: int) -> str:\n",
    "    # The function takes two integers and returns a string\n",
    "    return x + y\n",
    "\n",
    "result = add_numbers(5, 10)\n",
    "print(result)\n",
    "\n",
    "\n",
    "# mypy example.py\n",
    "# example.py:3: error: Incompatible return value type (got \"int\", expected \"str\")"
   ]
  },
  {
   "cell_type": "markdown",
   "metadata": {},
   "source": [
    "## Positional vs. keyword arguments"
   ]
  },
  {
   "cell_type": "code",
   "execution_count": 1,
   "metadata": {},
   "outputs": [
    {
     "name": "stdout",
     "output_type": "stream",
     "text": [
      "25\n",
      "25\n"
     ]
    },
    {
     "ename": "TypeError",
     "evalue": "calculate3() got some positional-only arguments passed as keyword arguments: 'start, end'",
     "output_type": "error",
     "traceback": [
      "\u001b[1;31m---------------------------------------------------------------------------\u001b[0m",
      "\u001b[1;31mTypeError\u001b[0m                                 Traceback (most recent call last)",
      "Cell \u001b[1;32mIn[1], line 28\u001b[0m\n\u001b[0;32m     25\u001b[0m     \u001b[39mreturn\u001b[39;00m total\n\u001b[0;32m     27\u001b[0m \u001b[39m# Example usage:\u001b[39;00m\n\u001b[1;32m---> 28\u001b[0m \u001b[39mprint\u001b[39m(calculate3(end\u001b[39m=\u001b[39;49m\u001b[39m10\u001b[39;49m, start\u001b[39m=\u001b[39;49m\u001b[39m1\u001b[39;49m, step\u001b[39m=\u001b[39;49m\u001b[39m2\u001b[39;49m))\n",
      "\u001b[1;31mTypeError\u001b[0m: calculate3() got some positional-only arguments passed as keyword arguments: 'start, end'"
     ]
    }
   ],
   "source": [
    "def calculate1(start, end, step=1):\n",
    "    total = 0\n",
    "    for num in range(start, end, step):\n",
    "        total += num\n",
    "    return total\n",
    "\n",
    "# Example usage:\n",
    "print(calculate1(end=10, start=1, step=2))  # Output: 25\n",
    "\n",
    "\n",
    "def calculate2(start, end, /, step=1):\n",
    "    total = 0\n",
    "    for num in range(start, end, step):\n",
    "        total += num\n",
    "    return total\n",
    "\n",
    "# Example usage:\n",
    "print(calculate2(1, 10, step=2))  # Output: 25\n",
    "\n",
    "\n",
    "def calculate3(start, end, /, step=1):\n",
    "    total = 0\n",
    "    for num in range(start, end, step):\n",
    "        total += num\n",
    "    return total\n",
    "\n",
    "# Example usage:\n",
    "print(calculate3(end=10, start=1, step=2))  # Error"
   ]
  },
  {
   "cell_type": "code",
   "execution_count": null,
   "metadata": {},
   "outputs": [],
   "source": [
    "def calculate1(start, end, step=1):\n",
    "    total = 0\n",
    "    for num in range(start, end, step):\n",
    "        total += num\n",
    "    return total\n",
    "\n",
    "# Example usage:\n",
    "print(calculate1(1, 10, 2))\n",
    "\n",
    "def calculate2(start, end, *, step=1):\n",
    "    total = 0\n",
    "    for num in range(start, end, step):\n",
    "        total += num\n",
    "    return total\n",
    "\n",
    "# Example usage:\n",
    "print(calculate2(1, 10, 2)) # Error\n"
   ]
  },
  {
   "cell_type": "markdown",
   "metadata": {},
   "source": [
    "## Memory Profiling"
   ]
  },
  {
   "cell_type": "code",
   "execution_count": 9,
   "metadata": {},
   "outputs": [
    {
     "ename": "ModuleNotFoundError",
     "evalue": "No module named 'memory_profiler'",
     "output_type": "error",
     "traceback": [
      "\u001b[1;31m---------------------------------------------------------------------------\u001b[0m",
      "\u001b[1;31mModuleNotFoundError\u001b[0m                       Traceback (most recent call last)",
      "Cell \u001b[1;32mIn[9], line 1\u001b[0m\n\u001b[1;32m----> 1\u001b[0m \u001b[38;5;28;01mimport\u001b[39;00m \u001b[38;5;21;01mmemory_profiler\u001b[39;00m \u001b[38;5;28;01mas\u001b[39;00m \u001b[38;5;21;01mmprof\u001b[39;00m\n\u001b[0;32m      3\u001b[0m \u001b[38;5;28;01mdef\u001b[39;00m \u001b[38;5;21mgenerate_numbers\u001b[39m(n):\n\u001b[0;32m      4\u001b[0m     \u001b[38;5;28;01mfor\u001b[39;00m i \u001b[38;5;129;01min\u001b[39;00m \u001b[38;5;28mrange\u001b[39m(n):\n",
      "\u001b[1;31mModuleNotFoundError\u001b[0m: No module named 'memory_profiler'"
     ]
    }
   ],
   "source": [
    "import memory_profiler as mprof\n",
    "\n",
    "def generate_numbers(n):\n",
    "    for i in range(n):\n",
    "        yield i**2\n",
    "\n",
    "def list_numbers(n):\n",
    "    return [i**2 for i in range(n)]\n",
    "\n",
    "# Generate 1000000 numbers using a generator\n",
    "gen_nums = generate_numbers(1000000)\n",
    "mprof_usage_gen = mprof.memory_usage()\n",
    "\n",
    "# Generate 1000000 numbers using a list comprehension\n",
    "list_nums = list_numbers(1000000)\n",
    "mprof_usage_list = mprof.memory_usage()\n",
    "\n",
    "print(f\"Memory usage for generator: {mprof_usage_gen[-1]} MB\")\n",
    "print(f\"Memory usage for list comprehension: {mprof_usage_list[-1]} MB\")\n"
   ]
  },
  {
   "cell_type": "markdown",
   "metadata": {},
   "source": [
    "## Match-case"
   ]
  },
  {
   "cell_type": "code",
   "execution_count": 10,
   "metadata": {},
   "outputs": [
    {
     "ename": "SyntaxError",
     "evalue": "invalid syntax (642590101.py, line 3)",
     "output_type": "error",
     "traceback": [
      "\u001b[1;36m  Cell \u001b[1;32mIn[10], line 3\u001b[1;36m\u001b[0m\n\u001b[1;33m    match value:\u001b[0m\n\u001b[1;37m          ^\u001b[0m\n\u001b[1;31mSyntaxError\u001b[0m\u001b[1;31m:\u001b[0m invalid syntax\n"
     ]
    }
   ],
   "source": [
    "# Python 3.10 or greater needed\n",
    "def describe_value(value):\n",
    "    match value:\n",
    "        case 0:\n",
    "            print(\"The value is zero\")\n",
    "        case 1:\n",
    "            print(\"The value is one\")\n",
    "        case int() if value > 1:\n",
    "            print(\"The value is a positive integer greater than one\")\n",
    "        case str(s) if len(s) > 0:\n",
    "            print(\"The value is a non-empty string\")\n",
    "        case _:\n",
    "            print(\"The value is something else\")\n",
    "\n",
    "describe_value(0)\n",
    "describe_value(1)\n",
    "describe_value(5)\n",
    "describe_value(\"hello\")\n",
    "describe_value(None)\n"
   ]
  },
  {
   "cell_type": "markdown",
   "metadata": {},
   "source": [
    "## Logging"
   ]
  },
  {
   "cell_type": "code",
   "execution_count": 11,
   "metadata": {},
   "outputs": [
    {
     "name": "stderr",
     "output_type": "stream",
     "text": [
      "2023-07-01 10:14:33,000 [INFO] Dividing 10 by 5 yields 2.0\n",
      "2023-07-01 10:14:33,001 [ERROR] Cannot divide by zero!\n"
     ]
    },
    {
     "ename": "TypeError",
     "evalue": "unsupported operand type(s) for /: 'str' and 'str'",
     "output_type": "error",
     "traceback": [
      "\u001b[1;31m---------------------------------------------------------------------------\u001b[0m",
      "\u001b[1;31mTypeError\u001b[0m                                 Traceback (most recent call last)",
      "Cell \u001b[1;32mIn[11], line 22\u001b[0m\n\u001b[0;32m     20\u001b[0m divide_numbers(\u001b[38;5;241m10\u001b[39m, \u001b[38;5;241m5\u001b[39m)\n\u001b[0;32m     21\u001b[0m divide_numbers(\u001b[38;5;241m10\u001b[39m, \u001b[38;5;241m0\u001b[39m)\n\u001b[1;32m---> 22\u001b[0m \u001b[43mdivide_numbers\u001b[49m\u001b[43m(\u001b[49m\u001b[38;5;124;43m\"\u001b[39;49m\u001b[38;5;124;43mhello\u001b[39;49m\u001b[38;5;124;43m\"\u001b[39;49m\u001b[43m,\u001b[49m\u001b[43m \u001b[49m\u001b[38;5;124;43m\"\u001b[39;49m\u001b[38;5;124;43mworld\u001b[39;49m\u001b[38;5;124;43m\"\u001b[39;49m\u001b[43m)\u001b[49m\n\u001b[0;32m     24\u001b[0m \u001b[38;5;66;03m# Define a custom logger for a specific module\u001b[39;00m\n\u001b[0;32m     25\u001b[0m logger \u001b[38;5;241m=\u001b[39m logging\u001b[38;5;241m.\u001b[39mgetLogger(\u001b[38;5;124m\"\u001b[39m\u001b[38;5;124mexample\u001b[39m\u001b[38;5;124m\"\u001b[39m)\n",
      "Cell \u001b[1;32mIn[11], line 14\u001b[0m, in \u001b[0;36mdivide_numbers\u001b[1;34m(x, y)\u001b[0m\n\u001b[0;32m     12\u001b[0m \u001b[38;5;28;01mdef\u001b[39;00m \u001b[38;5;21mdivide_numbers\u001b[39m(x, y):\n\u001b[0;32m     13\u001b[0m     \u001b[38;5;28;01mtry\u001b[39;00m:\n\u001b[1;32m---> 14\u001b[0m         result \u001b[38;5;241m=\u001b[39m \u001b[43mx\u001b[49m\u001b[43m \u001b[49m\u001b[38;5;241;43m/\u001b[39;49m\u001b[43m \u001b[49m\u001b[43my\u001b[49m\n\u001b[0;32m     15\u001b[0m         logging\u001b[38;5;241m.\u001b[39minfo(\u001b[38;5;124m\"\u001b[39m\u001b[38;5;124mDividing \u001b[39m\u001b[38;5;132;01m{}\u001b[39;00m\u001b[38;5;124m by \u001b[39m\u001b[38;5;132;01m{}\u001b[39;00m\u001b[38;5;124m yields \u001b[39m\u001b[38;5;132;01m{}\u001b[39;00m\u001b[38;5;124m\"\u001b[39m\u001b[38;5;241m.\u001b[39mformat(x, y, result))\n\u001b[0;32m     16\u001b[0m     \u001b[38;5;28;01mexcept\u001b[39;00m \u001b[38;5;167;01mZeroDivisionError\u001b[39;00m:\n",
      "\u001b[1;31mTypeError\u001b[0m: unsupported operand type(s) for /: 'str' and 'str'"
     ]
    }
   ],
   "source": [
    "import logging\n",
    "\n",
    "# Configure the logging module\n",
    "logging.basicConfig(level=logging.DEBUG,\n",
    "                    format='%(asctime)s [%(levelname)s] %(message)s',\n",
    "                    handlers=[\n",
    "                        logging.FileHandler(\"example.log\"),\n",
    "                        logging.StreamHandler()\n",
    "                    ])\n",
    "\n",
    "# Define a function that logs messages\n",
    "def divide_numbers(x, y):\n",
    "    try:\n",
    "        result = x / y\n",
    "        logging.info(\"Dividing {} by {} yields {}\".format(x, y, result))\n",
    "    except ZeroDivisionError:\n",
    "        logging.error(\"Cannot divide by zero!\")\n",
    "\n",
    "# Call the function with various arguments\n",
    "divide_numbers(10, 5)\n",
    "divide_numbers(10, 0)\n",
    "divide_numbers(\"hello\", \"world\")\n",
    "\n",
    "# Define a custom logger for a specific module\n",
    "logger = logging.getLogger(\"example\")\n",
    "logger.setLevel(logging.DEBUG)\n",
    "\n",
    "# Log a message using the custom logger\n",
    "logger.debug(\"This is a debug message\")\n",
    "\n",
    "# Use the exception method to log an exception traceback\n",
    "try:\n",
    "    raise ValueError(\"Something went wrong\")\n",
    "except ValueError:\n",
    "    logging.exception(\"An error occurred\")\n",
    "\n",
    "# Disable logging from third-party modules\n",
    "logging.getLogger(\"urllib3\").setLevel(logging.WARNING)\n"
   ]
  },
  {
   "cell_type": "markdown",
   "metadata": {},
   "source": [
    "## Command Line Arguments"
   ]
  },
  {
   "cell_type": "code",
   "execution_count": 12,
   "metadata": {},
   "outputs": [
    {
     "name": "stdout",
     "output_type": "stream",
     "text": [
      "0 was C:\\Users\\Johan\\anaconda3\\lib\\site-packages\\ipykernel_launcher.py\n",
      "1 was -f\n",
      "2 was C:\\Users\\Johan\\AppData\\Roaming\\jupyter\\runtime\\kernel-c4021638-7b96-44f8-bec0-962c8c0d9a3a.json\n"
     ]
    }
   ],
   "source": [
    "import sys\n",
    "\n",
    "def main():\n",
    "    for i,v in enumerate(sys.argv):\n",
    "        print(f\"{i} was {v}\")\n",
    "\n",
    "if __name__==\"__main__\":\n",
    "    main()"
   ]
  },
  {
   "cell_type": "code",
   "execution_count": 13,
   "metadata": {},
   "outputs": [
    {
     "name": "stderr",
     "output_type": "stream",
     "text": [
      "usage: ipykernel_launcher.py [-h] [-v] input_file output_file\n",
      "ipykernel_launcher.py: error: the following arguments are required: output_file\n"
     ]
    },
    {
     "ename": "SystemExit",
     "evalue": "2",
     "output_type": "error",
     "traceback": [
      "An exception has occurred, use %tb to see the full traceback.\n",
      "\u001b[1;31mSystemExit\u001b[0m\u001b[1;31m:\u001b[0m 2\n"
     ]
    },
    {
     "name": "stderr",
     "output_type": "stream",
     "text": [
      "C:\\Users\\Johan\\anaconda3\\lib\\site-packages\\IPython\\core\\interactiveshell.py:3513: UserWarning: To exit: use 'exit', 'quit', or Ctrl-D.\n",
      "  warn(\"To exit: use 'exit', 'quit', or Ctrl-D.\", stacklevel=1)\n"
     ]
    }
   ],
   "source": [
    "import argparse\n",
    "\n",
    "# Create a parser object\n",
    "parser = argparse.ArgumentParser(description='Example script to demonstrate argparse usage.')\n",
    "\n",
    "# Define arguments\n",
    "parser.add_argument('-v', '--verbose', action='store_true', help='Verbose output')\n",
    "parser.add_argument('input_file', type=str, help='Path to input file')\n",
    "parser.add_argument('output_file', type=str, help='Path to output file')\n",
    "\n",
    "# Parse arguments from the command line\n",
    "args = parser.parse_args()\n",
    "\n",
    "# Access the arguments\n",
    "if args.verbose:\n",
    "    print(f\"Processing {args.input_file} and writing to {args.output_file}...\")\n",
    "    \n",
    "# Your code here...\n"
   ]
  },
  {
   "cell_type": "markdown",
   "metadata": {},
   "source": []
  },
  {
   "cell_type": "code",
   "execution_count": null,
   "metadata": {},
   "outputs": [],
   "source": []
  }
 ],
 "metadata": {
  "kernelspec": {
   "display_name": "Python 3 (ipykernel)",
   "language": "python",
   "name": "python3"
  },
  "language_info": {
   "codemirror_mode": {
    "name": "ipython",
    "version": 3
   },
   "file_extension": ".py",
   "mimetype": "text/x-python",
   "name": "python",
   "nbconvert_exporter": "python",
   "pygments_lexer": "ipython3",
   "version": "3.9.16"
  }
 },
 "nbformat": 4,
 "nbformat_minor": 2
}
