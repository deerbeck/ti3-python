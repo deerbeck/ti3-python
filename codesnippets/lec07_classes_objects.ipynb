{
 "cells": [
  {
   "attachments": {},
   "cell_type": "markdown",
   "metadata": {},
   "source": [
    "# Simple class from UML"
   ]
  },
  {
   "attachments": {},
   "cell_type": "markdown",
   "metadata": {},
   "source": [
    "Let's say you have a UML class diagram with a class called \"Person\" that has three (public) attributes: \"name\", \"age\", and \"gender\". The class also has a method called \"introduce\" that prints out a brief introduction of the person. Here's how you can implement this in Python:"
   ]
  },
  {
   "cell_type": "code",
   "execution_count": null,
   "metadata": {},
   "outputs": [],
   "source": [
    "class Person:\n",
    "    def __init__(self, name, age, gender):\n",
    "        self.name = name\n",
    "        self.age = age\n",
    "        self.gender = gender\n",
    "    \n",
    "    def introduce(self):\n",
    "        print(\"Hi, my name is \" + self.name + \". I am \" + str(self.age) + \" years old and I am \" + self.gender + \".\")\n",
    "\n",
    "# Creating an instance of the Person class\n",
    "p1 = Person(\"John\", 25, \"male\")\n",
    "\n",
    "# Calling the introduce method of the p1 object\n",
    "p1.introduce()\n"
   ]
  },
  {
   "attachments": {},
   "cell_type": "markdown",
   "metadata": {},
   "source": [
    "Above example is using variables which are reachable from outside and you can directly access this variables. These are *public* attributes. To restrict access to the variables (and this is more the C++ like standard) you can make them *private* and use getter and setter to access them."
   ]
  },
  {
   "cell_type": "code",
   "execution_count": null,
   "metadata": {},
   "outputs": [],
   "source": [
    "class Person:\n",
    "    def __init__(self, name, age, gender):\n",
    "        self.__name = name\n",
    "        self.__age = age\n",
    "        self.__gender = gender\n",
    "    \n",
    "    def introduce(self):\n",
    "        print(\"Hi, my name is \" + self.__name + \". I am \" + str(self.__age) + \" years old and I am \" + self.__gender + \".\")\n",
    "    \n",
    "    def get_name(self):\n",
    "        return self.__name\n",
    "    \n",
    "    def set_name(self, name):\n",
    "        self.__name = name\n",
    "    \n",
    "    def get_age(self):\n",
    "        return self.__age\n",
    "    \n",
    "    def set_age(self, age):\n",
    "        self.__age = age\n",
    "    \n",
    "    def get_gender(self):\n",
    "        return self.__gender\n",
    "    \n",
    "    def set_gender(self, gender):\n",
    "        self.__gender = gender\n",
    "\n",
    "# Creating an instance of the Person class\n",
    "p1 = Person(\"John\", 25, \"male\")\n",
    "\n",
    "# Calling the introduce method of the p1 object\n",
    "p1.introduce()\n",
    "\n",
    "# Using getter and setter methods\n",
    "print(p1.get_name())\n",
    "p1.set_name(\"Jane\")\n",
    "print(p1.get_name())\n",
    "\n",
    "print(p1.get_age())\n",
    "p1.set_age(30)\n",
    "print(p1.get_age())\n",
    "\n",
    "print(p1.get_gender())\n",
    "p1.set_gender(\"female\")\n",
    "print(p1.get_gender())"
   ]
  },
  {
   "cell_type": "code",
   "execution_count": null,
   "metadata": {},
   "outputs": [],
   "source": [
    "class Car:\n",
    "    def __init__(self, make, model, year):\n",
    "        self.make = make\n",
    "        self.model = model\n",
    "        self.year = year\n",
    "        self.__odometer = 0\n",
    "    \n",
    "    def __del__(self):\n",
    "        print(\"The car has been deleted.\")\n",
    "    \n",
    "    def __str__(self):\n",
    "        return f\"{self.year} {self.make} {self.model}\"\n",
    "    \n",
    "    def drive(self, miles):\n",
    "        self.__odometer += miles\n",
    "        print(f\"You drove {miles} miles.\")\n",
    "    \n",
    "    def get_odometer(self):\n",
    "        return self.__odometer\n",
    "\n",
    "# Creating an instance of the Car class\n",
    "my_car = Car(\"Toyota\", \"Corolla\", 2021)\n",
    "\n",
    "# Using the __str__ method to print the car information\n",
    "print(my_car)\n",
    "\n",
    "# Driving the car and updating the odometer\n",
    "my_car.drive(50)\n",
    "my_car.drive(100)\n",
    "\n",
    "# Getting the current odometer reading\n",
    "print(f\"The odometer reading is {my_car.get_odometer()} miles.\")\n",
    "\n",
    "# Deleting the car\n",
    "del my_car\n"
   ]
  },
  {
   "attachments": {},
   "cell_type": "markdown",
   "metadata": {},
   "source": [
    "Exercise: Draw UML class diagrams of above code snippets in your favroite UML editor."
   ]
  },
  {
   "attachments": {},
   "cell_type": "markdown",
   "metadata": {},
   "source": [
    "# Unit Testing"
   ]
  },
  {
   "cell_type": "code",
   "execution_count": null,
   "metadata": {},
   "outputs": [],
   "source": [
    "import unittest\n",
    "\n",
    "class MyMathFunctions(unittest.TestCase):\n",
    "    def test_addition(self):\n",
    "        self.assertEqual(1 + 1, 2)\n",
    "    \n",
    "    def test_subtraction(self):\n",
    "        self.assertEqual(3 - 1, 2)\n",
    "        \n",
    "    def test_multiplication(self):\n",
    "        self.assertEqual(2 * 3, 6)\n",
    "        \n",
    "    def test_division(self):\n",
    "        self.assertEqual(10 / 2, 5)\n",
    "        self.assertRaises(ZeroDivisionError, lambda: 1/0)\n",
    "        \n",
    "    def test_exponents(self):\n",
    "        self.assertEqual(2 ** 3, 8)\n",
    "        self.assertAlmostEqual(3 ** 0.5, 1.732, places=3)\n",
    "        \n",
    "if __name__ == '__main__':\n",
    "    unittest.main(argv=[''], verbosity=2, exit=False) #"
   ]
  },
  {
   "attachments": {},
   "cell_type": "markdown",
   "metadata": {},
   "source": [
    "And a more concrete example using Setup and TearDown and testing on correct Exception ..."
   ]
  },
  {
   "cell_type": "code",
   "execution_count": 1,
   "metadata": {},
   "outputs": [
    {
     "name": "stderr",
     "output_type": "stream",
     "text": [
      "test_area (__main__.TestRectangle) ... ok\n",
      "test_invalid_rectangle (__main__.TestRectangle) ... ok\n",
      "test_perimeter (__main__.TestRectangle) ... ok\n",
      "\n",
      "----------------------------------------------------------------------\n",
      "Ran 3 tests in 0.004s\n",
      "\n",
      "OK\n"
     ]
    }
   ],
   "source": [
    "import unittest\n",
    "\n",
    "class Rectangle:\n",
    "    def __init__(self, length, width):\n",
    "        if length <= 0 or width <= 0:\n",
    "            raise ValueError(\"Length and width must be positive numbers.\")\n",
    "        self.length = length\n",
    "        self.width = width\n",
    "    \n",
    "    def area(self):\n",
    "        return self.length * self.width\n",
    "    \n",
    "    def perimeter(self):\n",
    "        return 2 * (self.length + self.width)\n",
    "\n",
    "class TestRectangle(unittest.TestCase):\n",
    "    def setUp(self):\n",
    "        self.rectangle = Rectangle(3, 4)\n",
    "    \n",
    "    def tearDown(self):\n",
    "        self.rectangle = None\n",
    "    \n",
    "    def test_area(self):\n",
    "        self.assertEqual(self.rectangle.area(), 12)\n",
    "    \n",
    "    def test_perimeter(self):\n",
    "        self.assertEqual(self.rectangle.perimeter(), 14)\n",
    "    \n",
    "    def test_invalid_rectangle(self):\n",
    "        with self.assertRaises(ValueError):\n",
    "            Rectangle(-1, 4)\n",
    "\n",
    "if __name__ == '__main__':\n",
    "    unittest.main(argv=[''], verbosity=2, exit=False) #\n"
   ]
  },
  {
   "attachments": {},
   "cell_type": "markdown",
   "metadata": {},
   "source": [
    "# Using properties to access attributes"
   ]
  },
  {
   "cell_type": "code",
   "execution_count": null,
   "metadata": {},
   "outputs": [],
   "source": [
    "class Example:\n",
    "    def __init__(self):\n",
    "        self.__private_member = \"I am private\"\n",
    "\n",
    "    @property\n",
    "    def private_member(self):\n",
    "        return self.__private_member\n",
    "\n",
    "    @private_member.setter\n",
    "    def private_member(self, value):\n",
    "        self.__private_member = value\n",
    "\n",
    "# Create an instance of the Example class\n",
    "e = Example()\n",
    "\n",
    "# Access the private_member property\n",
    "print(e.private_member)   # Output: \"I am private\"\n",
    "\n",
    "# Set the private_member property\n",
    "e.private_member = \"Now I am changed\"\n",
    "\n",
    "# Access the private_member property again\n",
    "print(e.private_member)   # Output: \"Now I am changed\"\n"
   ]
  },
  {
   "attachments": {},
   "cell_type": "markdown",
   "metadata": {},
   "source": [
    "## Static methods and attributes"
   ]
  },
  {
   "cell_type": "code",
   "execution_count": 2,
   "metadata": {},
   "outputs": [
    {
     "name": "stdout",
     "output_type": "stream",
     "text": [
      "Instance attribute 1\n",
      "This is a static attribute\n",
      "Instance attribute 2\n",
      "This is a static attribute\n",
      "New static attribute value\n",
      "New static attribute value\n"
     ]
    }
   ],
   "source": [
    "class MyClass:\n",
    "    static_attribute = \"This is a static attribute\"\n",
    "\n",
    "    def __init__(self, instance_attribute):\n",
    "        self.instance_attribute = instance_attribute\n",
    "\n",
    "    @staticmethod\n",
    "    def static_method():\n",
    "        print(\"This is a static method.\")\n",
    "\n",
    "# Instantiate the class and access the instance attribute\n",
    "obj1 = MyClass(\"Instance attribute 1\")\n",
    "print(obj1.instance_attribute)  # Output: \"Instance attribute 1\"\n",
    "\n",
    "# Access the static attribute using the class name\n",
    "print(MyClass.static_attribute)  # Output: \"This is a static attribute\"\n",
    "\n",
    "# Create another instance and access its instance attribute\n",
    "obj2 = MyClass(\"Instance attribute 2\")\n",
    "print(obj2.instance_attribute)  # Output: \"Instance attribute 2\"\n",
    "\n",
    "# Access the static attribute using the second instance\n",
    "print(obj2.static_attribute)  # Output: \"This is a static attribute\"\n",
    "\n",
    "# Change the value of the static attribute using the class name\n",
    "MyClass.static_attribute = \"New static attribute value\"\n",
    "\n",
    "# Access the static attribute using the first instance\n",
    "print(obj1.static_attribute)  # Output: \"New static attribute value\"\n",
    "\n",
    "# Access the static attribute using the second instance\n",
    "print(obj2.static_attribute)  # Output: \"New static attribute value\"\n"
   ]
  },
  {
   "attachments": {},
   "cell_type": "markdown",
   "metadata": {},
   "source": [
    "## Inheritance"
   ]
  },
  {
   "cell_type": "code",
   "execution_count": 3,
   "metadata": {},
   "outputs": [
    {
     "name": "stdout",
     "output_type": "stream",
     "text": [
      "Woof!\n",
      "Meow!\n",
      "This animal doesn't make a sound.\n"
     ]
    }
   ],
   "source": [
    "class Animal:\n",
    "    def __init__(self, name):\n",
    "        self.name = name\n",
    "\n",
    "    def make_sound(self):\n",
    "        print(\"This animal doesn't make a sound.\")\n",
    "\n",
    "class Dog(Animal):\n",
    "    def make_sound(self):\n",
    "        print(\"Woof!\")\n",
    "\n",
    "class Cat(Animal):\n",
    "    def make_sound(self):\n",
    "        print(\"Meow!\")\n",
    "\n",
    "class Cow(Animal):\n",
    "    pass\n",
    "\n",
    "# Create a list of animals\n",
    "animals = [Dog(\"Fido\"), Cat(\"Whiskers\"), Cow(\"Betsy\")]\n",
    "\n",
    "# Make each animal in the list make a sound\n",
    "for animal in animals:\n",
    "    animal.make_sound()\n"
   ]
  },
  {
   "attachments": {},
   "cell_type": "markdown",
   "metadata": {},
   "source": [
    "## Polymorphism"
   ]
  },
  {
   "cell_type": "code",
   "execution_count": 4,
   "metadata": {},
   "outputs": [
    {
     "name": "stdout",
     "output_type": "stream",
     "text": [
      "12\n",
      "78.53975\n"
     ]
    }
   ],
   "source": [
    "class Shape:\n",
    "    def area(self):\n",
    "        pass\n",
    "\n",
    "class Rectangle(Shape):\n",
    "    def __init__(self, length, width):\n",
    "        self.length = length\n",
    "        self.width = width\n",
    "    def area(self):\n",
    "        return self.length * self.width\n",
    "\n",
    "class Circle(Shape):\n",
    "    def __init__(self, radius):\n",
    "        self.radius = radius\n",
    "    def area(self):\n",
    "        return 3.14159 * self.radius ** 2\n",
    "\n",
    "shapes = [Rectangle(3, 4), Circle(5)]\n",
    "\n",
    "for shape in shapes:\n",
    "    print(shape.area())\n"
   ]
  },
  {
   "cell_type": "code",
   "execution_count": 6,
   "metadata": {},
   "outputs": [
    {
     "name": "stdout",
     "output_type": "stream",
     "text": [
      "150\n",
      "50\n",
      "600\n"
     ]
    }
   ],
   "source": [
    "from abc import ABC, abstractmethod\n",
    "\n",
    "class Vehicle(ABC):\n",
    "    @abstractmethod\n",
    "    def max_speed(self):\n",
    "        pass\n",
    "\n",
    "\n",
    "class Car(Vehicle):\n",
    "    def max_speed(self):\n",
    "        return 150\n",
    "\n",
    "class Boat(Vehicle):\n",
    "    def max_speed(self):\n",
    "        return 50\n",
    "\n",
    "class Airplane(Vehicle):\n",
    "    def max_speed(self):\n",
    "        return 600\n",
    "\n",
    "\n",
    "# vehicle = Vehicle() ## This will throw a TypeError Exception\n",
    "car = Car()\n",
    "boat = Boat()\n",
    "airplane = Airplane()\n",
    "\n",
    "print(car.max_speed())      # Output: 150\n",
    "print(boat.max_speed())     # Output: 50\n",
    "print(airplane.max_speed()) # Output: 600\n"
   ]
  },
  {
   "attachments": {},
   "cell_type": "markdown",
   "metadata": {},
   "source": [
    "## Another example of polymorphism and inheritance"
   ]
  },
  {
   "attachments": {},
   "cell_type": "markdown",
   "metadata": {},
   "source": [
    "Let's say we are building a game that involves different types of characters, including warriors and mages. We want to create a base class for all characters, as well as specific classes for each type of character. We also want to have a method for each character that calculates its attack power, but the implementation of this method will differ depending on the type of character."
   ]
  },
  {
   "cell_type": "code",
   "execution_count": 7,
   "metadata": {},
   "outputs": [],
   "source": [
    "from abc import ABC, abstractmethod\n",
    "\n",
    "class Character(ABC):\n",
    "    def __init__(self, name, level):\n",
    "        self.name = name\n",
    "        self.level = level\n",
    "    \n",
    "    @abstractmethod\n",
    "    def attack_power(self):\n",
    "        pass\n"
   ]
  },
  {
   "attachments": {},
   "cell_type": "markdown",
   "metadata": {},
   "source": [
    "Next, we create two classes that inherit from Character: Warrior and Mage. Each of these classes overwrites the attack_power method with its own implementation:"
   ]
  },
  {
   "cell_type": "code",
   "execution_count": 8,
   "metadata": {},
   "outputs": [],
   "source": [
    "class Warrior(Character):\n",
    "    def __init__(self, name, level, strength):\n",
    "        super().__init__(name, level)\n",
    "        self.strength = strength\n",
    "    \n",
    "    def attack_power(self):\n",
    "        return self.strength * self.level\n",
    "\n",
    "class Mage(Character):\n",
    "    def __init__(self, name, level, intelligence):\n",
    "        super().__init__(name, level)\n",
    "        self.intelligence = intelligence\n",
    "    \n",
    "    def attack_power(self):\n",
    "        return self.intelligence * self.level * 2\n"
   ]
  },
  {
   "attachments": {},
   "cell_type": "markdown",
   "metadata": {},
   "source": [
    "Now we can create instances of each character type and call the attack_power method on each one:"
   ]
  },
  {
   "cell_type": "code",
   "execution_count": null,
   "metadata": {},
   "outputs": [],
   "source": [
    "warrior = Warrior(\"Conan\", 10, 5)\n",
    "mage = Mage(\"Gandalf\", 10, 7)\n",
    "\n",
    "print(warrior.name, \"attacks for\", warrior.attack_power()) # Output: Conan attacks for 50\n",
    "print(mage.name, \"attacks for\", mage.attack_power())       # Output: Gandalf attacks for 140\n"
   ]
  },
  {
   "attachments": {},
   "cell_type": "markdown",
   "metadata": {},
   "source": [
    "## More exercises"
   ]
  },
  {
   "attachments": {},
   "cell_type": "markdown",
   "metadata": {},
   "source": [
    "Transfer the following code into UML (using your favorite UML Editor, e.g. VisualParadigma, ArgoUML)"
   ]
  },
  {
   "cell_type": "code",
   "execution_count": 9,
   "metadata": {},
   "outputs": [],
   "source": [
    "class Person:\n",
    "    def __init__(self, name):\n",
    "        self.name = name\n",
    "        \n",
    "class Student(Person):\n",
    "    def __init__(self, name, classes):\n",
    "        super().__init__(name)\n",
    "        self.classes = classes\n",
    "        \n",
    "class School:\n",
    "    def __init__(self, name, students):\n",
    "        self.name = name\n",
    "        self.students = students\n",
    "        \n",
    "    def get_student_names(self):\n",
    "        names = []\n",
    "        for student in self.students:\n",
    "            names.append(student.name)\n",
    "        return names"
   ]
  }
 ],
 "metadata": {
  "kernelspec": {
   "display_name": "django",
   "language": "python",
   "name": "python3"
  },
  "language_info": {
   "codemirror_mode": {
    "name": "ipython",
    "version": 3
   },
   "file_extension": ".py",
   "mimetype": "text/x-python",
   "name": "python",
   "nbconvert_exporter": "python",
   "pygments_lexer": "ipython3",
   "version": "3.9.16"
  },
  "orig_nbformat": 4
 },
 "nbformat": 4,
 "nbformat_minor": 2
}
