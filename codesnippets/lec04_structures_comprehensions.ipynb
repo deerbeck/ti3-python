{
 "cells": [
  {
   "cell_type": "markdown",
   "metadata": {},
   "source": [
    "## Index Operator and List Slicing"
   ]
  },
  {
   "cell_type": "code",
   "execution_count": 1,
   "metadata": {},
   "outputs": [
    {
     "name": "stdout",
     "output_type": "stream",
     "text": [
      "6\n"
     ]
    }
   ],
   "source": [
    "#Accessing a specific element in a nested list\n",
    "nested_list = [[1, 2, 3], [4, 5, 6], [7, 8, 9]]\n",
    "print(nested_list[1][2]) # Output: 6"
   ]
  },
  {
   "cell_type": "code",
   "execution_count": 4,
   "metadata": {},
   "outputs": [
    {
     "name": "stdout",
     "output_type": "stream",
     "text": [
      "5\n"
     ]
    }
   ],
   "source": [
    "# Using negative indices to access elements from the end of the list\n",
    "my_list = [1, 2, 3, 4, 5]\n",
    "print(my_list[-1]) # Output: 5\n"
   ]
  },
  {
   "cell_type": "code",
   "execution_count": 5,
   "metadata": {},
   "outputs": [
    {
     "name": "stdout",
     "output_type": "stream",
     "text": [
      "[1, 3, 5, 7, 9]\n"
     ]
    }
   ],
   "source": [
    "# Slicing a list to get every second element\n",
    "my_list = [1, 2, 3, 4, 5, 6, 7, 8, 9, 10]\n",
    "print(my_list[::2]) # Output: [1, 3, 5, 7, 9]"
   ]
  },
  {
   "cell_type": "code",
   "execution_count": 6,
   "metadata": {},
   "outputs": [
    {
     "name": "stdout",
     "output_type": "stream",
     "text": [
      "[5, 4, 3, 2, 1]\n"
     ]
    }
   ],
   "source": [
    "# Slicing a list to get a sublist in reverse order\n",
    "my_list = [1, 2, 3, 4, 5]\n",
    "print(my_list[::-1]) # Output: [5, 4, 3, 2, 1]"
   ]
  },
  {
   "cell_type": "code",
   "execution_count": 7,
   "metadata": {},
   "outputs": [
    {
     "name": "stdout",
     "output_type": "stream",
     "text": [
      "[1, 2, 4, 5]\n"
     ]
    }
   ],
   "source": [
    "# Using slicing to remove elements from a list\n",
    "my_list = [1, 2, 3, 4, 5]\n",
    "my_list = my_list[:2] + my_list[3:]\n",
    "print(my_list) # Output: [1, 2, 4, 5]"
   ]
  },
  {
   "cell_type": "code",
   "execution_count": 8,
   "metadata": {},
   "outputs": [
    {
     "name": "stdout",
     "output_type": "stream",
     "text": [
      "[[1, 2, 3, 4], [8, 7, 6, 5], [9, 10, 11, 12], [16, 15, 14, 13]]\n"
     ]
    }
   ],
   "source": [
    "# More complex examples. Reversing every second sublist in a nested list.\n",
    "nested_list = [[1, 2, 3, 4], [5, 6, 7, 8], [9, 10, 11, 12], [13, 14, 15, 16]]\n",
    "for i in range(len(nested_list)):\n",
    "    if i % 2 == 1:\n",
    "        nested_list[i] = nested_list[i][::-1]\n",
    "print(nested_list)\n",
    "# Output: [[1, 2, 3, 4], [8, 7, 6, 5], [9, 10, 11, 12], [16, 15, 14, 13]]"
   ]
  },
  {
   "cell_type": "code",
   "execution_count": 9,
   "metadata": {},
   "outputs": [
    {
     "name": "stdout",
     "output_type": "stream",
     "text": [
      "[4, 8, 12, 16]\n"
     ]
    }
   ],
   "source": [
    "# More complex examples. Selecting the largest element in each sublist of a nested list\n",
    "nested_list = [[1, 2, 3, 4], [5, 6, 7, 8], [9, 10, 11, 12], [13, 14, 15, 16]]\n",
    "largest_elements = [max(sublist) for sublist in nested_list]\n",
    "print(largest_elements)\n",
    "# Output: [4, 8, 12, 16]"
   ]
  },
  {
   "cell_type": "code",
   "execution_count": 10,
   "metadata": {},
   "outputs": [
    {
     "name": "stdout",
     "output_type": "stream",
     "text": [
      "[[1, 2, 3], [2, 3, 4], [3, 4, 5]]\n"
     ]
    }
   ],
   "source": [
    "# More complex examples. Using list slicing to create a rolling window over a list.\n",
    "my_list = [1, 2, 3, 4, 5]\n",
    "window_size = 3\n",
    "rolling_windows = [my_list[i:i+window_size] for i in range(len(my_list)-window_size+1)]\n",
    "print(rolling_windows)\n",
    "# Output: [[1, 2, 3], [2, 3, 4], [3, 4, 5]]"
   ]
  },
  {
   "cell_type": "markdown",
   "metadata": {},
   "source": [
    "## List Comprehensions"
   ]
  },
  {
   "cell_type": "code",
   "execution_count": 9,
   "metadata": {},
   "outputs": [
    {
     "name": "stdout",
     "output_type": "stream",
     "text": [
      "[0, 2, 4, 6, 8, 10]\n"
     ]
    }
   ],
   "source": [
    "# Creating a list of even numbers from 0 to 10\n",
    "even_numbers = [num for num in range(11) if num % 2 == 0]\n",
    "print(even_numbers)  # Output: [0, 2, 4, 6, 8, 10]"
   ]
  },
  {
   "cell_type": "code",
   "execution_count": 10,
   "metadata": {},
   "outputs": [
    {
     "name": "stdout",
     "output_type": "stream",
     "text": [
      "[1, 4, 9, 16, 25]\n"
     ]
    }
   ],
   "source": [
    "# Creating a list of squared numbers from 1 to 5\n",
    "squares = [num**2 for num in range(1, 6)]\n",
    "print(squares)  # Output: [1, 4, 9, 16, 25]"
   ]
  },
  {
   "cell_type": "code",
   "execution_count": 11,
   "metadata": {},
   "outputs": [
    {
     "name": "stdout",
     "output_type": "stream",
     "text": [
      "['Apple', 'Banana', 'Cherry']\n"
     ]
    }
   ],
   "source": [
    "# Creating a list of strings with the first letter capitalized\n",
    "words = ['apple', 'banana', 'cherry']\n",
    "capitalized_words = [word.capitalize() for word in words]\n",
    "print(capitalized_words)  # Output: ['Apple', 'Banana', 'Cherry']\n"
   ]
  },
  {
   "cell_type": "code",
   "execution_count": 12,
   "metadata": {},
   "outputs": [
    {
     "name": "stdout",
     "output_type": "stream",
     "text": [
      "[('Alice', 25), ('Bob', 32), ('Charlie', 18)]\n"
     ]
    }
   ],
   "source": [
    "# Creating a list of tuples from two separate lists\n",
    "names = ['Alice', 'Bob', 'Charlie']\n",
    "ages = [25, 32, 18]\n",
    "people = [(name, age) for name, age in zip(names, ages)]\n",
    "print(people)  # Output: [('Alice', 25), ('Bob', 32), ('Charlie', 18)]\n"
   ]
  },
  {
   "cell_type": "code",
   "execution_count": 13,
   "metadata": {},
   "outputs": [
    {
     "name": "stdout",
     "output_type": "stream",
     "text": [
      "[[1, 2, 3], [1, 2, 3], [1, 2, 3]]\n"
     ]
    }
   ],
   "source": [
    "# Creating a list of nested lists\n",
    "nested_list = [[j for j in range(1, 4)] for i in range(3)]\n",
    "print(nested_list)  # Output: [[1, 2, 3], [1, 2, 3], [1, 2, 3]]\n"
   ]
  },
  {
   "cell_type": "code",
   "execution_count": 14,
   "metadata": {},
   "outputs": [
    {
     "name": "stdout",
     "output_type": "stream",
     "text": [
      "[1, 2, 3, 4, 5, 6, 7, 8, 9, 10]\n",
      "[2, 4, 6, 8, 10, 12, 14, 16, 18, 20]\n",
      "[3, 6, 9, 12, 15, 18, 21, 24, 27, 30]\n",
      "[4, 8, 12, 16, 20, 24, 28, 32, 36, 40]\n",
      "[5, 10, 15, 20, 25, 30, 35, 40, 45, 50]\n",
      "[6, 12, 18, 24, 30, 36, 42, 48, 54, 60]\n",
      "[7, 14, 21, 28, 35, 42, 49, 56, 63, 70]\n",
      "[8, 16, 24, 32, 40, 48, 56, 64, 72, 80]\n",
      "[9, 18, 27, 36, 45, 54, 63, 72, 81, 90]\n",
      "[10, 20, 30, 40, 50, 60, 70, 80, 90, 100]\n"
     ]
    }
   ],
   "source": [
    "# Create a nested list of multiplication table from 1 to 10\n",
    "table = [[i*j for j in range(1,11)] for i in range(1,11)]\n",
    "for row in table:\n",
    "    print(row)"
   ]
  },
  {
   "cell_type": "code",
   "execution_count": 15,
   "metadata": {},
   "outputs": [
    {
     "name": "stdout",
     "output_type": "stream",
     "text": [
      "[['H', 72], ['e', 101], ['l', 108], ['l', 108], ['o', 111], [' ', 32], ['W', 87], ['o', 111], ['r', 114], ['l', 108], ['d', 100]]\n"
     ]
    }
   ],
   "source": [
    "# Create a nested list of characters and their ASCII values for a given string\n",
    "string = \"Hello World\"\n",
    "ascii_list = [[char, ord(char)] for char in string]\n",
    "print(ascii_list)"
   ]
  },
  {
   "cell_type": "markdown",
   "metadata": {},
   "source": [
    "## Dict Comprehensions"
   ]
  },
  {
   "cell_type": "code",
   "execution_count": 12,
   "metadata": {},
   "outputs": [
    {
     "name": "stdout",
     "output_type": "stream",
     "text": [
      "{'H': 1, 'o': 2, 'l': 3, ' ': 1, 'd': 1, 'r': 1, 'W': 1, 'e': 1}\n"
     ]
    }
   ],
   "source": [
    "# Create a dictionary of letters and their frequencies in a given string\n",
    "string = \"Hello World\"\n",
    "letter_freq = {char:string.count(char) for char in set(string)}\n",
    "print(letter_freq)"
   ]
  },
  {
   "cell_type": "code",
   "execution_count": 13,
   "metadata": {},
   "outputs": [
    {
     "name": "stdout",
     "output_type": "stream",
     "text": [
      "{'a': 1, 'b': 2, 'c': 3}\n"
     ]
    }
   ],
   "source": [
    "# Creating a dictionary with keys and values from two separate lists\n",
    "keys = ['a', 'b', 'c']\n",
    "values = [1, 2, 3]\n",
    "my_dict = {key: value for key, value in zip(keys, values)}\n",
    "print(my_dict)  # Output: {'a': 1, 'b': 2, 'c': 3}"
   ]
  },
  {
   "cell_type": "code",
   "execution_count": 14,
   "metadata": {},
   "outputs": [
    {
     "name": "stdout",
     "output_type": "stream",
     "text": [
      "{1: 1, 2: 4, 3: 9, 4: 16, 5: 25}\n"
     ]
    }
   ],
   "source": [
    "# Creating a dictionary with values as the squares of keys from 1 to 5\n",
    "squares_dict = {num: num**2 for num in range(1, 6)}\n",
    "print(squares_dict) # Output: {1: 1, 2: 4, 3: 9, 4: 16, 5: 25}"
   ]
  },
  {
   "cell_type": "code",
   "execution_count": 15,
   "metadata": {},
   "outputs": [
    {
     "name": "stdout",
     "output_type": "stream",
     "text": [
      "{'H': 1, '3': 1, 'o': 2, 'T': 1, 'l': 2, 's': 1, 't': 3, ' ': 3, 'n': 2, 'd': 1, 'S': 1, 'P': 1, 'u': 1, 'y': 1, 'I': 1, 'e': 2, 'h': 1}\n"
     ]
    }
   ],
   "source": [
    "# Create a dictionary of letters and their frequencies in a given string:\n",
    "string = \"Hello TI3 Python Students\"\n",
    "letter_freq = {char:string.count(char) for char in set(string)}\n",
    "print(letter_freq)"
   ]
  },
  {
   "cell_type": "code",
   "execution_count": 16,
   "metadata": {},
   "outputs": [
    {
     "name": "stdout",
     "output_type": "stream",
     "text": [
      "{2: 'Even', 4: 'Even', 6: 'Even', 8: 'Even'}\n"
     ]
    }
   ],
   "source": [
    "# Create a dictionary of even numbers from a nested list\n",
    "nested_list = [[1,2,3], [4,5,6], [7,8,9]]\n",
    "even_dict = {num:\"Even\" for sublist in nested_list for num in sublist if num%2 == 0}\n",
    "print(even_dict)"
   ]
  },
  {
   "cell_type": "markdown",
   "metadata": {},
   "source": [
    "## CHALLENGES\n",
    "The following challenges should be solved using list/dict operations and list/dict comprehensions:"
   ]
  },
  {
   "cell_type": "markdown",
   "metadata": {},
   "source": [
    "Write a Python program to find the specified number of maximum values in a given dictionary.\n",
    "\n",
    "Example Dictionary: {'a': 5, 'b': 14, 'c': 32, 'd': 35, 'e': 24, 'f': 100, 'g': 57, 'h': 8, 'i': 100}\n",
    "\n",
    "Output should be:\n",
    "\n",
    "1 maximum value(s) in the said dictionary: ['f']\n",
    "\n",
    "2 maximum value(s) in the said dictionary: ['f', 'i']\n",
    "\n",
    "5 maximum value(s) in the said dictionary: ['f', 'i', 'g', 'd', 'c']"
   ]
  },
  {
   "cell_type": "code",
   "execution_count": 27,
   "metadata": {},
   "outputs": [
    {
     "name": "stdout",
     "output_type": "stream",
     "text": [
      "1 maximum value(s) in the said dictionary: ['f']\n",
      "2 maximum value(s) in the said dictionary: ['f', 'i']\n",
      "5 maximum value(s) in the said dictionary: ['f', 'i', 'g', 'd', 'c']\n"
     ]
    }
   ],
   "source": [
    "def find_max_values(dictionary, num_values):\n",
    "    sorted_dict = sorted(dictionary.items(), key=lambda x: x[1], reverse=True)\n",
    "    max_values = [key for key, value in sorted_dict[:num_values]]\n",
    "    return max_values\n",
    "\n",
    "# Example dictionary\n",
    "my_dict = {'a': 5, 'b': 14, 'c': 32, 'd': 35, 'e': 24, 'f': 100, 'g': 57, 'h': 8, 'i': 100}\n",
    "\n",
    "# Test the function\n",
    "num = 1\n",
    "result = find_max_values(my_dict, num)\n",
    "print(f\"{num} maximum value(s) in the said dictionary: {result}\")\n",
    "\n",
    "num = 2\n",
    "result = find_max_values(my_dict, num)\n",
    "print(f\"{num} maximum value(s) in the said dictionary: {result}\")\n",
    "\n",
    "num = 5\n",
    "result = find_max_values(my_dict, num)\n",
    "print(f\"{num} maximum value(s) in the said dictionary: {result}\")\n"
   ]
  },
  {
   "cell_type": "markdown",
   "metadata": {},
   "source": [
    "Write a Python function to check if a list is a palindrome or not. Return true otherwise false."
   ]
  },
  {
   "cell_type": "code",
   "execution_count": null,
   "metadata": {},
   "outputs": [],
   "source": []
  },
  {
   "cell_type": "markdown",
   "metadata": {},
   "source": [
    "Write a Python function to find the first non-repeated element (i.e. the first element which occurs only once) in a list."
   ]
  },
  {
   "cell_type": "code",
   "execution_count": null,
   "metadata": {},
   "outputs": [],
   "source": []
  },
  {
   "cell_type": "markdown",
   "metadata": {},
   "source": [
    "Find all of the words in a string that are less than 4 letters."
   ]
  },
  {
   "cell_type": "code",
   "execution_count": null,
   "metadata": {},
   "outputs": [],
   "source": []
  }
 ],
 "metadata": {
  "kernelspec": {
   "display_name": "Python 3 (ipykernel)",
   "language": "python",
   "name": "python3"
  },
  "language_info": {
   "codemirror_mode": {
    "name": "ipython",
    "version": 3
   },
   "file_extension": ".py",
   "mimetype": "text/x-python",
   "name": "python",
   "nbconvert_exporter": "python",
   "pygments_lexer": "ipython3",
   "version": "3.9.16"
  }
 },
 "nbformat": 4,
 "nbformat_minor": 2
}
