{
 "cells": [
  {
   "attachments": {},
   "cell_type": "markdown",
   "metadata": {},
   "source": [
    "## List Comprehensions"
   ]
  },
  {
   "cell_type": "code",
   "execution_count": null,
   "metadata": {},
   "outputs": [],
   "source": [
    "# Creating a list of even numbers from 0 to 10\n",
    "even_numbers = [num for num in range(11) if num % 2 == 0]\n",
    "print(even_numbers)  # Output: [0, 2, 4, 6, 8, 10]"
   ]
  },
  {
   "cell_type": "code",
   "execution_count": null,
   "metadata": {},
   "outputs": [],
   "source": [
    "# Creating a list of squared numbers from 1 to 5\n",
    "squares = [num**2 for num in range(1, 6)]\n",
    "print(squares)  # Output: [1, 4, 9, 16, 25]"
   ]
  },
  {
   "cell_type": "code",
   "execution_count": null,
   "metadata": {},
   "outputs": [],
   "source": [
    "# Creating a list of strings with the first letter capitalized\n",
    "words = ['apple', 'banana', 'cherry']\n",
    "capitalized_words = [word.capitalize() for word in words]\n",
    "print(capitalized_words)  # Output: ['Apple', 'Banana', 'Cherry']\n"
   ]
  },
  {
   "cell_type": "code",
   "execution_count": null,
   "metadata": {},
   "outputs": [],
   "source": [
    "# Creating a list of tuples from two separate lists\n",
    "names = ['Alice', 'Bob', 'Charlie']\n",
    "ages = [25, 32, 18]\n",
    "people = [(name, age) for name, age in zip(names, ages)]\n",
    "print(people)  # Output: [('Alice', 25), ('Bob', 32), ('Charlie', 18)]\n"
   ]
  },
  {
   "cell_type": "code",
   "execution_count": null,
   "metadata": {},
   "outputs": [],
   "source": [
    "# Creating a list of nested lists\n",
    "nested_list = [[j for j in range(1, 4)] for i in range(3)]\n",
    "print(nested_list)  # Output: [[1, 2, 3], [1, 2, 3], [1, 2, 3]]\n"
   ]
  },
  {
   "cell_type": "code",
   "execution_count": null,
   "metadata": {},
   "outputs": [],
   "source": [
    "# Create a nested list of multiplication table from 1 to 10\n",
    "table = [[i*j for j in range(1,11)] for i in range(1,11)]\n",
    "for row in table:\n",
    "    print(row)"
   ]
  },
  {
   "cell_type": "code",
   "execution_count": null,
   "metadata": {},
   "outputs": [],
   "source": [
    "# Create a nested list of characters and their ASCII values for a given string\n",
    "string = \"Hello World\"\n",
    "ascii_list = [[char, ord(char)] for char in string]\n",
    "print(ascii_list)"
   ]
  },
  {
   "attachments": {},
   "cell_type": "markdown",
   "metadata": {},
   "source": [
    "## Dict Comprehensions"
   ]
  },
  {
   "cell_type": "code",
   "execution_count": null,
   "metadata": {},
   "outputs": [],
   "source": [
    "# Create a dictionary of letters and their frequencies in a given string\n",
    "string = \"Hello World\"\n",
    "letter_freq = {char:string.count(char) for char in set(string)}\n",
    "print(letter_freq)"
   ]
  },
  {
   "cell_type": "code",
   "execution_count": null,
   "metadata": {},
   "outputs": [],
   "source": [
    "# Creating a dictionary with keys and values from two separate lists\n",
    "keys = ['a', 'b', 'c']\n",
    "values = [1, 2, 3]\n",
    "my_dict = {key: value for key, value in zip(keys, values)}\n",
    "print(my_dict)  # Output: {'a': 1, 'b': 2, 'c': 3}"
   ]
  },
  {
   "cell_type": "code",
   "execution_count": 1,
   "metadata": {},
   "outputs": [
    {
     "name": "stdout",
     "output_type": "stream",
     "text": [
      "{1: 1, 2: 4, 3: 9, 4: 16, 5: 25}\n"
     ]
    }
   ],
   "source": [
    "# Creating a dictionary with values as the squares of keys from 1 to 5\n",
    "squares_dict = {num: num**2 for num in range(1, 6)}\n",
    "print(squares_dict) # Output: {1: 1, 2: 4, 3: 9, 4: 16, 5: 25}"
   ]
  },
  {
   "cell_type": "code",
   "execution_count": 2,
   "metadata": {},
   "outputs": [
    {
     "name": "stdout",
     "output_type": "stream",
     "text": [
      "{'H': 1, 'n': 2, 's': 1, ' ': 3, 'P': 1, 'e': 2, '3': 1, 'I': 1, 't': 3, 'S': 1, 'o': 2, 'l': 2, 'u': 1, 'd': 1, 'T': 1, 'h': 1, 'y': 1}\n"
     ]
    }
   ],
   "source": [
    "# Create a dictionary of letters and their frequencies in a given string:\n",
    "string = \"Hello TI3 Python Students\"\n",
    "letter_freq = {char:string.count(char) for char in set(string)}\n",
    "print(letter_freq)"
   ]
  },
  {
   "cell_type": "code",
   "execution_count": 3,
   "metadata": {},
   "outputs": [
    {
     "name": "stdout",
     "output_type": "stream",
     "text": [
      "{2: 'Even', 4: 'Even', 6: 'Even', 8: 'Even'}\n"
     ]
    }
   ],
   "source": [
    "# Create a dictionary of even numbers from a nested list\n",
    "nested_list = [[1,2,3], [4,5,6], [7,8,9]]\n",
    "even_dict = {num:\"Even\" for sublist in nested_list for num in sublist if num%2 == 0}\n",
    "print(even_dict)"
   ]
  },
  {
   "attachments": {},
   "cell_type": "markdown",
   "metadata": {},
   "source": [
    "## CHALLENGES\n",
    "The following challenges should be solved using list/dict operations and list/dict comprehensions:"
   ]
  },
  {
   "attachments": {},
   "cell_type": "markdown",
   "metadata": {},
   "source": [
    "Write a Python program to find the specified number of maximum values in a given dictionary.\n",
    "\n",
    "Example Dictionary: {'a': 5, 'b': 14, 'c': 32, 'd': 35, 'e': 24, 'f': 100, 'g': 57, 'h': 8, 'i': 100}\n",
    "\n",
    "Output should be:\n",
    "\n",
    "1 maximum value(s) in the said dictionary: ['f']\n",
    "\n",
    "2 maximum value(s) in the said dictionary: ['f', 'i']\n",
    "\n",
    "5 maximum value(s) in the said dictionary: ['f', 'i', 'g', 'd', 'c']"
   ]
  },
  {
   "cell_type": "code",
   "execution_count": null,
   "metadata": {},
   "outputs": [],
   "source": []
  },
  {
   "attachments": {},
   "cell_type": "markdown",
   "metadata": {},
   "source": [
    "Write a Python function to check if a list is a palindrome or not. Return true otherwise false."
   ]
  },
  {
   "cell_type": "code",
   "execution_count": null,
   "metadata": {},
   "outputs": [],
   "source": []
  },
  {
   "cell_type": "markdown",
   "metadata": {},
   "source": [
    "Write a Python function to find the first non-repeated element (i.e. the first element which occurs only once) in a list."
   ]
  },
  {
   "cell_type": "code",
   "execution_count": null,
   "metadata": {},
   "outputs": [],
   "source": []
  },
  {
   "cell_type": "markdown",
   "metadata": {},
   "source": [
    "Find all of the words in a string that are less than 4 letters."
   ]
  },
  {
   "cell_type": "code",
   "execution_count": null,
   "metadata": {},
   "outputs": [],
   "source": []
  }
 ],
 "metadata": {
  "kernelspec": {
   "display_name": "django",
   "language": "python",
   "name": "python3"
  },
  "language_info": {
   "codemirror_mode": {
    "name": "ipython",
    "version": 3
   },
   "file_extension": ".py",
   "mimetype": "text/x-python",
   "name": "python",
   "nbconvert_exporter": "python",
   "pygments_lexer": "ipython3",
   "version": "3.9.15"
  },
  "orig_nbformat": 4
 },
 "nbformat": 4,
 "nbformat_minor": 2
}
