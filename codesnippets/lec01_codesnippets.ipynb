{
 "cells": [
  {
   "cell_type": "code",
   "execution_count": null,
   "metadata": {},
   "outputs": [],
   "source": [
    "import openpyxl\n",
    "\n",
    "# Create a new Excel workbook\n",
    "workbook = openpyxl.Workbook()\n",
    "\n",
    "# Select the active worksheet\n",
    "worksheet = workbook.active\n",
    "\n",
    "# Write data to the worksheet\n",
    "worksheet['A1'] = 'Name'\n",
    "worksheet['B1'] = 'Age'\n",
    "worksheet['A2'] = 'Alice'\n",
    "worksheet['B2'] = 25\n",
    "worksheet['A3'] = 'Bob'\n",
    "worksheet['B3'] = 30\n",
    "\n",
    "# Save the workbook\n",
    "workbook.save('example.xlsx')\n",
    "\n",
    "# Load an existing workbook\n",
    "workbook = openpyxl.load_workbook('example.xlsx')\n",
    "\n",
    "# Select the active worksheet\n",
    "worksheet = workbook.active\n",
    "\n",
    "# Read data from the worksheet\n",
    "name = worksheet['A2'].value\n",
    "age = worksheet['B2'].value\n",
    "print(f\"{name} is {age} years old.\")\n",
    "\n",
    "# Iterate over rows and columns\n",
    "for row in worksheet.iter_rows(min_row=1, max_col=2):\n",
    "    for cell in row:\n",
    "        print(cell.value)"
   ]
  },
  {
   "cell_type": "code",
   "execution_count": null,
   "metadata": {},
   "outputs": [],
   "source": [
    "# Variablen und Datentypen - next lecture\n",
    "name = \"Max\"\n",
    "age = 25\n",
    "height = 1.75\n",
    "is_student = True"
   ]
  },
  {
   "cell_type": "code",
   "execution_count": null,
   "metadata": {},
   "outputs": [],
   "source": [
    "# Listen und Dictionaries - next lecture\n",
    "my_list = [1, 2, 3, 4, 5]\n",
    "my_dict = {\"name\": \"Max\", \"age\": 25}\n",
    "print(my_list[0:2])\n",
    "print(my_dict[\"name\"])"
   ]
  },
  {
   "cell_type": "code",
   "execution_count": null,
   "metadata": {},
   "outputs": [],
   "source": [
    "# Bedingungen und Schleifen - later lecture\n",
    "if age > 18:\n",
    "    print(\"You are an adult\")\n",
    "else:\n",
    "    print(\"You are not an adult\")\n",
    "\n",
    "for i in range(10):\n",
    "    print(i)"
   ]
  },
  {
   "cell_type": "code",
   "execution_count": null,
   "metadata": {},
   "outputs": [],
   "source": [
    "# Funktionen - later lecture\n",
    "def greet(name):\n",
    "    print(\"Hello, \" + name)\n",
    "\n",
    "greet(\"Max\")"
   ]
  },
  {
   "cell_type": "code",
   "execution_count": null,
   "metadata": {},
   "outputs": [],
   "source": [
    "# Datei lesen und schreiben - later lecture\n",
    "with open(\"file.txt\", \"w\") as f:\n",
    "    f.write(\"Hello, world\")\n",
    "\n",
    "with open(\"file.txt\", \"r\") as f:\n",
    "    content = f.read()\n",
    "    print(content)"
   ]
  },
  {
   "cell_type": "code",
   "execution_count": null,
   "metadata": {},
   "outputs": [],
   "source": [
    "'''In this example, we first import the random module and the string module. \n",
    "We then define the length of the password we want to generate (in this case, 12 characters) \n",
    "and create separate strings for letters, numbers, and symbols using the ascii_letters, digits, \n",
    "and punctuation constants from the string module, respectively.\n",
    "\n",
    "Next, we combine all the characters into a single string using the + operator, \n",
    "and use the join method and a for loop to select random characters from the combined string \n",
    "and build the password one character at a time. Finally, we print the generated password to the console.\n",
    "'''\n",
    "\n",
    "import random\n",
    "import string\n",
    "\n",
    "# Define the length of the password\n",
    "password_length = 12\n",
    "\n",
    "# Define the characters to include in the password\n",
    "letters = string.ascii_letters\n",
    "numbers = string.digits\n",
    "symbols = string.punctuation\n",
    "\n",
    "# Combine the characters into a single string\n",
    "all_chars = letters + numbers + symbols\n",
    "\n",
    "# Generate a random password by selecting characters at random\n",
    "password = ''.join(random.choice(all_chars) for i in range(password_length))\n",
    "\n",
    "# Print the password\n",
    "print(f\"Your new password is: {password}\")"
   ]
  },
  {
   "cell_type": "code",
   "execution_count": null,
   "metadata": {},
   "outputs": [],
   "source": [
    "# Quiz: What is this program doing?\n",
    "\n",
    "lower = 900\n",
    "upper = 1000\n",
    "\n",
    "print(\"Relevant numbers between\", lower, \"and\", upper, \"are:\")\n",
    "\n",
    "for num in range(lower, upper + 1):\n",
    "   # all relevant numbers are greater than 1\n",
    "   if num > 1:\n",
    "       for i in range(2, num):\n",
    "           if (num % i) == 0:\n",
    "               break\n",
    "       else:\n",
    "           print(num)"
   ]
  }
 ],
 "metadata": {
  "kernelspec": {
   "display_name": "django",
   "language": "python",
   "name": "python3"
  },
  "language_info": {
   "codemirror_mode": {
    "name": "ipython",
    "version": 3
   },
   "file_extension": ".py",
   "mimetype": "text/x-python",
   "name": "python",
   "nbconvert_exporter": "python",
   "pygments_lexer": "ipython3",
   "version": "3.9.15"
  },
  "orig_nbformat": 4,
  "vscode": {
   "interpreter": {
    "hash": "6c5fa8f91df119a8bf9b56eebc18f5f3d3701be29eabd3b6d82c4976dafa8730"
   }
  }
 },
 "nbformat": 4,
 "nbformat_minor": 2
}
